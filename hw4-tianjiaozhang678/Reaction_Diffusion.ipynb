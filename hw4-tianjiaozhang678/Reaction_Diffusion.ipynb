{
 "cells": [
  {
   "cell_type": "markdown",
   "metadata": {},
   "source": [
    "Before you turn in your homework, make sure everything runs as expected.\n",
    "\n",
    "Make sure you execute every single code cell, in order, filling with your solutions in any place that says `# YOUR CODE HERE`, and always DELETE the line that says:\n",
    "\n",
    "```python\n",
    "raise NotImplementedError()\n",
    "```\n",
    "\n",
    "The purpose of this line is to tell you if you forgot to answer a question (it will throw an error if the line is there)\n",
    "\n",
    "**IMPORTANT:**\n",
    "\n",
    "* **DO NOT DELETE ANY CELL** and do not change the title of the Notebook.\n",
    "\n",
    "* Use the same variable names as the ones written in the questions; otherwise, the tests will fail.\n",
    "\n",
    "* Before you turn in your homework, make sure everything runs as expected: restart the kernel (in the menubar, select Kernel $\\rightarrow$ Restart) and then run all cells (in the menubar, select Cell $\\rightarrow$ Run All).\n",
    "\n",
    "Fill your name below:"
   ]
  },
  {
   "cell_type": "code",
   "execution_count": null,
   "metadata": {},
   "outputs": [],
   "source": [
    "name = \"\""
   ]
  },
  {
   "cell_type": "markdown",
   "metadata": {
    "deletable": false,
    "editable": false,
    "nbgrader": {
     "checksum": "ab91eb75e802362c2e5cd08c795a2126",
     "grade": false,
     "grade_id": "md-license",
     "locked": true,
     "schema_version": 1,
     "solution": false
    }
   },
   "source": [
    "###### Content under Creative Commons Attribution license CC-BY 4.0, code under MIT license (c)2014 L.A. Barba, C.D. Cooper, G.F. Forsyth."
   ]
  },
  {
   "cell_type": "markdown",
   "metadata": {
    "deletable": false,
    "editable": false,
    "nbgrader": {
     "checksum": "b9ff99fe3a14565aa305e65a0dd49574",
     "grade": false,
     "grade_id": "md-title",
     "locked": true,
     "schema_version": 1,
     "solution": false
    }
   },
   "source": [
    "# Assignment 4: Reaction-diffusion model"
   ]
  },
  {
   "cell_type": "markdown",
   "metadata": {
    "deletable": false,
    "editable": false,
    "nbgrader": {
     "checksum": "150e89bbd30c1b21bb596f423af1ed32",
     "grade": false,
     "grade_id": "md-intro",
     "locked": true,
     "schema_version": 1,
     "solution": false
    }
   },
   "source": [
    "This Jupyter Notebook presents the context and set-up for the coding assignment of Module 4: _Spreading out: Diffusion problems_, of the course [**\"Practical Numerical Methods with Python\"**](https://github.com/numerical-mooc/numerical-mooc) (a.k.a., numericalmooc).\n",
    "\n",
    "So far in this module, we've studied diffusion in 1D and 2D. Now it's time to add in some more interesting physics.  You'll study a model represented by *reaction-diffusion* equations.  What are they?  The name says it all—it's a system that has the physics of diffusion but also has some kind of reaction that adds different behaviors to the solution.\n",
    "\n",
    "We're going to look at the _Gray-Scott model_, which simulates the interaction of two generic chemical species reacting and ... you guessed it ... diffusing! Some amazing patterns can emerge with simple reaction models, eerily reminiscent of patterns formed in nature. It's fascinating! Check out this simulation by Karl Sims posted on You Tube ... it looks like a growing coral reef, doesn't it?"
   ]
  },
  {
   "cell_type": "code",
   "execution_count": null,
   "metadata": {
    "deletable": false,
    "editable": false,
    "nbgrader": {
     "checksum": "ad1891f56e15b455197ed5557e20d07a",
     "grade": false,
     "grade_id": "code-video",
     "locked": true,
     "schema_version": 1,
     "solution": false
    }
   },
   "outputs": [],
   "source": [
    "from IPython.display import YouTubeVideo\n",
    "YouTubeVideo('8dTmUr5qKvI')"
   ]
  },
  {
   "cell_type": "markdown",
   "metadata": {
    "deletable": false,
    "editable": false,
    "nbgrader": {
     "checksum": "cf5e8c0be5ab132dbbba22a0f003f6c3",
     "grade": false,
     "grade_id": "md-model",
     "locked": true,
     "schema_version": 1,
     "solution": false
    }
   },
   "source": [
    "---\n",
    "\n",
    "## Gray-Scott model\n",
    "\n",
    "The Gray-Scott model represents the reaction and diffusion of two generic chemical species, $U$ and $V$, whose concentration at a point in space is represented by variables $u$ and $v$. The model follows some simple rules.  \n",
    "\n",
    "* Each chemical _diffuses_ through space at its own rate.\n",
    "* Species $U$ is added at a constant feed rate into the system.\n",
    "* Two units of species V can 'turn' a unit of species U into V: $\\; 2 V + U \\rightarrow 3 V$\n",
    "* There's a constant kill rate removing species $V$.\n",
    "\n",
    "This model results in the following system of partial differential equations for the concentrations $u(x,y,t)$ and $v(x,y,t)$ of both chemical species:\n",
    "\n",
    "$$\n",
    "\\begin{align}\n",
    "    \\frac{\\partial u}{\\partial t} &= D_u \\nabla^2 u - u v^2 + F (1 - u)\\\\\n",
    "    \\frac{\\partial v}{\\partial t} &= D_v \\nabla^2 v + u v^2 - (F + k) v\n",
    "\\end{align}\n",
    "$$\n",
    "\n",
    "You should see some familiar terms, and some unfamiliar ones.  On the left-hand side of each equation, we have the time rate of change of the concentrations. The first term on the right of each equation correspond to the spatial diffusion of each concentration, with $D_u$ and $D_v$ the respective rates of diffusion.\n",
    "\n",
    "In case you forgot, the operator $\\nabla ^2$ is the Laplacian:\n",
    "\n",
    "$$\n",
    "\\nabla ^2 u = \\frac{\\partial ^2 u}{\\partial x^2} + \\frac{\\partial ^2 u}{\\partial y^2}\n",
    "$$\n",
    "\n",
    "The second term on the right-hand side of each equation corresponds to the reaction. You see that this term decreases $u$ while it increases $v$ in the same amount: $uv^2$.  The reaction requires one unit of $U$ and two units of $V$,  resulting in a reaction rate proportional to the concentration $u$ and to the square of the concentration $v$. This result derives from the _law of mass action_, which we can explain in terms of probability: the odds of finding one molecule of species $U$ at a point in space is proportional to the concentration $u$, while the odds of finding two molecules of $V$ is proportional to the concentration squared, $v^2$. We assume here a reaction rate constant equal to $1$, which just means that the model is non-dimensionalized in some way.\n",
    "\n",
    "The final terms in the two equations are the \"feed\" and \"kill\" rates, respectively: $F(1-u)$ replenishes the species $U$ (which would otherwise run out, as it is being turned into $V$ by the reaction); $-(F+k)v$ is diminishing the species $V$ (otherwise the concentration $v$ would simply increase without bound). \n",
    "\n",
    "The values of $F$ and $k$ are chosen parameters and part of the fun of this assignment is to change these values, together with the diffusion constants, and see what happens."
   ]
  },
  {
   "cell_type": "markdown",
   "metadata": {
    "deletable": false,
    "editable": false,
    "nbgrader": {
     "checksum": "7735abe658d081dc9d6069a7972c97e8",
     "grade": false,
     "grade_id": "md-setup",
     "locked": true,
     "schema_version": 1,
     "solution": false
    }
   },
   "source": [
    "---\n",
    "\n",
    "## Problem setup\n",
    "\n",
    "The system is represented by two arrays, `U` and `V`, holding the discrete values of the concentrations $u$ and $v$, respectively.  We start by setting `U = 1` everywhere and `V = 0` everywhere, then introduce areas of difference, as initial conditions.  We then add a little noise to the whole system to help the $u$ and $v$ reactions along.  \n",
    "\n",
    "Below is the code segment we used to generate the initial conditions for `U` and `V`.  \n",
    "\n",
    "**NOTE**: *DO NOT USE THIS CODE IN YOUR ASSIGNMENT*.\n",
    "We are showing it here to help you understand how the system is constructed.  However, you _must use the data we've supplied below_ as your starting condition or your answers will not match those that the grading system expects.\n",
    "\n",
    "```python\n",
    "def create_initial_solution(n, num_blocks, r, v1, v2, noise):\n",
    "    randx = numpy.random.randint(1, n - 1, num_blocks)\n",
    "    randy = numpy.random.randint(1, n - 1, num_blocks)\n",
    "    u0 = numpy.ones((n, n))\n",
    "    v0 = numpy.zeros((n, n))\n",
    "    for i, j in zip(randx, randy):\n",
    "        i1, i2 = i - r, i + r\n",
    "        j1, j2 = j - r, j + r\n",
    "        u0[j1:j2, i1:i2] = v1\n",
    "        v0[j1:j2, i1:i2] = v2\n",
    "    u0 += noise * numpy.random.random((n, n))\n",
    "    v0 += noise * numpy.random.random((n, n))\n",
    "    return u0, v0\n",
    "\n",
    "u0, v0 = create_initial_solution(nx, 40, 10, 0.50, 0.25, 0.05)\n",
    "filepath = 'uvinitial.npz'\n",
    "with open(filepath, 'wb') as outfile:\n",
    "    numpy.savez(outfile, U=u0, V=v0)\n",
    "```"
   ]
  },
  {
   "cell_type": "markdown",
   "metadata": {
    "deletable": false,
    "editable": false,
    "nbgrader": {
     "checksum": "08317d398eb3d0479442fa208d9c2caf",
     "grade": false,
     "grade_id": "md-initial",
     "locked": true,
     "schema_version": 1,
     "solution": false
    }
   },
   "source": [
    "---\n",
    "\n",
    "## Initial condition data files\n",
    "\n",
    "We are going to load the initial solution of the species concentrations from the file `uvinitial.npz`.\n",
    "This is a NumPy save-file that contains two NumPy arrays, holding the initial values for `U` and `V`, respectively.  You can load and plot the initial data using the following code snippets."
   ]
  },
  {
   "cell_type": "code",
   "execution_count": null,
   "metadata": {
    "deletable": false,
    "editable": false,
    "nbgrader": {
     "checksum": "b9acf8a18cc73f17dfbfee0273bedcfb",
     "grade": false,
     "grade_id": "code-imports",
     "locked": true,
     "schema_version": 1,
     "solution": false
    }
   },
   "outputs": [],
   "source": [
    "import numpy\n",
    "from matplotlib import pyplot, cm\n",
    "%matplotlib inline"
   ]
  },
  {
   "cell_type": "code",
   "execution_count": null,
   "metadata": {
    "deletable": false,
    "editable": false,
    "nbgrader": {
     "checksum": "b00e074704c8e5fb166a2f1e9ccca9ac",
     "grade": false,
     "grade_id": "code-initial-load",
     "locked": true,
     "schema_version": 1,
     "solution": false
    }
   },
   "outputs": [],
   "source": [
    "# Load the initial data from file.\n",
    "filepath = 'uvinitial.npz'\n",
    "with open(filepath, 'rb') as infile:\n",
    "    data = numpy.load(infile)\n",
    "    u0, v0 = data['U'], data['V']"
   ]
  },
  {
   "cell_type": "code",
   "execution_count": null,
   "metadata": {
    "deletable": false,
    "editable": false,
    "nbgrader": {
     "checksum": "57295d7f272a0ad4de41393f53004dd4",
     "grade": false,
     "grade_id": "code-initial-plot",
     "locked": true,
     "schema_version": 1,
     "solution": false
    }
   },
   "outputs": [],
   "source": [
    "# Plot the initial data.\n",
    "fig, ax = pyplot.subplots(ncols=2, figsize=(9.0, 4.0))\n",
    "ax[0].set_title('$u$')\n",
    "ax[0].imshow(u0, cmap=cm.Greys_r)\n",
    "ax[0].axis('off')\n",
    "ax[1].set_title('$v$')\n",
    "ax[1].imshow(v0, cmap=cm.Greys_r)\n",
    "ax[1].axis('off');"
   ]
  },
  {
   "cell_type": "markdown",
   "metadata": {
    "deletable": false,
    "editable": false,
    "nbgrader": {
     "checksum": "de261e22ef4a1a33ae840cc485c171dc",
     "grade": false,
     "grade_id": "md-instructions",
     "locked": true,
     "schema_version": 1,
     "solution": false
    }
   },
   "source": [
    "---\n",
    "\n",
    "## Your assignment\n",
    "\n",
    "Compute the solution of the reaction-diffusion equations using the **midpoint method** (also called modified Euler's method) using a **central-difference discretization** for the spatial second-order derivatives.\n",
    "\n",
    "**Parameters:**\n",
    "\n",
    "* Rates of diffusion: $D_u = 0.00016$, $D_v = 0.00008$.\n",
    "* Feed and kill parameters: $F = 0.035$, $k = 0.060$.\n",
    "* Domain: $5 \\rm m \\times 5 \\rm m$.\n",
    "* Uniform grid with $192 \\times 192$ points ($\\Delta x = \\Delta y = \\delta$).\n",
    "* Time-step size: $\\Delta t = \\frac{9}{40} \\frac{\\delta^2}{\\max \\left( D_u, D_v \\right)}$.\n",
    "* Number of time steps: $nt = 1000$.\n",
    "* Use zero-gradient Neumann boundary conditions on all sides of the domain.\n",
    "\n",
    "Below is an animated gif showing the solution over $1000$ time steps (with $100$ time steps between two consecutive frames)."
   ]
  },
  {
   "cell_type": "code",
   "execution_count": null,
   "metadata": {
    "deletable": false,
    "editable": false,
    "nbgrader": {
     "checksum": "975fbb6a0e076d3d2fcb825c9dfb0fa5",
     "grade": false,
     "grade_id": "code-gif",
     "locked": true,
     "schema_version": 1,
     "solution": false
    }
   },
   "outputs": [],
   "source": [
    "from IPython.display import Image\n",
    "Image(filename=\"figures/zebrafish.gif\", width=400, height=400)"
   ]
  },
  {
   "cell_type": "markdown",
   "metadata": {
    "deletable": false,
    "editable": false,
    "nbgrader": {
     "checksum": "f6dd010d6e09936b4f0975e7de377e72",
     "grade": false,
     "grade_id": "md-solution",
     "locked": true,
     "schema_version": 1,
     "solution": false
    }
   },
   "source": [
    "---\n",
    "## Implement your solution (50 points)\n",
    "\n",
    "Implement your solution in this section.\n",
    "You can use as many code cells as you want."
   ]
  },
  {
   "cell_type": "code",
   "execution_count": null,
   "metadata": {
    "deletable": false,
    "nbgrader": {
     "checksum": "54cf5f4c50fa4a6889dbf49657111dae",
     "grade": true,
     "grade_id": "code-solution",
     "locked": false,
     "points": 50,
     "schema_version": 1,
     "solution": true
    }
   },
   "outputs": [],
   "source": [
    "# YOUR CODE HERE\n",
    "raise NotImplementedError()"
   ]
  },
  {
   "cell_type": "markdown",
   "metadata": {
    "deletable": false,
    "editable": false,
    "nbgrader": {
     "checksum": "4213ccd0a390334a7f106d294caa263b",
     "grade": false,
     "grade_id": "md-assessment",
     "locked": true,
     "schema_version": 1,
     "solution": false
    }
   },
   "source": [
    "---\n",
    "\n",
    "## Assessment\n",
    "\n",
    "Answer questions in this section.\n",
    "\n",
    "Do not try to delete or modify the cells that are already present.\n",
    "For each question, make sure to provide your answer in the cell **just above** the empty cell.\n",
    "(This empty cell contains hidden tests to assert the correctness of your answer and cannot be deleted.)"
   ]
  },
  {
   "cell_type": "code",
   "execution_count": null,
   "metadata": {
    "deletable": false,
    "editable": false,
    "nbgrader": {
     "checksum": "48ac5ae44fa503a89aa3c604a638d830",
     "grade": false,
     "grade_id": "code-mooc-import",
     "locked": true,
     "schema_version": 1,
     "solution": false
    }
   },
   "outputs": [],
   "source": [
    "import mooc"
   ]
  },
  {
   "cell_type": "markdown",
   "metadata": {
    "deletable": false,
    "editable": false,
    "nbgrader": {
     "checksum": "3a7a9a5da622402c834cca42651da41d",
     "grade": false,
     "grade_id": "md-question1",
     "locked": true,
     "schema_version": 1,
     "solution": false
    }
   },
   "source": [
    "* Q1 (10 points): Plot the concentration of the species $U$ at the final time (i.e., after $1000$ time steps)?"
   ]
  },
  {
   "cell_type": "code",
   "execution_count": null,
   "metadata": {
    "deletable": false,
    "nbgrader": {
     "checksum": "e542781adc80ed477d7ba2de1cafb76d",
     "grade": true,
     "grade_id": "code-answer1",
     "locked": false,
     "points": 10,
     "schema_version": 1,
     "solution": true
    }
   },
   "outputs": [],
   "source": [
    "# YOUR CODE HERE\n",
    "raise NotImplementedError()"
   ]
  },
  {
   "cell_type": "markdown",
   "metadata": {
    "deletable": false,
    "editable": false,
    "nbgrader": {
     "checksum": "5a2db27fb10809ee12d0ef13d134e7da",
     "grade": false,
     "grade_id": "md-question2",
     "locked": true,
     "schema_version": 1,
     "solution": false
    }
   },
   "source": [
    "* Q2 (10 points): After $1000$ time steps, what is the NumPy array returned by `u[100, ::40]` (replacing `u` with whatever the name of your $u$ array is)?\n",
    "\n",
    "Store your result in the variable `u_sample`; you can check your answer by calling the function `mooc.check('hw4_answer2', u_sample)`."
   ]
  },
  {
   "cell_type": "code",
   "execution_count": null,
   "metadata": {
    "deletable": false,
    "nbgrader": {
     "checksum": "44cf1ffb59a861534e541909524b07b3",
     "grade": false,
     "grade_id": "code-answer2",
     "locked": false,
     "schema_version": 1,
     "solution": true
    }
   },
   "outputs": [],
   "source": [
    "# YOUR CODE HERE\n",
    "raise NotImplementedError()"
   ]
  },
  {
   "cell_type": "code",
   "execution_count": null,
   "metadata": {
    "deletable": false,
    "editable": false,
    "nbgrader": {
     "checksum": "7181314b8d48fc6cc7020bf9870d0312",
     "grade": true,
     "grade_id": "code-test2",
     "locked": true,
     "points": 10,
     "schema_version": 1,
     "solution": false
    }
   },
   "outputs": [],
   "source": []
  },
  {
   "cell_type": "markdown",
   "metadata": {
    "deletable": false,
    "editable": false,
    "nbgrader": {
     "checksum": "92136dae4903433ab59cc830289c10f9",
     "grade": false,
     "grade_id": "md-question3",
     "locked": true,
     "schema_version": 1,
     "solution": false
    }
   },
   "source": [
    "* Q3 (10 points): After $1000$ time steps, what is the minimum of the concentration for the $U$ species?\n",
    "\n",
    "Store your result in the variable `u_min`; you can check your answer by calling the function `mooc.check('hw4_answer3', u_min)`."
   ]
  },
  {
   "cell_type": "code",
   "execution_count": null,
   "metadata": {
    "deletable": false,
    "nbgrader": {
     "checksum": "0736834133e3eb88d6c0b674092b37e2",
     "grade": false,
     "grade_id": "code-answer3",
     "locked": false,
     "schema_version": 1,
     "solution": true
    }
   },
   "outputs": [],
   "source": [
    "# YOUR CODE HERE\n",
    "raise NotImplementedError()"
   ]
  },
  {
   "cell_type": "code",
   "execution_count": null,
   "metadata": {
    "deletable": false,
    "editable": false,
    "nbgrader": {
     "checksum": "bf54802f7da86dc1d892cb895fae5e91",
     "grade": true,
     "grade_id": "code-test3",
     "locked": true,
     "points": 10,
     "schema_version": 1,
     "solution": false
    }
   },
   "outputs": [],
   "source": []
  },
  {
   "cell_type": "markdown",
   "metadata": {
    "deletable": false,
    "editable": false,
    "nbgrader": {
     "checksum": "e442321331acc8b27d2941d5ad9553f5",
     "grade": false,
     "grade_id": "md-question4",
     "locked": true,
     "schema_version": 1,
     "solution": false
    }
   },
   "source": [
    "* Q4 (10 points): After $1000$ time steps, what are the row and column indices of the minimum concentration for the $U$ species?\n",
    "\n",
    "Store the row index in the variable `row` and the column index in the variable `col`; you can check your answer by calling the function `mooc.check('hw4_answer4', row, col)`."
   ]
  },
  {
   "cell_type": "code",
   "execution_count": null,
   "metadata": {
    "deletable": false,
    "nbgrader": {
     "checksum": "128d72e5de3f80e615121e757f41d90f",
     "grade": false,
     "grade_id": "code-answer4",
     "locked": false,
     "schema_version": 1,
     "solution": true
    }
   },
   "outputs": [],
   "source": [
    "# YOUR CODE HERE\n",
    "raise NotImplementedError()"
   ]
  },
  {
   "cell_type": "code",
   "execution_count": null,
   "metadata": {
    "deletable": false,
    "editable": false,
    "nbgrader": {
     "checksum": "7ea55aac3251beea53896902ab8bd9ad",
     "grade": true,
     "grade_id": "code-test4",
     "locked": true,
     "points": 10,
     "schema_version": 1,
     "solution": false
    }
   },
   "outputs": [],
   "source": []
  },
  {
   "cell_type": "markdown",
   "metadata": {
    "deletable": false,
    "editable": false,
    "nbgrader": {
     "checksum": "9c911765f625745594ec28cbd2e31673",
     "grade": false,
     "grade_id": "md-question5",
     "locked": true,
     "schema_version": 1,
     "solution": false
    }
   },
   "source": [
    "* Q5 (10 points): After $1000$ time steps, what is the maximum value in the $91^{\\rm {th}}$ row of the 2D array with the concentration for the $V$ species?\n",
    "\n",
    "Store your answer in the variable `v_max`; you can check your answer by calling the function `mooc.check('hw4_answer5', v_max)`."
   ]
  },
  {
   "cell_type": "code",
   "execution_count": null,
   "metadata": {
    "deletable": false,
    "nbgrader": {
     "checksum": "5b478ed078c39a44f1f098306ee3b4e4",
     "grade": false,
     "grade_id": "code-answer5",
     "locked": false,
     "schema_version": 1,
     "solution": true
    }
   },
   "outputs": [],
   "source": [
    "# YOUR CODE HERE\n",
    "raise NotImplementedError()"
   ]
  },
  {
   "cell_type": "code",
   "execution_count": null,
   "metadata": {
    "deletable": false,
    "editable": false,
    "nbgrader": {
     "checksum": "b2215b6150d1df32b700b1acc1502f18",
     "grade": true,
     "grade_id": "code-test5",
     "locked": true,
     "points": 10,
     "schema_version": 1,
     "solution": false
    }
   },
   "outputs": [],
   "source": []
  },
  {
   "cell_type": "markdown",
   "metadata": {
    "deletable": false,
    "editable": false,
    "nbgrader": {
     "checksum": "5f4f084a4d168a1f80adfa38df2b2384",
     "grade": false,
     "grade_id": "md-extra",
     "locked": true,
     "schema_version": 1,
     "solution": false
    }
   },
   "source": [
    "---\n",
    "\n",
    "## Exploring extra patterns\n",
    "\n",
    "Once you have completed the assignment, you might want to explore a few more of the interesting patterns that can be obtained with the Gray-Scott model.  The conditions below will result in a variety of patterns and should work without any other changes to your existing code."
   ]
  },
  {
   "cell_type": "code",
   "execution_count": null,
   "metadata": {
    "deletable": false,
    "editable": false,
    "nbgrader": {
     "checksum": "86c8d8ea57251a1c27b959ad587f75e1",
     "grade": false,
     "grade_id": "code-extra",
     "locked": true,
     "schema_version": 1,
     "solution": false
    }
   },
   "outputs": [],
   "source": [
    "#Du, Dv, F, k = 0.00014, 0.00006, 0.035, 0.065 # Bacteria 2\n",
    "#Du, Dv, F, k = 0.00016, 0.00008, 0.060, 0.062 # Coral\n",
    "#Du, Dv, F, k = 0.00019, 0.00005, 0.060, 0.062 # Fingerprint\n",
    "#Du, Dv, F, k = 0.00010, 0.00010, 0.018, 0.050 # Spirals\n",
    "#Du, Dv, F, k = 0.00012, 0.00008, 0.020, 0.050 # Spirals Dense\n",
    "#Du, Dv, F, k = 0.00010, 0.00016, 0.020, 0.050 # Spirals Fast\n",
    "#Du, Dv, F, k = 0.00016, 0.00008, 0.020, 0.055 # Unstable\n",
    "#Du, Dv, F, k = 0.00016, 0.00008, 0.050, 0.065 # Worms 1\n",
    "#Du, Dv, F, k = 0.00016, 0.00008, 0.054, 0.063 # Worms 2\n",
    "#Du, Dv, F, k = 0.00016, 0.00008, 0.035, 0.060 # Zebrafish"
   ]
  },
  {
   "cell_type": "markdown",
   "metadata": {
    "deletable": false,
    "editable": false,
    "nbgrader": {
     "checksum": "376d655c9ef6113e531947baef706a05",
     "grade": false,
     "grade_id": "md-references",
     "locked": true,
     "schema_version": 1,
     "solution": false
    }
   },
   "source": [
    "---\n",
    "\n",
    "## References\n",
    "\n",
    "*  Reaction-diffusion tutorial, by Karl Sims\n",
    "http://www.karlsims.com/rd.html\n",
    "\n",
    "*  Pearson, J. E. (1993). [Complex patterns in a simple system](http://www.sciencemag.org/content/261/5118/189), _Science_, Vol. 261(5118), 189-192 // [PDF](http://www3.nd.edu/~powers/pearson.pdf) from nd.edu.\n",
    "\n",
    "*  Pattern Parameters from [http://www.aliensaint.com/uo/java/rd/](http://www.aliensaint.com/uo/java/rd/)"
   ]
  },
  {
   "cell_type": "markdown",
   "metadata": {
    "deletable": false,
    "editable": false,
    "nbgrader": {
     "checksum": "aaaa1c0b297f879c1669e75ba73c7418",
     "grade": false,
     "grade_id": "md-style",
     "locked": true,
     "schema_version": 1,
     "solution": false
    }
   },
   "source": [
    "---\n",
    "###### The cell below loads the style of the notebook"
   ]
  },
  {
   "cell_type": "code",
   "execution_count": null,
   "metadata": {
    "deletable": false,
    "editable": false,
    "nbgrader": {
     "checksum": "ee763da5d9f5ea1a655648c3dff336c0",
     "grade": false,
     "grade_id": "code-style",
     "locked": true,
     "schema_version": 1,
     "solution": false
    }
   },
   "outputs": [],
   "source": [
    "from IPython.core.display import HTML\n",
    "css_file = './styles/numericalmoocstyle.css'\n",
    "HTML(open(css_file, 'r').read())"
   ]
  }
 ],
 "metadata": {
  "kernelspec": {
   "display_name": "Python 3 (MOOC)",
   "language": "python",
   "name": "py36-mooc"
  },
  "language_info": {
   "codemirror_mode": {
    "name": "ipython",
    "version": 3
   },
   "file_extension": ".py",
   "mimetype": "text/x-python",
   "name": "python",
   "nbconvert_exporter": "python",
   "pygments_lexer": "ipython3",
   "version": "3.6.5"
  }
 },
 "nbformat": 4,
 "nbformat_minor": 2
}
