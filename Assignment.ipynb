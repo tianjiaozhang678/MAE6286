{
 "cells": [
  {
   "cell_type": "code",
   "execution_count": 1,
   "metadata": {},
   "outputs": [],
   "source": [
    "import numpy \n",
    "from matplotlib import pyplot\n",
    "%matplotlib inline"
   ]
  },
  {
   "cell_type": "code",
   "execution_count": 2,
   "metadata": {},
   "outputs": [],
   "source": [
    "pyplot.rcParams['font.family'] = 'serif'\n",
    "pyplot.rcParams['font.size'] = 16"
   ]
  },
  {
   "cell_type": "code",
   "execution_count": 3,
   "metadata": {},
   "outputs": [],
   "source": [
    "g = 9.81\n",
    "ms = 50.0\n",
    "mp0 = 100.0\n",
    "dot_mp = 20.0\n",
    "A = numpy.pi * 0.5**2\n",
    "Ve = 325.0\n",
    "density = 1.091\n",
    "CD = 0.15\n",
    "\n",
    "\n",
    "\n",
    "v0 = 0.0\n",
    "h0 = 0.0"
   ]
  },
  {
   "cell_type": "code",
   "execution_count": 4,
   "metadata": {},
   "outputs": [],
   "source": [
    "def rhs_rocket(u, g, dot_mp, Ve, M, density, A, CD):\n",
    "    \n",
    "    h, v = u\n",
    "    rhs = numpy.array([v,\n",
    "                       -g + dot_mp * Ve / M - 1 / (2*M) * density * v * abs(v) * A * CD])\n",
    "    \n",
    "    return rhs"
   ]
  },
  {
   "cell_type": "code",
   "execution_count": 5,
   "metadata": {},
   "outputs": [],
   "source": [
    "def rhs2_rocket(u, g, ms, density, A, CD):\n",
    "    \n",
    "    h, v = u\n",
    "    rhs = numpy.array([v,\n",
    "                       -g - 1 / (2*ms) * density * v * abs(v) * A * CD])\n",
    "    \n",
    "    return rhs"
   ]
  },
  {
   "cell_type": "code",
   "execution_count": 6,
   "metadata": {},
   "outputs": [],
   "source": [
    "T = 40.0\n",
    "dt = 0.1\n",
    "N = int(T / dt) + 1\n",
    "\n",
    "\n",
    "M = numpy.empty(N)\n",
    "for n in range(N - 1):\n",
    "    if n < 50:\n",
    "        M[n] = ms + mp0 - dot_mp * n * dt\n",
    "    else:\n",
    "        M[n] = ms"
   ]
  },
  {
   "cell_type": "code",
   "execution_count": 7,
   "metadata": {},
   "outputs": [
    {
     "data": {
      "text/plain": [
       "50.0"
      ]
     },
     "execution_count": 7,
     "metadata": {},
     "output_type": "execute_result"
    }
   ],
   "source": [
    "M[50]"
   ]
  },
  {
   "cell_type": "code",
   "execution_count": 8,
   "metadata": {},
   "outputs": [],
   "source": [
    "def euler_step(u, f, dt, *args):\n",
    "    u_new = u + dt * f(u, *args)\n",
    "    return u_new"
   ]
  },
  {
   "cell_type": "code",
   "execution_count": 9,
   "metadata": {},
   "outputs": [],
   "source": [
    "u = numpy.empty((N, 2))\n",
    "u[0] = numpy.array([h0, v0])\n",
    "\n",
    "\n",
    "for n in range(N - 1):\n",
    "    if n < 50:\n",
    "        u[n + 1] = euler_step(u[n], rhs_rocket, dt, g, dot_mp, Ve, M[n], density, A, CD)\n",
    "    else:\n",
    "        u[n + 1] = euler_step(u[n], rhs2_rocket, dt, g, ms, density, A, CD)"
   ]
  },
  {
   "cell_type": "code",
   "execution_count": 10,
   "metadata": {},
   "outputs": [],
   "source": [
    "h = u[:, 0]\n",
    "v = u[:, 1]"
   ]
  },
  {
   "cell_type": "code",
   "execution_count": 11,
   "metadata": {},
   "outputs": [],
   "source": [
    "idx_negative_v = numpy.where(v < 0.0)[0]\n",
    "if len(idx_negative_v) == 0:\n",
    "    idx_top_altitude = N - 1\n",
    "    print('[H] Rocket has reached top altitude!')\n",
    "else:\n",
    "    idx_top_altitude = idx_negative_v[0]"
   ]
  },
  {
   "cell_type": "code",
   "execution_count": 12,
   "metadata": {},
   "outputs": [
    {
     "data": {
      "text/plain": [
       "157"
      ]
     },
     "execution_count": 12,
     "metadata": {},
     "output_type": "execute_result"
    }
   ],
   "source": [
    "idx_top_altitude"
   ]
  },
  {
   "cell_type": "code",
   "execution_count": 13,
   "metadata": {},
   "outputs": [
    {
     "name": "stdout",
     "output_type": "stream",
     "text": [
      "232.1061334126179\n"
     ]
    }
   ],
   "source": [
    "ind = numpy.argmax(v)\n",
    "print(v[ind])"
   ]
  },
  {
   "cell_type": "code",
   "execution_count": 14,
   "metadata": {},
   "outputs": [
    {
     "data": {
      "text/plain": [
       "523.5228342918476"
      ]
     },
     "execution_count": 14,
     "metadata": {},
     "output_type": "execute_result"
    }
   ],
   "source": [
    "h[50]"
   ]
  },
  {
   "cell_type": "code",
   "execution_count": 15,
   "metadata": {},
   "outputs": [
    {
     "data": {
      "text/plain": [
       "232.1061334126179"
      ]
     },
     "execution_count": 15,
     "metadata": {},
     "output_type": "execute_result"
    }
   ],
   "source": [
    "v[50]"
   ]
  },
  {
   "cell_type": "code",
   "execution_count": 16,
   "metadata": {},
   "outputs": [
    {
     "data": {
      "text/plain": [
       "1334.1829454303067"
      ]
     },
     "execution_count": 16,
     "metadata": {},
     "output_type": "execute_result"
    }
   ],
   "source": [
    "h[157]"
   ]
  },
  {
   "cell_type": "code",
   "execution_count": 17,
   "metadata": {},
   "outputs": [],
   "source": [
    "idx_negative_h = numpy.where(h < 0.0)[0]\n",
    "if len(idx_negative_h) == 0:\n",
    "    idx_landing = N - 1\n",
    "    print('[H] Rocket has landed!')\n",
    "else:\n",
    "    idx_landing = idx_negative_h[0]"
   ]
  },
  {
   "cell_type": "code",
   "execution_count": 18,
   "metadata": {},
   "outputs": [
    {
     "data": {
      "text/plain": [
       "371"
      ]
     },
     "execution_count": 18,
     "metadata": {},
     "output_type": "execute_result"
    }
   ],
   "source": [
    "idx_landing"
   ]
  },
  {
   "cell_type": "code",
   "execution_count": 19,
   "metadata": {},
   "outputs": [
    {
     "data": {
      "text/plain": [
       "6.139010041875997"
      ]
     },
     "execution_count": 19,
     "metadata": {},
     "output_type": "execute_result"
    }
   ],
   "source": [
    "h[370]"
   ]
  },
  {
   "cell_type": "code",
   "execution_count": 20,
   "metadata": {},
   "outputs": [
    {
     "data": {
      "text/plain": [
       "-85.9759134803524"
      ]
     },
     "execution_count": 20,
     "metadata": {},
     "output_type": "execute_result"
    }
   ],
   "source": [
    "v[370]"
   ]
  },
  {
   "cell_type": "code",
   "execution_count": 21,
   "metadata": {},
   "outputs": [
    {
     "name": "stdout",
     "output_type": "stream",
     "text": [
      "6.261904761904762\n"
     ]
    }
   ],
   "source": [
    "a = numpy.linspace(4,23,43)\n",
    "print(a[5])"
   ]
  },
  {
   "cell_type": "code",
   "execution_count": 22,
   "metadata": {},
   "outputs": [
    {
     "name": "stdout",
     "output_type": "stream",
     "text": [
      "0.9900910096418035\n"
     ]
    }
   ],
   "source": [
    "p = 7\n",
    "r = numpy.array([11.2, 4.7, 6.6])\n",
    "\n",
    "B = numpy.array((numpy.sin(p/r))**3)\n",
    "print(B[1])"
   ]
  },
  {
   "cell_type": "code",
   "execution_count": null,
   "metadata": {},
   "outputs": [],
   "source": []
  }
 ],
 "metadata": {
  "kernelspec": {
   "display_name": "Python 3",
   "language": "python",
   "name": "python3"
  },
  "language_info": {
   "codemirror_mode": {
    "name": "ipython",
    "version": 3
   },
   "file_extension": ".py",
   "mimetype": "text/x-python",
   "name": "python",
   "nbconvert_exporter": "python",
   "pygments_lexer": "ipython3",
   "version": "3.6.2"
  }
 },
 "nbformat": 4,
 "nbformat_minor": 2
}
