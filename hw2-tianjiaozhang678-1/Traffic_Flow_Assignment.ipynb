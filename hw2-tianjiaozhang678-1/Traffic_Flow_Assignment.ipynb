{
 "cells": [
  {
   "cell_type": "markdown",
   "metadata": {},
   "source": [
    "Before you turn in your homework, make sure everything runs as expected.\n",
    "\n",
    "Make sure you execute every single code cell, in order, filling with your solutions in any place that says `# YOUR CODE HERE`, and always DELETE the line that says:\n",
    "\n",
    "```python\n",
    "raise NotImplementedError()\n",
    "```\n",
    "\n",
    "The purpose of this line is to tell you if you forgot to answer a question (it will throw an error if the line is there)\n",
    "\n",
    "**IMPORTANT:**\n",
    "\n",
    "* **DO NOT DELETE ANY CELL** and do not change the title of the Notebook.\n",
    "\n",
    "* Use the same variable names as the ones written in the questions; otherwise, the tests will fail.\n",
    "\n",
    "* Before you turn in your homework, make sure everything runs as expected: restart the kernel (in the menubar, select Kernel $\\rightarrow$ Restart) and then run all cells (in the menubar, select Cell $\\rightarrow$ Run All).\n",
    "\n",
    "Fill your name below:"
   ]
  },
  {
   "cell_type": "code",
   "execution_count": 1,
   "metadata": {},
   "outputs": [],
   "source": [
    "name = \"Tianjiao Zhang\""
   ]
  },
  {
   "cell_type": "markdown",
   "metadata": {
    "deletable": false,
    "editable": false,
    "nbgrader": {
     "checksum": "990e7126f53c1be4dd585046afaf5b7f",
     "grade": false,
     "grade_id": "md-title",
     "locked": true,
     "schema_version": 1,
     "solution": false
    }
   },
   "source": [
    "# Assignment: Traffic Flow\n",
    "---"
   ]
  },
  {
   "cell_type": "markdown",
   "metadata": {
    "deletable": false,
    "editable": false,
    "nbgrader": {
     "checksum": "4b8b0dc1174e1587354d292a1971dc5d",
     "grade": false,
     "grade_id": "md-intro",
     "locked": true,
     "schema_version": 1,
     "solution": false
    }
   },
   "source": [
    "Consider the flow of traffic on a one-lane highway.\n",
    "How can we describe the general behavior of this system?\n",
    "\n",
    "We can define the speed of traffic, $V$, in kilometers per hour.\n",
    "We can also define a traffic density, the number of cars per unit length of highway, $\\rho$, in cars per kilometer.\n",
    "Finally, we can define a traffic flux, or the flow rate of cars, $F$,in cars per hour.\n",
    "\n",
    "Now make a few assumptions about how traffic moves.\n",
    "\n",
    "If $\\rho$ approaches $0$, i.e. there are very few cars on the road, then cars will drive as fast as they can at some $V_\\text{max}$.\n",
    "\n",
    "Conversely, if cars are bumper to bumper along the road, then $\\rho$ approaches a $\\rho_\\text{max}$ and $V$ approaches $0$.\n",
    "\n",
    "One possible equation to describe this behavior is\n",
    "\n",
    "$$\n",
    "\\begin{equation}\n",
    "    V = V_\\text{max} \\left( 1 - \\frac{\\rho}{\\rho_\\text{max}} \\right)\n",
    "\\end{equation}\n",
    "$$\n",
    "\n",
    "If we describe the traffic flux, $F$ as $F = \\rho V$, then\n",
    "\n",
    "$$\n",
    "\\begin{equation}\n",
    "    F = F \\left( \\rho \\right) = V \\left( \\rho \\right) \\rho = V_\\text{max} \\rho \\left( 1 - \\frac{\\rho}{\\rho_{max}} \\right)\n",
    "\\end{equation}\n",
    "$$\n",
    "\n",
    "Unsteady traffic flow can be modeled as the non-linear convection of car density, so we apply the non-linear convection equation with $V$, the wave speed, equal to $\\frac{\\partial F}{\\partial \\rho}$:\n",
    "\n",
    "$$\n",
    "\\begin{equation}\n",
    "    \\frac{\\partial \\rho}{\\partial t} + \\frac{\\partial F}{\\partial \\rho} \\frac{\\partial \\rho}{\\partial x} = 0\n",
    "\\end{equation}\n",
    "$$\n",
    "\n",
    "Applying the chain rule of calculus, this becomes\n",
    "\n",
    "$$\n",
    "\\begin{equation}\n",
    "    \\frac{\\partial \\rho}{\\partial t} + \\frac{\\partial F}{\\partial x} = 0\n",
    "\\end{equation}\n",
    "$$\n",
    "\n",
    "where $F$ is defined as above.\n",
    "\n",
    "You will integrate the traffic flow equation using the modified Euler's method (also called midpoint method or Runge-Kutta second-order method) and discretize the first-order spatial derivative using a backward-difference quotient.\n",
    "\n",
    "Examine a stretch of road $22$ kilometers long using the following conditions:\n",
    "\n",
    "* $V_\\text{max} = 80 \\; \\text{km/h}$\n",
    "* $L = 22 \\; \\text{km}$\n",
    "* $\\rho_\\text{max} = 250 \\; \\text{cars/km}$\n",
    "* $nx = 101$ (number of points to discretize the road of length $L$)\n",
    "* $\\Delta t = 0.001 \\; \\text{hours}$"
   ]
  },
  {
   "cell_type": "markdown",
   "metadata": {
    "deletable": false,
    "editable": false,
    "nbgrader": {
     "checksum": "5ae1eddbbf28b519cfcb79a496ed28c8",
     "grade": false,
     "grade_id": "md-solution-title",
     "locked": true,
     "schema_version": 1,
     "solution": false
    }
   },
   "source": [
    "## Implement your solution\n",
    "---"
   ]
  },
  {
   "cell_type": "markdown",
   "metadata": {
    "deletable": false,
    "editable": false,
    "nbgrader": {
     "checksum": "f873a556d7b97202b716e772ffb666b6",
     "grade": false,
     "grade_id": "md-solution-instructions",
     "locked": true,
     "schema_version": 1,
     "solution": false
    }
   },
   "source": [
    "Implement your solution in this section.\n",
    "You can use as many code cells as you want."
   ]
  },
  {
   "cell_type": "code",
   "execution_count": 2,
   "metadata": {
    "deletable": false,
    "nbgrader": {
     "checksum": "9282cb12ba57f3cc48c3f31f948142bf",
     "grade": true,
     "grade_id": "code-solution",
     "locked": false,
     "points": 30,
     "schema_version": 1,
     "solution": true
    }
   },
   "outputs": [],
   "source": [
    "import numpy\n",
    "from matplotlib import pyplot\n",
    "%matplotlib inline"
   ]
  },
  {
   "cell_type": "code",
   "execution_count": 3,
   "metadata": {},
   "outputs": [],
   "source": [
    "pyplot.rcParams['font.family'] = 'serif'\n",
    "pyplot.rcParams['font.size'] = 16"
   ]
  },
  {
   "cell_type": "markdown",
   "metadata": {
    "deletable": false,
    "editable": false,
    "nbgrader": {
     "checksum": "4760953a1a38c786a85bb6a400472a24",
     "grade": false,
     "grade_id": "md-assessment-title",
     "locked": true,
     "schema_version": 1,
     "solution": false
    }
   },
   "source": [
    "## Assessment\n",
    "---"
   ]
  },
  {
   "cell_type": "markdown",
   "metadata": {
    "deletable": false,
    "editable": false,
    "nbgrader": {
     "checksum": "e9bfa814cc2e9d4908790a3c94e658b2",
     "grade": false,
     "grade_id": "md-assessment-instructions",
     "locked": true,
     "schema_version": 1,
     "solution": false
    }
   },
   "source": [
    "Answer questions in this section.\n",
    "\n",
    "Do not try to delete or modify the cells that are already present. For each question, make sure to provide your answer in the cell above the empty cell.\n",
    "(This empty cell contains hidden tests to assert the correctness of your answer and cannot be deleted.)"
   ]
  },
  {
   "cell_type": "code",
   "execution_count": 4,
   "metadata": {
    "deletable": false,
    "editable": false,
    "nbgrader": {
     "checksum": "f8914d2c8f6576bac4decd73ed8b0b31",
     "grade": false,
     "grade_id": "import-mooc",
     "locked": true,
     "schema_version": 1,
     "solution": false
    }
   },
   "outputs": [],
   "source": [
    "# Import module to check your answers.\n",
    "import mooc"
   ]
  },
  {
   "cell_type": "markdown",
   "metadata": {
    "deletable": false,
    "editable": false,
    "nbgrader": {
     "checksum": "38acc897c0d6a283bd95235512845326",
     "grade": false,
     "grade_id": "md-partA",
     "locked": true,
     "schema_version": 1,
     "solution": false
    }
   },
   "source": [
    "### Part A\n",
    "\n",
    "Use the following initial condition\n",
    "\n",
    "$$\n",
    "\\begin{equation}\n",
    "    \\rho_0 = \\rho \\left(x, t = 0 \\right) =\n",
    "    \\begin{cases}\n",
    "        50 \\quad \\text{if} \\; 2 \\leq x \\leq 4.2 \\\\\n",
    "        10 \\quad \\text{otherwise}\n",
    "    \\end{cases}\n",
    "    ,\\quad \\forall x \\in \\left[ 0, L \\right]\n",
    "\\end{equation}\n",
    "$$\n",
    "\n",
    "and the following boundary condition\n",
    "\n",
    "$$\n",
    "\\begin{equation}\n",
    "    \\rho \\left( x=0, t \\right) = \\rho \\left( x=L, t \\right) = 10, \\quad \\forall t\n",
    "\\end{equation}\n",
    "$$\n",
    "\n",
    "to answer questions Q1, Q2, Q3, and Q4."
   ]
  },
  {
   "cell_type": "code",
   "execution_count": 5,
   "metadata": {
    "deletable": false,
    "nbgrader": {
     "checksum": "0229d9c478d6fad8cb3b94fc31160c15",
     "grade": true,
     "grade_id": "code-partA-params",
     "locked": false,
     "points": 0,
     "schema_version": 1,
     "solution": true
    }
   },
   "outputs": [],
   "source": [
    "def sokudo(rho):\n",
    "    V = Vmax * (1 - rho/rho_max)\n",
    "    return V"
   ]
  },
  {
   "cell_type": "code",
   "execution_count": 6,
   "metadata": {},
   "outputs": [],
   "source": [
    "nx = 101\n",
    "L = 22.0\n",
    "dx = L / (nx - 1)\n",
    "dt = 0.001\n",
    "c = 1.0\n",
    "\n",
    "x = numpy.linspace(0.0, L, num=nx)"
   ]
  },
  {
   "cell_type": "code",
   "execution_count": 7,
   "metadata": {},
   "outputs": [],
   "source": [
    "rho0 = numpy.ones(nx)*10\n",
    "rho0[10:20] = 50"
   ]
  },
  {
   "cell_type": "code",
   "execution_count": 8,
   "metadata": {},
   "outputs": [
    {
     "data": {
      "image/png": "[encoded data removed]",
      "text/plain": [
       "<Figure size 288x288 with 1 Axes>"
      ]
     },
     "metadata": {},
     "output_type": "display_data"
    }
   ],
   "source": [
    "pyplot.figure(figsize=(4.0, 4.0))\n",
    "pyplot.title('Initial conditions')\n",
    "pyplot.xlabel('x')\n",
    "pyplot.ylabel('rho')\n",
    "pyplot.grid()\n",
    "pyplot.plot(x, rho0, color='C0', linestyle='--', linewidth=2)\n",
    "pyplot.xlim(0.0, L)\n",
    "pyplot.ylim(0.0, 60.0);"
   ]
  },
  {
   "cell_type": "code",
   "execution_count": 9,
   "metadata": {},
   "outputs": [],
   "source": [
    "Vmax = 80\n",
    "rho_max = 250\n",
    "nt = 50\n",
    "rho = rho0.copy()\n",
    "for n in range(1, nt):\n",
    "    rho[1:] = rho[1:] - Vmax * c * dt / dx * ((rho[1:] - rho[:-1]) - 1/rho_max * (rho[1:]**2 - rho[:-1]**2))"
   ]
  },
  {
   "cell_type": "code",
   "execution_count": 10,
   "metadata": {},
   "outputs": [
    {
     "data": {
      "image/png": "[encoded data removed]",
      "text/plain": [
       "<Figure size 288x288 with 1 Axes>"
      ]
     },
     "metadata": {},
     "output_type": "display_data"
    }
   ],
   "source": [
    "pyplot.figure(figsize=(4.0, 4.0))\n",
    "pyplot.xlabel('x')\n",
    "pyplot.ylabel('rho')\n",
    "pyplot.grid()\n",
    "pyplot.plot(x, rho0, label='Initial',\n",
    "            color='C0', linestyle='--', linewidth=2)\n",
    "pyplot.plot(x, rho, label='nt = {}'.format(nt),\n",
    "            color='C1', linestyle='-', linewidth=2)\n",
    "pyplot.legend()\n",
    "pyplot.xlim(0.0, L)\n",
    "pyplot.ylim(0.0, 60.0);"
   ]
  },
  {
   "cell_type": "code",
   "execution_count": 11,
   "metadata": {},
   "outputs": [
    {
     "name": "stdout",
     "output_type": "stream",
     "text": [
      "20.977777777777796\n"
     ]
    }
   ],
   "source": [
    "sum1 = 0.0\n",
    "for i in range(nx - 1):\n",
    "    sum1 += sokudo(rho[i])\n",
    "    \n",
    "AV = sum1 / (nx-1) / 3.6\n",
    "print(AV)"
   ]
  },
  {
   "cell_type": "code",
   "execution_count": 12,
   "metadata": {},
   "outputs": [
    {
     "data": {
      "image/png": "[encoded data removed]",
      "text/plain": [
       "<Figure size 648x288 with 1 Axes>"
      ]
     },
     "metadata": {},
     "output_type": "display_data"
    }
   ],
   "source": [
    "nt = 100\n",
    "rho2 = rho0.copy()\n",
    "for n in range(1, nt):\n",
    "    rho2[1:] = rho2[1:] - Vmax * c * dt / dx * ((rho2[1:] - rho2[:-1]) - 1/rho_max * (rho2[1:]**2 - rho2[:-1]**2))\n",
    "\n",
    "    \n",
    "pyplot.figure(figsize=(9.0, 4.0))\n",
    "pyplot.xlabel('x')\n",
    "pyplot.ylabel('rho')\n",
    "pyplot.grid()\n",
    "pyplot.plot(x, rho0, label='Initial',\n",
    "            color='C0', linestyle='--', linewidth=2)\n",
    "pyplot.plot(x, rho2, label='nt = {}'.format(nt),\n",
    "            color='C1', linestyle='-', linewidth=2)\n",
    "pyplot.legend()\n",
    "pyplot.xlim(0.0, L)\n",
    "pyplot.ylim(0.0, 60.0);"
   ]
  },
  {
   "cell_type": "markdown",
   "metadata": {
    "deletable": false,
    "editable": false,
    "nbgrader": {
     "checksum": "576048d755655db07d4ed4c9331b235b",
     "grade": false,
     "grade_id": "md-question1",
     "locked": true,
     "schema_version": 1,
     "solution": false
    }
   },
   "source": [
    "* Q1: What's the minimum initial velocity in meters per second?\n",
    "\n",
    "Store your result in the variable `v0_min`; you can check your answer by calling the function `mooc.check('hw2_answer1', v0_min)`."
   ]
  },
  {
   "cell_type": "code",
   "execution_count": 13,
   "metadata": {
    "deletable": false,
    "nbgrader": {
     "checksum": "4dff6cef2e439ad4965a30c670634072",
     "grade": false,
     "grade_id": "code-answer1",
     "locked": false,
     "schema_version": 1,
     "solution": true
    }
   },
   "outputs": [
    {
     "name": "stdout",
     "output_type": "stream",
     "text": [
      "[hw2_answer1] Good job!\n"
     ]
    }
   ],
   "source": [
    "v0_min = Vmax * (1 - 50/rho_max) / 3.6\n",
    "mooc.check('hw2_answer1', v0_min)"
   ]
  },
  {
   "cell_type": "code",
   "execution_count": null,
   "metadata": {
    "deletable": false,
    "editable": false,
    "nbgrader": {
     "checksum": "e3fd88785cc5c0689f082f75f58d68c2",
     "grade": true,
     "grade_id": "code-check1",
     "locked": true,
     "points": 5,
     "schema_version": 1,
     "solution": false
    }
   },
   "outputs": [],
   "source": []
  },
  {
   "cell_type": "markdown",
   "metadata": {
    "deletable": false,
    "editable": false,
    "nbgrader": {
     "checksum": "5a919a989201b2a98db7381be14452d2",
     "grade": false,
     "grade_id": "md-question2",
     "locked": true,
     "schema_version": 1,
     "solution": false
    }
   },
   "source": [
    "* Q2: What's the average velocity, in meters per second, along the road after $3$ minutes?\n",
    "\n",
    "Store your result in the variable `v3_mean`; you can check your answer with the function `mooc.check('hw2_answer2', v3_mean)`."
   ]
  },
  {
   "cell_type": "code",
   "execution_count": 14,
   "metadata": {
    "deletable": false,
    "nbgrader": {
     "checksum": "44cf1ffb59a861534e541909524b07b3",
     "grade": false,
     "grade_id": "code-answer2",
     "locked": false,
     "schema_version": 1,
     "solution": true
    }
   },
   "outputs": [
    {
     "name": "stdout",
     "output_type": "stream",
     "text": [
      "[hw2_answer2] Good job!\n"
     ]
    }
   ],
   "source": [
    "v3_mean = AV\n",
    "mooc.check('hw2_answer2', v3_mean)"
   ]
  },
  {
   "cell_type": "code",
   "execution_count": null,
   "metadata": {
    "deletable": false,
    "editable": false,
    "nbgrader": {
     "checksum": "1c86d4f1c553033adb9135d8720c45f3",
     "grade": true,
     "grade_id": "code-check2",
     "locked": true,
     "points": 10,
     "schema_version": 1,
     "solution": false
    }
   },
   "outputs": [],
   "source": []
  },
  {
   "cell_type": "markdown",
   "metadata": {
    "deletable": false,
    "editable": false,
    "nbgrader": {
     "checksum": "52a07311e4cfde493345d81e9838223d",
     "grade": false,
     "grade_id": "md-question3",
     "locked": true,
     "schema_version": 1,
     "solution": false
    }
   },
   "source": [
    "* Q3: What's the minimum velocity, in meters per second, after $6$ minutes?\n",
    "\n",
    "Store your result in the variable `v6_min`; you can check your answer with the function `mooc.check('hw2_answer3', v6_min)`."
   ]
  },
  {
   "cell_type": "code",
   "execution_count": 15,
   "metadata": {
    "deletable": false,
    "nbgrader": {
     "checksum": "0736834133e3eb88d6c0b674092b37e2",
     "grade": false,
     "grade_id": "code-answer3",
     "locked": false,
     "schema_version": 1,
     "solution": true
    }
   },
   "outputs": [
    {
     "name": "stdout",
     "output_type": "stream",
     "text": [
      "18.77665161471831\n",
      "[hw2_answer3] Try again!\n"
     ]
    }
   ],
   "source": [
    "ind = numpy.argmax(rho2)\n",
    "v6_min = sokudo(rho2[ind])/3.6\n",
    "print(v6_min)\n",
    "mooc.check('hw2_answer3', v6_min)"
   ]
  },
  {
   "cell_type": "code",
   "execution_count": null,
   "metadata": {
    "deletable": false,
    "editable": false,
    "nbgrader": {
     "checksum": "4d968db8c22db063ee1a96de39381f80",
     "grade": true,
     "grade_id": "code-check3",
     "locked": true,
     "points": 10,
     "schema_version": 1,
     "solution": false
    }
   },
   "outputs": [],
   "source": []
  },
  {
   "cell_type": "markdown",
   "metadata": {
    "deletable": false,
    "editable": false,
    "nbgrader": {
     "checksum": "e4f63452294a178c9336d27d1304878f",
     "grade": false,
     "grade_id": "md-question4",
     "locked": true,
     "schema_version": 1,
     "solution": false
    }
   },
   "source": [
    "* Q4: What's the maximum car density, in cars per kilometer, along the road after 6 minutes?\n",
    "\n",
    "Store you result in the variable `rho6_max`; you can check your answer with `mooc.check('hw2_answer4', rho6_max)`."
   ]
  },
  {
   "cell_type": "code",
   "execution_count": 16,
   "metadata": {
    "deletable": false,
    "nbgrader": {
     "checksum": "128d72e5de3f80e615121e757f41d90f",
     "grade": false,
     "grade_id": "code-answer4",
     "locked": false,
     "schema_version": 1,
     "solution": true
    }
   },
   "outputs": [
    {
     "name": "stdout",
     "output_type": "stream",
     "text": [
      "38.762669334418995\n",
      "[hw2_answer3] Try again!\n"
     ]
    }
   ],
   "source": [
    "print(rho2[ind])\n",
    "rho6_max = rho2[ind]\n",
    "mooc.check('hw2_answer3', rho6_max)"
   ]
  },
  {
   "cell_type": "code",
   "execution_count": null,
   "metadata": {
    "deletable": false,
    "editable": false,
    "nbgrader": {
     "checksum": "a943b01630804ea1dcf4895f91327b30",
     "grade": true,
     "grade_id": "code-check4",
     "locked": true,
     "points": 10,
     "schema_version": 1,
     "solution": false
    }
   },
   "outputs": [],
   "source": []
  },
  {
   "cell_type": "markdown",
   "metadata": {
    "deletable": false,
    "editable": false,
    "nbgrader": {
     "checksum": "389de36ed5a1796b710865ae0ba82639",
     "grade": false,
     "grade_id": "md-partB",
     "locked": true,
     "schema_version": 1,
     "solution": false
    }
   },
   "source": [
    "### Part B\n",
    "\n",
    "Now, set $V_\\text{max} = 136 \\; \\text{km/hr}$ and redo the simulations using the following initial condition for the traffic density\n",
    "\n",
    "$$\n",
    "\\begin{equation}\n",
    "    \\rho_0 = \\rho \\left(x, t = 0 \\right) =\n",
    "    \\begin{cases}\n",
    "        50 \\quad \\text{if} \\; 2 \\leq x \\leq 4.2 \\\\\n",
    "        20 \\quad \\text{otherwise}\n",
    "    \\end{cases}\n",
    "    ,\\quad \\forall x \\in \\left[ 0, L \\right]\n",
    "\\end{equation}\n",
    "$$\n",
    "\n",
    "and the following boundary condition\n",
    "\n",
    "$$\n",
    "\\begin{equation}\n",
    "    \\rho \\left( x=0, t \\right) = \\rho \\left( x=L, t \\right) = 20, \\quad \\forall t\n",
    "\\end{equation}\n",
    "$$\n",
    "\n",
    "Redo the simulations to answer questions Q5, Q6, Q7, and Q8."
   ]
  },
  {
   "cell_type": "code",
   "execution_count": 17,
   "metadata": {},
   "outputs": [],
   "source": [
    "rho0 = numpy.ones(nx)*20\n",
    "rho0[10:20] = 50"
   ]
  },
  {
   "cell_type": "code",
   "execution_count": 18,
   "metadata": {
    "deletable": false,
    "nbgrader": {
     "checksum": "4eba1b5b3888ff21df45b2ca50de0bd8",
     "grade": true,
     "grade_id": "code-partB-params",
     "locked": false,
     "points": 0,
     "schema_version": 1,
     "solution": true
    }
   },
   "outputs": [],
   "source": [
    "Vmax = 136\n",
    "rho_max = 250\n",
    "nt = 50\n",
    "rho3 = rho0.copy()\n",
    "for n in range(1, nt):\n",
    "    rho3[1:] = rho3[1:] - Vmax * c * dt / dx * ((rho3[1:] - rho3[:-1]) - 1/rho_max * (rho3[1:]**2 - rho3[:-1]**2))"
   ]
  },
  {
   "cell_type": "code",
   "execution_count": 19,
   "metadata": {},
   "outputs": [
    {
     "name": "stdout",
     "output_type": "stream",
     "text": [
      "34.302222222222284\n"
     ]
    }
   ],
   "source": [
    "sum2 = 0.0\n",
    "for i in range(nx - 1):\n",
    "    sum2 += sokudo(rho3[i])\n",
    "    \n",
    "AV2 = sum2 / (nx-1) / 3.6\n",
    "print(AV2)"
   ]
  },
  {
   "cell_type": "markdown",
   "metadata": {
    "deletable": false,
    "editable": false,
    "nbgrader": {
     "checksum": "2cae15795e0b94108f3eb303369d86eb",
     "grade": false,
     "grade_id": "md-question5",
     "locked": true,
     "schema_version": 1,
     "solution": false
    }
   },
   "source": [
    "* Q5: What's the minimum initial velocity in meters per second?\n",
    "\n",
    "Store your result in the variable `v0_min2`; you can check your answer by calling the function `mooc.check('hw2_answer5', v0_min2)`."
   ]
  },
  {
   "cell_type": "code",
   "execution_count": 20,
   "metadata": {
    "deletable": false,
    "nbgrader": {
     "checksum": "5b478ed078c39a44f1f098306ee3b4e4",
     "grade": false,
     "grade_id": "code-answer5",
     "locked": false,
     "schema_version": 1,
     "solution": true
    }
   },
   "outputs": [
    {
     "name": "stdout",
     "output_type": "stream",
     "text": [
      "[hw2_answer5] Good job!\n"
     ]
    }
   ],
   "source": [
    "v0_min2 = Vmax * (1 - 50/rho_max) / 3.6\n",
    "mooc.check('hw2_answer5', v0_min2)"
   ]
  },
  {
   "cell_type": "code",
   "execution_count": null,
   "metadata": {
    "deletable": false,
    "editable": false,
    "nbgrader": {
     "checksum": "404838a195c1b6df5ec3017bb8bff668",
     "grade": true,
     "grade_id": "code-check5",
     "locked": true,
     "points": 5,
     "schema_version": 1,
     "solution": false
    }
   },
   "outputs": [],
   "source": []
  },
  {
   "cell_type": "markdown",
   "metadata": {
    "deletable": false,
    "editable": false,
    "nbgrader": {
     "checksum": "966dbc256a1df9e15f8f07675ee01abf",
     "grade": false,
     "grade_id": "md-question6",
     "locked": true,
     "schema_version": 1,
     "solution": false
    }
   },
   "source": [
    "* Q6: What's the average velocity, in meters per second, along the road after $3$ minutes?\n",
    "\n",
    "Store your result in the variable `v3_mean2`; you can check your answer with the function `mooc.check('hw2_answer6', v3_mean2)`."
   ]
  },
  {
   "cell_type": "code",
   "execution_count": 21,
   "metadata": {
    "deletable": false,
    "nbgrader": {
     "checksum": "823d72b98a21ac5071ad9215cb3286a7",
     "grade": false,
     "grade_id": "code-answer6",
     "locked": false,
     "schema_version": 1,
     "solution": true
    }
   },
   "outputs": [
    {
     "name": "stdout",
     "output_type": "stream",
     "text": [
      "34.302222222222284\n",
      "[hw2_answer6] Good job!\n"
     ]
    }
   ],
   "source": [
    "print(AV2)\n",
    "v3_mean2 = AV2\n",
    "mooc.check('hw2_answer6', v3_mean2)"
   ]
  },
  {
   "cell_type": "code",
   "execution_count": null,
   "metadata": {
    "deletable": false,
    "editable": false,
    "nbgrader": {
     "checksum": "7afea1f6d8431644cd85f0db0d9748f2",
     "grade": true,
     "grade_id": "code-check6",
     "locked": true,
     "points": 10,
     "schema_version": 1,
     "solution": false
    }
   },
   "outputs": [],
   "source": []
  },
  {
   "cell_type": "markdown",
   "metadata": {
    "deletable": false,
    "editable": false,
    "nbgrader": {
     "checksum": "919341c62e4b85ec414b707e64f17cef",
     "grade": false,
     "grade_id": "md-question7",
     "locked": true,
     "schema_version": 1,
     "solution": false
    }
   },
   "source": [
    "* Q7: What's the minimum velocity, in meters per second, after $6$ minutes?\n",
    "\n",
    "Store your result in the variable `v6_min2`; you can check your answer with the function `mooc.check('hw2_answer7', v6_min2)`."
   ]
  },
  {
   "cell_type": "code",
   "execution_count": 22,
   "metadata": {
    "deletable": false,
    "nbgrader": {
     "checksum": "ae6fd2b4349c8f65d96930ebf34f7708",
     "grade": false,
     "grade_id": "code-answer7",
     "locked": false,
     "schema_version": 1,
     "solution": true
    }
   },
   "outputs": [
    {
     "name": "stdout",
     "output_type": "stream",
     "text": [
      "36.06023195414827\n",
      "[hw2_answer7] Try again!\n"
     ]
    }
   ],
   "source": [
    "print(sokudo(rho[ind])/3.6)\n",
    "v6_min2 = sokudo(rho[ind])/3.6\n",
    "mooc.check('hw2_answer7', v6_min2)"
   ]
  },
  {
   "cell_type": "code",
   "execution_count": null,
   "metadata": {
    "deletable": false,
    "editable": false,
    "nbgrader": {
     "checksum": "7028c16ea5540aad2d219b553df71065",
     "grade": true,
     "grade_id": "code-check7",
     "locked": true,
     "points": 10,
     "schema_version": 1,
     "solution": false
    }
   },
   "outputs": [],
   "source": []
  },
  {
   "cell_type": "markdown",
   "metadata": {
    "deletable": false,
    "editable": false,
    "nbgrader": {
     "checksum": "9480bb6b3109ce7cd2aa69406b9337b7",
     "grade": false,
     "grade_id": "md-question8",
     "locked": true,
     "schema_version": 1,
     "solution": false
    }
   },
   "source": [
    "* Q8: What's the average car density, in cars per kilometer, along the road after 6 minutes?\n",
    "\n",
    "Store your result in the variable `rho6_mean2`; you can check your answer with the function `mooc.check('hw2_answer8', rho6_mean2)`."
   ]
  },
  {
   "cell_type": "code",
   "execution_count": 23,
   "metadata": {
    "deletable": false,
    "nbgrader": {
     "checksum": "10829256c390c256ef9c6cfc19f3719d",
     "grade": false,
     "grade_id": "code-answer8",
     "locked": false,
     "schema_version": 1,
     "solution": true
    }
   },
   "outputs": [
    {
     "name": "stdout",
     "output_type": "stream",
     "text": [
      "45.657630846029186\n",
      "[hw2_answer8] Try again!\n"
     ]
    }
   ],
   "source": [
    "ind = numpy.argmax(rho)\n",
    "print(rho[ind])\n",
    "rho6_mean2 = rho[ind]\n",
    "mooc.check('hw2_answer8', rho6_mean2)"
   ]
  },
  {
   "cell_type": "code",
   "execution_count": null,
   "metadata": {
    "deletable": false,
    "editable": false,
    "nbgrader": {
     "checksum": "2fb6a0eb055c02d77a295a2f61d7c2bf",
     "grade": true,
     "grade_id": "code-check8",
     "locked": true,
     "points": 10,
     "schema_version": 1,
     "solution": false
    }
   },
   "outputs": [],
   "source": []
  },
  {
   "cell_type": "markdown",
   "metadata": {
    "deletable": false,
    "editable": false,
    "nbgrader": {
     "checksum": "2d33abb80e843920aae121a20911a457",
     "grade": false,
     "grade_id": "md-style",
     "locked": true,
     "schema_version": 1,
     "solution": false
    }
   },
   "source": [
    "---\n",
    "###### The cell below loads the style of the notebook."
   ]
  },
  {
   "cell_type": "code",
   "execution_count": 24,
   "metadata": {
    "deletable": false,
    "editable": false,
    "nbgrader": {
     "checksum": "ee763da5d9f5ea1a655648c3dff336c0",
     "grade": false,
     "grade_id": "code-style",
     "locked": true,
     "schema_version": 1,
     "solution": false
    }
   },
   "outputs": [
    {
     "data": {
      "text/html": [
       "<link href='http://fonts.googleapis.com/css?family=Alegreya+Sans:100,300,400,500,700,800,900,100italic,300italic,400italic,500italic,700italic,800italic,900italic' rel='stylesheet' type='text/css'>\n",
       "<link href='http://fonts.googleapis.com/css?family=Arvo:400,700,400italic' rel='stylesheet' type='text/css'>\n",
       "<link href='http://fonts.googleapis.com/css?family=PT+Mono' rel='stylesheet' type='text/css'>\n",
       "<link href='http://fonts.googleapis.com/css?family=Shadows+Into+Light' rel='stylesheet' type='text/css'>\n",
       "<link href='http://fonts.googleapis.com/css?family=Nixie+One' rel='stylesheet' type='text/css'>\n",
       "<link href='https://fonts.googleapis.com/css?family=Source+Code+Pro' rel='stylesheet' type='text/css'>\n",
       "<style>\n",
       "\n",
       "@font-face {\n",
       "    font-family: \"Computer Modern\";\n",
       "    src: url('http://mirrors.ctan.org/fonts/cm-unicode/fonts/otf/cmunss.otf');\n",
       "}\n",
       "\n",
       "#notebook_panel { /* main background */\n",
       "    background: rgb(245,245,245);\n",
       "}\n",
       "\n",
       "div.cell { /* set cell width */\n",
       "    width: 750px;\n",
       "}\n",
       "\n",
       "div #notebook { /* centre the content */\n",
       "    background: #fff; /* white background for content */\n",
       "    width: 1000px;\n",
       "    margin: auto;\n",
       "    padding-left: 0em;\n",
       "}\n",
       "\n",
       "#notebook li { /* More space between bullet points */\n",
       "    margin-top:0.8em;\n",
       "}\n",
       "\n",
       "/* draw border around running cells */\n",
       "div.cell.border-box-sizing.code_cell.running { \n",
       "    border: 1px solid #111;\n",
       "}\n",
       "\n",
       "/* Put a solid color box around each cell and its output, visually linking them*/\n",
       "div.cell.code_cell {\n",
       "    background-color: rgb(256,256,256); \n",
       "    border-radius: 0px; \n",
       "    padding: 0.5em;\n",
       "    margin-left:1em;\n",
       "    margin-top: 1em;\n",
       "}\n",
       "\n",
       "div.text_cell_render{\n",
       "    font-family: 'Alegreya Sans' sans-serif;\n",
       "    line-height: 140%;\n",
       "    font-size: 125%;\n",
       "    font-weight: 400;\n",
       "    width:600px;\n",
       "    margin-left:auto;\n",
       "    margin-right:auto;\n",
       "}\n",
       "\n",
       "\n",
       "/* Formatting for header cells */\n",
       ".text_cell_render h1 {\n",
       "    font-family: 'Nixie One', serif;\n",
       "    font-style:regular;\n",
       "    font-weight: 400;    \n",
       "    font-size: 45pt;\n",
       "    line-height: 100%;\n",
       "    color: rgb(0,51,102);\n",
       "    margin-bottom: 0.5em;\n",
       "    margin-top: 0.5em;\n",
       "    display: block;\n",
       "}\n",
       "\n",
       ".text_cell_render h2 {\n",
       "    font-family: 'Nixie One', serif;\n",
       "    font-weight: 400;\n",
       "    font-size: 30pt;\n",
       "    line-height: 100%;\n",
       "    color: rgb(0,51,102);\n",
       "    margin-bottom: 0.1em;\n",
       "    margin-top: 0.3em;\n",
       "    display: block;\n",
       "}\t\n",
       "\n",
       ".text_cell_render h3 {\n",
       "    font-family: 'Nixie One', serif;\n",
       "    margin-top:16px;\n",
       "    font-size: 22pt;\n",
       "    font-weight: 600;\n",
       "    margin-bottom: 3px;\n",
       "    font-style: regular;\n",
       "    color: rgb(102,102,0);\n",
       "}\n",
       "\n",
       ".text_cell_render h4 {    /*Use this for captions*/\n",
       "    font-family: 'Nixie One', serif;\n",
       "    font-size: 14pt;\n",
       "    text-align: center;\n",
       "    margin-top: 0em;\n",
       "    margin-bottom: 2em;\n",
       "    font-style: regular;\n",
       "}\n",
       "\n",
       ".text_cell_render h5 {  /*Use this for small titles*/\n",
       "    font-family: 'Nixie One', sans-serif;\n",
       "    font-weight: 400;\n",
       "    font-size: 16pt;\n",
       "    color: rgb(163,0,0);\n",
       "    font-style: italic;\n",
       "    margin-bottom: .1em;\n",
       "    margin-top: 0.8em;\n",
       "    display: block;\n",
       "}\n",
       "\n",
       ".text_cell_render h6 { /*use this for copyright note*/\n",
       "    font-family: 'PT Mono', sans-serif;\n",
       "    font-weight: 300;\n",
       "    font-size: 9pt;\n",
       "    line-height: 100%;\n",
       "    color: grey;\n",
       "    margin-bottom: 1px;\n",
       "    margin-top: 1px;\n",
       "}\n",
       "\n",
       ".CodeMirror{\n",
       "    font-family: \"Source Code Pro\";\n",
       "    font-size: 90%;\n",
       "}\n",
       "\n",
       ".alert-box {\n",
       "    padding:10px 10px 10px 36px;\n",
       "    margin:5px;\n",
       "}\n",
       "\n",
       ".success {\n",
       "    color:#666600;\n",
       "    background:rgb(240,242,229);\n",
       "}\n",
       "</style>\n",
       "\n",
       "<script>\n",
       "    MathJax.Hub.Config({\n",
       "                        TeX: {\n",
       "                            extensions: [\"AMSmath.js\"],\n",
       "                            equationNumbers: { autoNumber: \"AMS\", useLabelIds: true}\n",
       "                            },\n",
       "                        tex2jax: {\n",
       "                            inlineMath: [ ['$','$'], [\"\\\\(\",\"\\\\)\"] ],\n",
       "                            displayMath: [ ['$$','$$'], [\"\\\\[\",\"\\\\]\"] ]\n",
       "                            },\n",
       "                        displayAlign: 'center', // Change this to 'center' to center equations.\n",
       "                        \"HTML-CSS\": {\n",
       "                            styles: {'.MathJax_Display': {\"margin\": 4}}\n",
       "                            }\n",
       "                        });\n",
       "    MathJax.Hub.Queue(\n",
       "                      [\"resetEquationNumbers\", MathJax.InputJax.TeX],\n",
       "                      [\"PreProcess\", MathJax.Hub],\n",
       "                      [\"Reprocess\", MathJax.Hub]\n",
       "                     );\n",
       "</script>\n"
      ],
      "text/plain": [
       "<IPython.core.display.HTML object>"
      ]
     },
     "execution_count": 24,
     "metadata": {},
     "output_type": "execute_result"
    }
   ],
   "source": [
    "from IPython.core.display import HTML\n",
    "css_file = './styles/numericalmoocstyle.css'\n",
    "HTML(open(css_file, 'r').read())"
   ]
  }
 ],
 "metadata": {
  "kernelspec": {
   "display_name": "Python 3",
   "language": "python",
   "name": "python3"
  },
  "language_info": {
   "codemirror_mode": {
    "name": "ipython",
    "version": 3
   },
   "file_extension": ".py",
   "mimetype": "text/x-python",
   "name": "python",
   "nbconvert_exporter": "python",
   "pygments_lexer": "ipython3",
   "version": "3.6.2"
  }
 },
 "nbformat": 4,
 "nbformat_minor": 2
}
