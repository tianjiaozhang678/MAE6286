{
 "cells": [
  {
   "cell_type": "code",
   "execution_count": 1,
   "metadata": {},
   "outputs": [],
   "source": [
    "import sympy\n",
    "sympy.init_printing()\n",
    "\n",
    "(u_max, u_star, rho_max,\n",
    " rho_star, A, B) = sympy.symbols('u_max u_star rho_max rho_star A B')"
   ]
  },
  {
   "cell_type": "code",
   "execution_count": 2,
   "metadata": {},
   "outputs": [],
   "source": [
    "eq1 = sympy.Eq(0, u_max * rho_max * (1 - A * rho_max - B * rho_max**2))\n",
    "eq2 = sympy.Eq(0, u_max * (1 - 2 * A * rho_star - 3 * B * rho_star**2))\n",
    "eq3 = sympy.Eq(u_star, u_max * (1 - A * rho_star - B * rho_star**2))"
   ]
  },
  {
   "cell_type": "code",
   "execution_count": 3,
   "metadata": {},
   "outputs": [
    {
     "data": {
      "image/png": "[encoded data removed]",
      "text/latex": [
       "$$0 = \\rho_{max} u_{max} \\left(- A \\rho_{max} - B \\rho_{max}^{2} + 1\\right)$$"
      ],
      "text/plain": [
       "              ⎛                2    ⎞\n",
       "0 = ρₘₐₓ⋅uₘₐₓ⋅⎝-A⋅ρₘₐₓ - B⋅ρₘₐₓ  + 1⎠"
      ]
     },
     "execution_count": 3,
     "metadata": {},
     "output_type": "execute_result"
    }
   ],
   "source": [
    "eq1"
   ]
  },
  {
   "cell_type": "code",
   "execution_count": 4,
   "metadata": {},
   "outputs": [
    {
     "data": {
      "image/png": "[encoded data removed]",
      "text/latex": [
       "$$0 = u_{max} \\left(- 2 A \\rho_{star} - 3 B \\rho_{star}^{2} + 1\\right)$$"
      ],
      "text/plain": [
       "         ⎛                      2    ⎞\n",
       "0 = uₘₐₓ⋅⎝-2⋅A⋅ρₛₜₐᵣ - 3⋅B⋅ρₛₜₐᵣ  + 1⎠"
      ]
     },
     "execution_count": 4,
     "metadata": {},
     "output_type": "execute_result"
    }
   ],
   "source": [
    "eq2"
   ]
  },
  {
   "cell_type": "code",
   "execution_count": 5,
   "metadata": {},
   "outputs": [
    {
     "data": {
      "image/png": "[encoded data removed]",
      "text/latex": [
       "$$u_{star} = u_{max} \\left(- A \\rho_{star} - B \\rho_{star}^{2} + 1\\right)$$"
      ],
      "text/plain": [
       "             ⎛                  2    ⎞\n",
       "uₛₜₐᵣ = uₘₐₓ⋅⎝-A⋅ρₛₜₐᵣ - B⋅ρₛₜₐᵣ  + 1⎠"
      ]
     },
     "execution_count": 5,
     "metadata": {},
     "output_type": "execute_result"
    }
   ],
   "source": [
    "eq3"
   ]
  },
  {
   "cell_type": "code",
   "execution_count": 6,
   "metadata": {},
   "outputs": [
    {
     "data": {
      "image/png": "[encoded data removed]",
      "text/latex": [
       "$$\\left(0 = u_{max} \\left(- 2 A \\rho_{star} - 3 B \\rho_{star}^{2} + 1\\right)\\right) - 3 \\left(u_{star} = u_{max} \\left(- A \\rho_{star} - B \\rho_{star}^{2} + 1\\right)\\right)$$"
      ],
      "text/plain": [
       "⎛         ⎛                      2    ⎞⎞     ⎛             ⎛                  \n",
       "⎝0 = uₘₐₓ⋅⎝-2⋅A⋅ρₛₜₐᵣ - 3⋅B⋅ρₛₜₐᵣ  + 1⎠⎠ - 3⋅⎝uₛₜₐᵣ = uₘₐₓ⋅⎝-A⋅ρₛₜₐᵣ - B⋅ρₛₜₐᵣ\n",
       "\n",
       "2    ⎞⎞\n",
       "  + 1⎠⎠"
      ]
     },
     "execution_count": 6,
     "metadata": {},
     "output_type": "execute_result"
    }
   ],
   "source": [
    "eq2 - 3 * eq3"
   ]
  },
  {
   "cell_type": "code",
   "execution_count": 7,
   "metadata": {},
   "outputs": [
    {
     "data": {
      "image/png": "[encoded data removed]",
      "text/latex": [
       "$$- 3 u_{star} = u_{max} \\left(- 2 A \\rho_{star} - 3 B \\rho_{star}^{2} + 1\\right) - 3 u_{max} \\left(- A \\rho_{star} - B \\rho_{star}^{2} + 1\\right)$$"
      ],
      "text/plain": [
       "                ⎛                      2    ⎞          ⎛                  2   \n",
       "-3⋅uₛₜₐᵣ = uₘₐₓ⋅⎝-2⋅A⋅ρₛₜₐᵣ - 3⋅B⋅ρₛₜₐᵣ  + 1⎠ - 3⋅uₘₐₓ⋅⎝-A⋅ρₛₜₐᵣ - B⋅ρₛₜₐᵣ  + \n",
       "\n",
       " ⎞\n",
       "1⎠"
      ]
     },
     "execution_count": 7,
     "metadata": {},
     "output_type": "execute_result"
    }
   ],
   "source": [
    "eq4 = sympy.Eq(eq2.lhs - 3 * eq3.lhs, eq2.rhs - 3 * eq3.rhs)\n",
    "eq4"
   ]
  },
  {
   "cell_type": "code",
   "execution_count": 8,
   "metadata": {},
   "outputs": [
    {
     "data": {
      "image/png": "[encoded data removed]",
      "text/latex": [
       "$$3 u_{star} = - u_{max} \\left(A \\rho_{star} - 2\\right)$$"
      ],
      "text/plain": [
       "3⋅uₛₜₐᵣ = -uₘₐₓ⋅(A⋅ρₛₜₐᵣ - 2)"
      ]
     },
     "execution_count": 8,
     "metadata": {},
     "output_type": "execute_result"
    }
   ],
   "source": [
    "eq4.simplify()"
   ]
  },
  {
   "cell_type": "code",
   "execution_count": 9,
   "metadata": {},
   "outputs": [
    {
     "data": {
      "image/png": "[encoded data removed]",
      "text/latex": [
       "$$- 3 u_{star} = u_{max} \\left(- 2 A \\rho_{star} - 3 B \\rho_{star}^{2} + 1\\right) - 3 u_{max} \\left(- A \\rho_{star} - B \\rho_{star}^{2} + 1\\right)$$"
      ],
      "text/plain": [
       "                ⎛                      2    ⎞          ⎛                  2   \n",
       "-3⋅uₛₜₐᵣ = uₘₐₓ⋅⎝-2⋅A⋅ρₛₜₐᵣ - 3⋅B⋅ρₛₜₐᵣ  + 1⎠ - 3⋅uₘₐₓ⋅⎝-A⋅ρₛₜₐᵣ - B⋅ρₛₜₐᵣ  + \n",
       "\n",
       " ⎞\n",
       "1⎠"
      ]
     },
     "execution_count": 9,
     "metadata": {},
     "output_type": "execute_result"
    }
   ],
   "source": [
    "eq4"
   ]
  },
  {
   "cell_type": "code",
   "execution_count": 10,
   "metadata": {},
   "outputs": [
    {
     "data": {
      "image/png": "[encoded data removed]",
      "text/latex": [
       "$$- 3 u_{star} = A \\rho_{star} u_{max} - 2 u_{max}$$"
      ],
      "text/plain": [
       "-3⋅uₛₜₐᵣ = A⋅ρₛₜₐᵣ⋅uₘₐₓ - 2⋅uₘₐₓ"
      ]
     },
     "execution_count": 10,
     "metadata": {},
     "output_type": "execute_result"
    }
   ],
   "source": [
    "eq4.expand()"
   ]
  },
  {
   "cell_type": "code",
   "execution_count": 11,
   "metadata": {},
   "outputs": [
    {
     "data": {
      "image/png": "[encoded data removed]",
      "text/latex": [
       "$$\\frac{1}{A u_{max}} \\left(2 u_{max} - 3 u_{star}\\right)$$"
      ],
      "text/plain": [
       "2⋅uₘₐₓ - 3⋅uₛₜₐᵣ\n",
       "────────────────\n",
       "     A⋅uₘₐₓ     "
      ]
     },
     "execution_count": 11,
     "metadata": {},
     "output_type": "execute_result"
    }
   ],
   "source": [
    "rho_sol = sympy.solve(eq4, rho_star)[0]\n",
    "rho_sol"
   ]
  },
  {
   "cell_type": "code",
   "execution_count": 12,
   "metadata": {},
   "outputs": [
    {
     "data": {
      "image/png": "[encoded data removed]",
      "text/latex": [
       "$$\\frac{1}{\\rho_{max}^{2}} \\left(- A \\rho_{max} + 1\\right)$$"
      ],
      "text/plain": [
       "-A⋅ρₘₐₓ + 1\n",
       "───────────\n",
       "       2   \n",
       "   ρₘₐₓ    "
      ]
     },
     "execution_count": 12,
     "metadata": {},
     "output_type": "execute_result"
    }
   ],
   "source": [
    "B_sol = sympy.solve(eq1, B)[0]\n",
    "B_sol"
   ]
  },
  {
   "cell_type": "code",
   "execution_count": 13,
   "metadata": {},
   "outputs": [
    {
     "data": {
      "image/png": "[encoded data removed]",
      "text/latex": [
       "$$0 = u_{max} \\left(1 - \\frac{1}{u_{max}} \\left(4 u_{max} - 6 u_{star}\\right) - \\frac{3 \\left(2 u_{max} - 3 u_{star}\\right)^{2}}{A^{2} \\rho_{max}^{2} u_{max}^{2}} \\left(- A \\rho_{max} + 1\\right)\\right)$$"
      ],
      "text/plain": [
       "         ⎛                                               2              ⎞\n",
       "         ⎜    2⋅(2⋅uₘₐₓ - 3⋅uₛₜₐᵣ)   3⋅(2⋅uₘₐₓ - 3⋅uₛₜₐᵣ) ⋅(-A⋅ρₘₐₓ + 1)⎟\n",
       "0 = uₘₐₓ⋅⎜1 - ──────────────────── - ───────────────────────────────────⎟\n",
       "         ⎜            uₘₐₓ                       2     2     2          ⎟\n",
       "         ⎝                                      A ⋅ρₘₐₓ ⋅uₘₐₓ           ⎠"
      ]
     },
     "execution_count": 13,
     "metadata": {},
     "output_type": "execute_result"
    }
   ],
   "source": [
    "quadA = eq2.subs([(rho_star, rho_sol), (B, B_sol)])\n",
    "quadA"
   ]
  },
  {
   "cell_type": "code",
   "execution_count": 14,
   "metadata": {},
   "outputs": [
    {
     "data": {
      "image/png": "[encoded data removed]",
      "text/latex": [
       "$$- 3 u_{max} + 6 u_{star} + \\frac{3 \\left(2 u_{max} - 3 u_{star}\\right)^{2}}{A \\rho_{max} u_{max}} - \\frac{3 \\left(2 u_{max} - 3 u_{star}\\right)^{2}}{A^{2} \\rho_{max}^{2} u_{max}} = 0$$"
      ],
      "text/plain": [
       "                                        2                       2    \n",
       "                    3⋅(2⋅uₘₐₓ - 3⋅uₛₜₐᵣ)    3⋅(2⋅uₘₐₓ - 3⋅uₛₜₐᵣ)     \n",
       "-3⋅uₘₐₓ + 6⋅uₛₜₐᵣ + ───────────────────── - ───────────────────── = 0\n",
       "                         A⋅ρₘₐₓ⋅uₘₐₓ             2     2             \n",
       "                                                A ⋅ρₘₐₓ ⋅uₘₐₓ        "
      ]
     },
     "execution_count": 14,
     "metadata": {},
     "output_type": "execute_result"
    }
   ],
   "source": [
    "quadA.simplify()"
   ]
  },
  {
   "cell_type": "code",
   "execution_count": 15,
   "metadata": {},
   "outputs": [],
   "source": [
    "A_sol = sympy.solve(quadA, A)"
   ]
  },
  {
   "cell_type": "code",
   "execution_count": 16,
   "metadata": {},
   "outputs": [
    {
     "data": {
      "image/png": "[encoded data removed]",
      "text/latex": [
       "$$\\frac{1}{2 \\rho_{max} u_{max} \\left(u_{max} - 2 u_{star}\\right)} \\left(\\sqrt{- u_{star} \\left(4 u_{max} - 9 u_{star}\\right)} \\left(- 2 u_{max} + 3 u_{star}\\right) + \\left(2 u_{max} - 3 u_{star}\\right)^{2}\\right)$$"
      ],
      "text/plain": [
       "  ___________________________                                         2\n",
       "╲╱ -uₛₜₐᵣ⋅(4⋅uₘₐₓ - 9⋅uₛₜₐᵣ) ⋅(-2⋅uₘₐₓ + 3⋅uₛₜₐᵣ) + (2⋅uₘₐₓ - 3⋅uₛₜₐᵣ) \n",
       "───────────────────────────────────────────────────────────────────────\n",
       "                      2⋅ρₘₐₓ⋅uₘₐₓ⋅(uₘₐₓ - 2⋅uₛₜₐᵣ)                     "
      ]
     },
     "execution_count": 16,
     "metadata": {},
     "output_type": "execute_result"
    }
   ],
   "source": [
    "A_sol[0]"
   ]
  },
  {
   "cell_type": "code",
   "execution_count": 17,
   "metadata": {},
   "outputs": [
    {
     "data": {
      "image/png": "[encoded data removed]",
      "text/latex": [
       "$$\\frac{1}{2 \\rho_{max} u_{max} \\left(u_{max} - 2 u_{star}\\right)} \\left(2 u_{max} - 3 u_{star}\\right) \\left(2 u_{max} - 3 u_{star} + \\sqrt{- u_{star} \\left(4 u_{max} - 9 u_{star}\\right)}\\right)$$"
      ],
      "text/plain": [
       "                   ⎛                     ___________________________⎞\n",
       "(2⋅uₘₐₓ - 3⋅uₛₜₐᵣ)⋅⎝2⋅uₘₐₓ - 3⋅uₛₜₐᵣ + ╲╱ -uₛₜₐᵣ⋅(4⋅uₘₐₓ - 9⋅uₛₜₐᵣ) ⎠\n",
       "─────────────────────────────────────────────────────────────────────\n",
       "                     2⋅ρₘₐₓ⋅uₘₐₓ⋅(uₘₐₓ - 2⋅uₛₜₐᵣ)                    "
      ]
     },
     "execution_count": 17,
     "metadata": {},
     "output_type": "execute_result"
    }
   ],
   "source": [
    "A_sol[1]"
   ]
  },
  {
   "cell_type": "code",
   "execution_count": 18,
   "metadata": {},
   "outputs": [
    {
     "data": {
      "image/png": "[encoded data removed]",
      "text/latex": [
       "$$-0.0171107219255619$$"
      ],
      "text/plain": [
       "-0.0171107219255619"
      ]
     },
     "execution_count": 18,
     "metadata": {},
     "output_type": "execute_result"
    }
   ],
   "source": [
    "A_val_0 = A_sol[0].evalf(subs={u_star:0.7, u_max:1.0, rho_max:10.0})\n",
    "A_val_0"
   ]
  },
  {
   "cell_type": "code",
   "execution_count": 19,
   "metadata": {},
   "outputs": [
    {
     "data": {
      "image/png": "[encoded data removed]",
      "text/latex": [
       "$$0.0146107219255619$$"
      ],
      "text/plain": [
       "0.0146107219255619"
      ]
     },
     "execution_count": 19,
     "metadata": {},
     "output_type": "execute_result"
    }
   ],
   "source": [
    "A_val_1 = A_sol[1].evalf(subs={u_star:0.7, u_max:1.0, rho_max:10.0})\n",
    "A_val_1"
   ]
  },
  {
   "cell_type": "code",
   "execution_count": 20,
   "metadata": {},
   "outputs": [
    {
     "data": {
      "image/png": "[encoded data removed]",
      "text/latex": [
       "$$0.0146107219255619$$"
      ],
      "text/plain": [
       "0.0146107219255619"
      ]
     },
     "execution_count": 20,
     "metadata": {},
     "output_type": "execute_result"
    }
   ],
   "source": [
    "A_val = max(A_val_0, A_val_1)\n",
    "A_val"
   ]
  },
  {
   "cell_type": "code",
   "execution_count": 21,
   "metadata": {},
   "outputs": [
    {
     "data": {
      "image/png": "[encoded data removed]",
      "text/latex": [
       "$$0.00853892780744381$$"
      ],
      "text/plain": [
       "0.00853892780744381"
      ]
     },
     "execution_count": 21,
     "metadata": {},
     "output_type": "execute_result"
    }
   ],
   "source": [
    "B_val = B_sol.evalf(subs={rho_max:10.0, A: A_val})\n",
    "B_val"
   ]
  },
  {
   "cell_type": "code",
   "execution_count": 22,
   "metadata": {},
   "outputs": [],
   "source": [
    "sympy.init_printing(use_latex=False)"
   ]
  },
  {
   "cell_type": "code",
   "execution_count": 23,
   "metadata": {},
   "outputs": [],
   "source": [
    "rho_max = 10.0\n",
    "u_max = 1.0"
   ]
  },
  {
   "cell_type": "code",
   "execution_count": 24,
   "metadata": {},
   "outputs": [],
   "source": [
    "def flux(rho, u_max, A, B):\n",
    "    \"\"\"\n",
    "    Computes the traffic flux for the better model.\n",
    "    \n",
    "    Parameters\n",
    "    ----------\n",
    "    rho : numpy.ndarray\n",
    "       Traffic density along the road as a 1D array of floats.\n",
    "    u_max : float\n",
    "        Maximum speed allowed on the road.\n",
    "    A : float\n",
    "        Scaling coefficient for rho.\n",
    "    B : float\n",
    "        Scaling coefficient for rho squared.\n",
    "    \n",
    "    Returns\n",
    "    -------\n",
    "    F : numpy.ndarray\n",
    "        The traffic flux along the road as a 1D array of floats.\n",
    "    \"\"\"\n",
    "    F = rho * u_max * (1.0 - A * rho - B * rho**2)\n",
    "    return F"
   ]
  },
  {
   "cell_type": "code",
   "execution_count": 25,
   "metadata": {},
   "outputs": [],
   "source": [
    "import numpy\n",
    "from matplotlib import pyplot\n",
    "%matplotlib inline"
   ]
  },
  {
   "cell_type": "code",
   "execution_count": 26,
   "metadata": {},
   "outputs": [],
   "source": [
    "# Set the font family and size to use for Matplotlib figures.\n",
    "pyplot.rcParams['font.family'] = 'serif'\n",
    "pyplot.rcParams['font.size'] = 16"
   ]
  },
  {
   "cell_type": "code",
   "execution_count": 27,
   "metadata": {},
   "outputs": [],
   "source": [
    "def rho_green_light(x, rho_light):\n",
    "    \"\"\"\n",
    "    Computes the \"green light\" initial condition.\n",
    "    It consists of a shock with a linear distribution behind it.\n",
    "    \n",
    "    Parameters\n",
    "    ----------\n",
    "    x : numpy.ndarray\n",
    "        Locations on the road as a 1D array of floats.\n",
    "    rho_light : float\n",
    "        Car density at the stoplight.\n",
    "    \n",
    "    Returns\n",
    "    -------\n",
    "    rho : numpy.ndarray\n",
    "        The initial car density along the road\n",
    "        as a 1D array of floats.\n",
    "    \"\"\"\n",
    "    rho = numpy.zeros_like(x)\n",
    "    mask = numpy.where(x < 2.0)\n",
    "    rho[mask] = rho_light * x[mask] / 2.0\n",
    "    return rho"
   ]
  },
  {
   "cell_type": "code",
   "execution_count": 28,
   "metadata": {},
   "outputs": [],
   "source": [
    "# Set parameters.\n",
    "nx = 81  # number of locations on the road\n",
    "L = 4.0  # length of the road\n",
    "dx = L / (nx - 1)  # distance between two consecutive locations\n",
    "nt = 30  # number of time steps to compute\n",
    "rho_light = 5.0  # car density at the traffic light.\n",
    "\n",
    "# Define the locations on the road.\n",
    "x = numpy.linspace(0.0, L, num=nx)\n",
    "\n",
    "# Compute the initial traffic density.\n",
    "rho0 = rho_green_light(x, rho_light)"
   ]
  },
  {
   "cell_type": "code",
   "execution_count": 29,
   "metadata": {},
   "outputs": [
    {
     "data": {
      "image/png": "[encoded data removed]",
      "text/plain": [
       "<Figure size 432x288 with 1 Axes>"
      ]
     },
     "metadata": {},
     "output_type": "display_data"
    }
   ],
   "source": [
    "# Plot the initial car density on the road.\n",
    "fig = pyplot.figure(figsize=(6.0, 4.0))\n",
    "pyplot.xlabel(r'$x$')\n",
    "pyplot.ylabel(r'$\\rho$')\n",
    "pyplot.grid()\n",
    "line = pyplot.plot(x, rho0,\n",
    "                   color='C0', linestyle='-', linewidth=2)[0]\n",
    "pyplot.xlim(0.0, L)\n",
    "pyplot.ylim(-0.5, 6.0)\n",
    "pyplot.tight_layout();"
   ]
  },
  {
   "cell_type": "code",
   "execution_count": 30,
   "metadata": {},
   "outputs": [],
   "source": [
    "def ftbs(rho0, nt, dt, dx, bc_value, *args):\n",
    "    \"\"\"\n",
    "    Computes the traffic density on the road \n",
    "    at a certain time given the initial traffic density.\n",
    "    \n",
    "    Parameters\n",
    "    ----------\n",
    "    rho0 : numpy.ndarray\n",
    "        The initial car density along the road\n",
    "        as a 1D array of floats.\n",
    "    nt : integer\n",
    "        The number of time steps to compute.\n",
    "    dt : float\n",
    "        The time-step size to integrate.\n",
    "    dx : float\n",
    "        The distance between two consecutive locations.\n",
    "    bc_value : float\n",
    "        The constant density at the first station.\n",
    "    args : list or tuple\n",
    "        Positional arguments to be passed to the flux function.\n",
    "    \n",
    "    Returns\n",
    "    -------\n",
    "    rho_hist : list of numpy.ndarray objects\n",
    "        The history of the car density along the road.\n",
    "    \"\"\"\n",
    "    rho_hist = [rho0.copy()]\n",
    "    rho = rho0.copy()\n",
    "    for n in range(nt):\n",
    "        # Compute the flux.\n",
    "        F = flux(rho, *args)\n",
    "        # Advance in time.\n",
    "        rho[1:] = rho[1:] - dt / dx * (F[1:] - F[:-1])\n",
    "        # Set the left boundary condition.\n",
    "        rho[0] = bc_value\n",
    "        # Record the time-step solution.\n",
    "        rho_hist.append(rho.copy())\n",
    "    return rho_hist"
   ]
  },
  {
   "cell_type": "code",
   "execution_count": 31,
   "metadata": {},
   "outputs": [],
   "source": [
    "# Set time-step size based on CFL limit.\n",
    "sigma = 1.0\n",
    "dt = sigma * dx / u_max  # time-step size\n",
    "\n",
    "# Compute the traffic density at all time steps.\n",
    "rho_hist = ftbs(rho0, nt, dt, dx, rho0[0], u_max, A_val, B_val)"
   ]
  },
  {
   "cell_type": "code",
   "execution_count": 32,
   "metadata": {},
   "outputs": [],
   "source": [
    "from matplotlib import animation\n",
    "from IPython.display import HTML"
   ]
  },
  {
   "cell_type": "code",
   "execution_count": 33,
   "metadata": {},
   "outputs": [],
   "source": [
    "def update_plot(n, rho_hist):\n",
    "    \"\"\"\n",
    "    Update the line y-data of the Matplotlib figure.\n",
    "    \n",
    "    Parameters\n",
    "    ----------\n",
    "    n : integer\n",
    "        The time-step index.\n",
    "    rho_hist : list of numpy.ndarray objects\n",
    "        The history of the numerical solution.\n",
    "    \"\"\"\n",
    "    fig.suptitle('Time step {:0>2}'.format(n))\n",
    "    line.set_ydata(rho_hist[n])"
   ]
  },
  {
   "cell_type": "code",
   "execution_count": 34,
   "metadata": {},
   "outputs": [
    {
     "data": {
      "text/html": [
       "<video width=\"432\" height=\"288\" controls autoplay loop>\n",
       "  <source type=\"video/mp4\" src=\"data:video/mp4;base64,AAAAHGZ0eXBNNFYgAAACAGlzb21pc28yYXZjMQAAAAhmcmVlAABLlW1kYXQAAAKuBgX//6rcRem9\n",
       "5tlIt5Ys2CDZI+7veDI2NCAtIGNvcmUgMTQ4IHIyNjQzIDVjNjU3MDQgLSBILjI2NC9NUEVHLTQg\n",
       "QVZDIGNvZGVjIC0gQ29weWxlZnQgMjAwMy0yMDE1IC0gaHR0cDovL3d3dy52aWRlb2xhbi5vcmcv\n",
       "eDI2NC5odG1sIC0gb3B0aW9uczogY2FiYWM9MSByZWY9MyBkZWJsb2NrPTE6MDowIGFuYWx5c2U9\n",
       "MHgzOjB4MTEzIG1lPWhleCBzdWJtZT03IHBzeT0xIHBzeV9yZD0xLjAwOjAuMDAgbWl4ZWRfcmVm\n",
       "PTEgbWVfcmFuZ2U9MTYgY2hyb21hX21lPTEgdHJlbGxpcz0xIDh4OGRjdD0xIGNxbT0wIGRlYWR6\n",
       "b25lPTIxLDExIGZhc3RfcHNraXA9MSBjaHJvbWFfcXBfb2Zmc2V0PS0yIHRocmVhZHM9OSBsb29r\n",
       "YWhlYWRfdGhyZWFkcz0xIHNsaWNlZF90aHJlYWRzPTAgbnI9MCBkZWNpbWF0ZT0xIGludGVybGFj\n",
       "ZWQ9MCBibHVyYXlfY29tcGF0PTAgY29uc3RyYWluZWRfaW50cmE9MCBiZnJhbWVzPTMgYl9weXJh\n",
       "bWlkPTIgYl9hZGFwdD0xIGJfYmlhcz0wIGRpcmVjdD0xIHdlaWdodGI9MSBvcGVuX2dvcD0wIHdl\n",
       "aWdodHA9MiBrZXlpbnQ9MjUwIGtleWludF9taW49MTAgc2NlbmVjdXQ9NDAgaW50cmFfcmVmcmVz\n",
       "aD0wIHJjX2xvb2thaGVhZD00MCByYz1jcmYgbWJ0cmVlPTEgY3JmPTIzLjAgcWNvbXA9MC42MCBx\n",
       "cG1pbj0wIHFwbWF4PTY5IHFwc3RlcD00IGlwX3JhdGlvPTEuNDAgYXE9MToxLjAwAIAAABEkZYiE\n",
       "ABD//veBvzLLXyK6yXH5530srM885HiG/T2/FGHiCawiKvOKy5NtvpDDhXeUOmtunj1S/BESlUoA\n",
       "2gRt1ZeQWHIXMFhvxHOAMS+tfj1fmnWEgsAIMfVgcmrelkHsDp59Y02Dl92QNTgatpS8/Gsajm1L\n",
       "GrmH0hZc/0aPxhEcdm3iW6YIQwsDnYcq+2m+lRnlu03uj2mEeCsvCs9ZTc6/zQN12gllsb15/FCB\n",
       "MV3ProeFIb81t42u3p95S3APhF/3pDQYZXzyMUzRFW4BZYjJgEN3rJTjZee7PZMN1Yt3GUxGcgaj\n",
       "rXCPcCveSYhGyOOa48poW4pqXYntKKHufbwWtwq+xZkWZ0MP/TB75VRYxn/1jYz1x7eSiC8Thodz\n",
       "SUw60sumQmFwQCpzXvvB61/rcSg6kzrTs8dqrpmJORDVOV+uB/I33MKF43Wf6Pp/FJmUkQVLDP08\n",
       "0lRhWUzkseY5OymRYecdeh4Bfu09QLTQEaLg1+amhabyPkY0ijzJvTXHRnfZtZiejzHDLrWZXkuF\n",
       "cNtuDoO0WZUg2pfF9xyVEVmPX5kYmCYFNHLfRG9btn4LxK8BiygFrlPA1+fTIlfprTAd/3UgoKTt\n",
       "AbaoW2Izz45daj/9/I5vKM2X84LoYxNJFnF4X87bSXJ/LBKDXmYbRwpgnN3IEtM6K9uYic/fCKNy\n",
       "fzEJjnQC80r6q9yE/SCw9YNKSkOlj8BUDRP0OE4mVcOJkeu8sKnwvDwMsM01OT/serxOR2c5ThbT\n",
       "/v9iIaaK68ugKpfKI17LaJ9STpH1htgW1FJL2c1ROf58sWKWYQVjfauYwbbh1emFBm+x/eXdyqyw\n",
       "VUteVEEoIOXwldquceG3GeU+5uhqs6uIuXEMl1vJX7Zd7Fv9V2G/tUew2Fh0nKyuHSE4lydJ4N3M\n",
       "5Zqt3gwI6PPQT8EmyRoivj6mlqYSY657FTS22pQNYU8qUAYY8atlB6GUWksDE4TP+TwZYhcvFmhy\n",
       "gGt1jkaAvazYqfUhd6lvacrtO/3FMygT2vH4puwmVEliIM3tUDNQzG1nCByQibHeNhJPb6x9cF/Q\n",
       "I9acNrwvy2Ti5JjIG7uTp3EMb/ABq0U/SBOpnCsL7OKcD8bpnFsUsUj40EpW+2Oe4SxVRwM4MU4q\n",
       "94PTxuWnX15+dYF/H0/tSouCP9F5t+Ys0UUSPzFrBhK068HHiGIY47O4ui7L/gbp4n5nNMZX8tmV\n",
       "EzHOY3xWGAYWz9BAfw44efZFEHgucy34ZrzhutAdaVv6RL6o/XNKHBcaAf5BeVUa6j4JcVxNtDNo\n",
       "81isYl5mxhzbwLFhrH3edhwYxMrvFy6JGUddwa9Mx+vgYKPq3whgkFlVxKlu0FzUZuedj2CjALxB\n",
       "OXY6TZlTYxDlLyJagtVN3fecHNFlg+zr0/Qsk4CK6/GXi63Quv6pQMQmdJ7j2ZpVsOZfx8DLNuuz\n",
       "Hw8HT0Q6OWuh85PdMLQ153WVxVrsqcbRKB9HgY6Y+rAY0wCQD/rk459/pMF5ddqWsD+eC9/ixvdQ\n",
       "PDEzcYzuREsDajoMb+xe4vkoz58KH7NmIUvDOuVpZ4ELmGqOljdpesYlYEiiw0pRT9aChXF280Vx\n",
       "rNdSARhFb7D5Zg0Feqql8F7FC0f3uCbm1lvIbxpVxUwcOrHdv1hhUwCR5tG0EqsQ66t3RP4fsYNf\n",
       "OF8vLdak7FNWFW+1nRc6WRGyD6eHEsDQGJISC+OmE9ta6UsLUuIHA4O3/H7viaAofdghlG93bVID\n",
       "JFtVL7Js4YKvalA5Rcsqd2yFciNtUokv80ZGuCVJGePjzNEtaCAh1SYps0f2/ScGyY5XcD3mqBfk\n",
       "t6FDRV2tsURJmoXcL2jPvWxluTAmFZB2+nPXVM85nQF9bRZ+baprDK5/IUq1MC93YEJz/36rBbAF\n",
       "NUirA3knhwv/EkYfxPUnSg1YYgNyimwDSEe8x5Gm86P5t6pSgGAJV3PLf4dF/3jv5adLp2UNmGG3\n",
       "p4Y8pRM0JftsEqXdB41rdb+V2SCyQnHNHNoaMxn22tX509HLJ0Q1LA6TIgz2drLfuNFoOf6XbvSm\n",
       "mZQCvJXlEByoD3xsoOAnTFiE++o57KgM6p0NPFpzMQDx4QBYO5NCCT6SSsAuSRf6CmhWC9gvur3L\n",
       "atjcoYP06O5JioA4rpeWNLZ7HwmNsNWEwEOKiAG3SgEhwvR1qAfBvwDh/cz9qpyvYDIBTtEjqya2\n",
       "3KG4tk+yFwFp21ZJKAGLNGz6Xwygsg1+QzRCrowCI8UwfwmG37hpR6zXEJXCGCYISxs8FoYZSAV3\n",
       "Ic1HExf18/5K3v7tu6LAD+0g2oX2r7BIAtGc/RcWzvW/8h4B4jJ+V3kKpupjZgmt2Gpgaxh9liGs\n",
       "Lqcz9GRkq6GkJPpZv+Xx7qzBJZo3/i3BSojVkzMJ7c7GzEPLQtXRGt5t8zDcnE/Rh8vsry/wj7+B\n",
       "aKGC7ou20PWc/C+qO+9i7e37dsDE9vEu3lfNROjAouNQ0zg15pJiO0gEVEgQUQgVpcInnHIVl4f3\n",
       "IGoJ4dF9b8N5a5H0qupHI/Ul84yVd7kDQBAfkO2razaGP6qBBD8QPed3IBXFunfim6tsMv0cfwzn\n",
       "FtzWL3NTP3krMWpVQmkscRj74z3XYqbNGy+S2vwsAC6zAVdkPYRJwn7OJZdTdkfP3Lo5zd5oA+hZ\n",
       "OnV4nmxk8wYPPrGdvFyAOyydSx9koujk0MWcxHUBCBXG465hy36hyJAbUtL6awui+hUT7V7cIBwQ\n",
       "PakoNs6963dE6W9FSDBa+0lgj+/7H3c721sfAcM+RcSBCJTOuTHsJskMsgiHyubInGriUimayHAa\n",
       "3o82M+Yugf1lNxYy/umWf+GL3HnEO3YsTfpD9UFsohhN8Co6H3CUozzxumCnMX+N+n57Jbq4TzIm\n",
       "Hm2uDe54LCzXvIlaLd/zMR9j8jVVsxzjmm6XZZBOPfJFnwpS00G4XwcnhS0WLi2mlHfYzLqIls/3\n",
       "7mGJcV67OnVa3IHC0r4bQbg0+WvXFeMaaEzsizmM7k8vy58DBibcX6/xSCUiIskwgrMFWE51fadz\n",
       "jLoLVpZYNSPKcuMQ/Z7BErQmu2gmsxtpbUVrG6G3aL4ToFCAga2GVgGch+mslLMdvOMHoKn2ot4B\n",
       "iSrzP6GO4HgqF0gCF+0Citop4Pf0Zow2kKFAB+6UXPES/v9wpQXwKJdW0yRKGV8NQvMZKYnHxC+h\n",
       "JUYEBspMUa4wfZj+HUvnSf9qleGaWmJU2evCNrLdUu00ZqHAR4CX/qv56vbPDt2u5AFGmvSYPA4T\n",
       "X/4GJtD7OSj6HzmLrd/Wd/ApGlvXIGszAjf3cJDavlBYk6K7IKQGdoxQA0oH4G7yFXK9O+gIYY/A\n",
       "y0BNhDD9WfV/hppmd5FBKd2e+5D8ZKEya57rdhysqEAVZ3EzFK/qCTh2sXziHWjGiG0+k9oeEoWl\n",
       "ZQtThdsrQKYAbsnfn36D7of/8x89Y9pUwekeJF6JL61vr6NLzVt1WtKsCjKZGi0z6UVd0M/P/and\n",
       "OAROmliw6wU3zDwTteFXNFEBif9QHLpE8/qfrVKzxwhsgZOojWZHHZPH9POAIJCOCXWl8vZGJXS6\n",
       "uiJuu/8lEofw3WMBPb2+iqjOG51kb7Fcfj6VjXRWBuly+liMl+yGSG/sAYLLX8HKwSZAI6fGTL65\n",
       "EnL0lBJsH1xPJ7bqedIONEdzHb8cYrPKCsO99+0QavN3vww3muiaZjLiOyX5pofGxP/6+PTwEJjs\n",
       "ZL+yklHVlQbkAjEaIr3KSDSgAlLhwnK6W7gNiTvBZbKsUxt8o8dQts9Dspx48yFARnP7978aJJpP\n",
       "+wd8yIAkBD8aKlxIK3JkzerwK8yPp4FEEyN+kzwifFpgLommQgZGm67x6q59vfZ5J2mHEhV4KV1j\n",
       "Ig0hcloELGqhm1gNO66GVlvcOcW5QH9tfnnZ+e67umgu7El+8jlHJx3yHOemhwK91e+UttfBQh2B\n",
       "X0DetwKTSCLskWSWiwCLibUSqAn0mCdX+5VPKAEORl7LtpMmkv4wy+Wo69enAZCi8pZq4lU++D4a\n",
       "fusxViPlUse/6VZuPSRjmoNQoTt7/Q23iITOTEyp+9bnYyadqU0T+93jYnwyxzYnW15iModEhZJN\n",
       "NqUw27qj6YvFSZDHT4aSCvbZ5NXnH/f5V5ByHpEdXpqiUphySkRC7l0c976j9W1upKtrsCCPLDnb\n",
       "/5kMJWPLnjp45HfkRkQ8821oPc+V6g8lUFn4CZ38JpwpNPtP4e6HYe94APrlOa6Mum5lwFvb2yzK\n",
       "TCmUDKgLXG3MCxyMstbXEW6AA2Vud9lWYdLgyN2B5wiR6ieasOf2gBNfwokL1T9p4O8DlWXqYa/m\n",
       "xvqBOp8OYf8DepBSRrvK2fcQhbi+AbJcHNk0FHmD37Fj1hPsVRzirPqeb2p+6jmGDt7IYAOX5PmX\n",
       "UBQmy0uezQcQ9lFN9md7VAKdgnOcGy6tG5p5YwibiGgeAVaccDYJ2JA/HExcVaod5RncaTwKQYyG\n",
       "8Iyq4IStjAjbE/ShCdCcKISGz8UJORIchrAqXEVD1N2SBiekBVfVyLfmR8V69hPQiZbo+X9hLe29\n",
       "Oc57UWLUzQLVixhje/Iib7YiJW0ZSnRaz3oOCs36N+MBUZe/Zwv/TvHhSPyhUrgBrtAyuVxONLDC\n",
       "9TQbqsdZAMEMCRKrdwS4Ar7qipaTBzC9ynOmXfvvLivD+USOhv45YlvGfL2ajcHLDARH0y36RNvy\n",
       "B0Q+lBy40vSHaBzs8wm3Q/cwlR/YQzR7T2gk4ztOTLJ6YgCXivcuwaRJNhuqUo77XHoMMO7VVMjH\n",
       "ByJYD5hq/4fEskWLLCPhq4uzdrqUh6hnnwhPYj1yRsD+anFHWIN/8d4eFpdN2mv7kfPBsn2Twfpd\n",
       "+Flh+Pj2owoTz4JLgyVRc+qXPyWI1xSI2Ndm73QtxAsrQBYzukp2BFJNEH+IhRejdcrh4khhv2Ap\n",
       "nF3YaN+qTPn3w5YIZtccvBiWhbsyRVzxDd1UdYBMwNZLWNKfG7FD5UoleiKOXGiaqGWUMLG8kpzH\n",
       "gFYQ6kDTJ4wLm/n3QOTB/x1PCtkaCcaXeqP3ufOJe/ihRIx/fBvZIg7lM03nXl66y2fwZkxAHFfQ\n",
       "7xXzyLOJJUBgEXfXVxFZD5mBz0Yi/F87Domz42z68DpNzXxOF7Ux5SYdo2m5QwDXUnkULEo12dmK\n",
       "QmOy/wjA0ZZ21W+dJHEVL7LK4xBHq/3kPB1VaqLti+j9z9vpA7pCBpXi1fC+fdl/8ogMeG+P++rD\n",
       "EhkeC5vsnNsDNL5rjohGV9K7e2jMRbBY2S2+uRJ/2S2HRBKMLT/dUKGhLB0d10Q1d2/yNfkVhzCW\n",
       "L/Ww+A1sAOyilR5pWRp+W76CSo4VXYUCCJPo7wTjrD23CYUjlM6XCelaYotQxqeHWI29uocFW+bT\n",
       "MfNzFrv4Dk8BM3pt2Tj8u2wwXNMkuyOmSiK2g3Ywz+67qK820EvIsLSWK5MYuJH9yLjcZU8j0C5L\n",
       "tg6r/JySBgt5iKxO0RHMqh0q/KuOaC7Waf5qAIeua3T2115+kbHqGxuWmuxooJOzr4uHEhs1zJ2y\n",
       "/QwEMRaAL9IqLsoxNAd4Dkx6gg0MI5kxgplvVOhp6k0thoSJ1N7wW7Ta/agDf1n+f2eeQ5FOJJmB\n",
       "FxiYRkz0AnLjW4BD2y8XqT6kcc5u6yu+xArAD3wnkcUdrxqWTOWAQQC3nGsA8fWMo5M5rnZRaZAT\n",
       "qd3g47rWtX81LAGvh6WXKqK+tnJkc9sTeF6ASlp/OAxy4/5fJnGWZL1w0ApN85dqg6NnrKhH5EyW\n",
       "TRGJE+nYz9t/GWbhF1b07Q0/zxYHvHwybmNcIdp8KwOJkgOBB654weIn2W3bRNmQ41AACHkAAALj\n",
       "QZohbEEf/rTuh+25/ah8A1IAI2NRVRI0JRKQRwNOTLIj8X3aRNAKazqbSAwpsETsK2GTA+zj1orW\n",
       "MKwHE2XGHMZftfNHG5cdVZuRLKPCvsu+gABL0aEL4quscoQH78pWoVgAKSfPdP+i8KMB0pHHjPSa\n",
       "MODg24KT2oU6agaEaYiRNtZjP4ZLcSw0c/upSFRoYrg2bZzUSQsa0iuSqCpUM1JkGMFB95nrELzP\n",
       "h2vm3+32PWJxu8hqwIMzkSwJXdKnOx4svus9xc0pKEr/a7Tnh/DUi9ozhOAMaOSplaqMOu84gM/r\n",
       "VyCMttx46TcBBgEesAge+T0Q7d7vFmWr288s+WI/P3CWQemBojHtYo1O/Bqoa/ZnUH0URsqIyoql\n",
       "gCuTRRLbAsF3meTvf/bNQDtq7t72lMDU7p9oN18Qghw0e/JyjEKVdYpDhpZHMaETcK758x8DUZdL\n",
       "P6sE0XMUoylyzdcKI4CI5IdY49vzgVX4BBauqTsd2eSRWXRuPHEkG1VLgHE0XQtAjVaSN04xbbeO\n",
       "6cEZR21/znJTzUJERIobLuO+mtPTippBPu+x4DRno2oDuVjLKLxhW8HELtzr8G3TRBc9g0LRlHT0\n",
       "5+QM+2xFRjslqRW0bfSG8kw0IhJ2mYG8hHql/cwaNrmdiKkBtn+/6TUlnRzBWU34+ZN3jdREWqDC\n",
       "NVwHEKCDA7MJs0Vq0Lk5HKcbRAPVWVWfOM2i3gyHQeWH0IE8uv2Dgh3G/rMBF7feAlcWcvYgfYIg\n",
       "Bl2crHaIb6LpXrXh6IZVU682a3WS8odHy2wCbp1OQr5V+vQRpqtYxLrHS6ne+UZrUVrUKH15iJIr\n",
       "bfdENob12106a6n2rGAJavQTSzmOdj70Sb6JXmxrWg4FkwE123sMMqYmLJF9oZJiRlSppS5DOVYT\n",
       "asesjdZ1df1jhOSplrg/reKQ9avbhwsRwn/EluisVaRhkQRFV4jnDHC5lqsiNPvtjQTMFP54UgAA\n",
       "BK1BmkU8IZMphBH//rTtQc1jDu/6wXinTD8ZZY3gAdpemS/UIxpVYAyPyLmt6zHrxTgJVkuh8RJv\n",
       "NoVyZludbBtzvgQ3GPpN1mxBcdJA9KPO0/M+t/skCto2O74uMVB7Xa7w+dPjOfDqEXSGF/aJj7zY\n",
       "HEtH/ZPBbp8fuQn0gxOwom5Uw6r3xYxJmm++3vxEvVna4zjlHnsv1EmruWahkS3WmUtZG5MaqKIn\n",
       "lFuaFsQhZWgw1y7n8A3lADWLx5NWBWnQRvA+HFRWzZhSPihmpzItnGS/E55b1CZKOPM2fRWziCVU\n",
       "Dz+3mUaXBMw0jFeZHs+gXHlCp/zAymvH+G7Cpqk71gPUTcocho6GWrH+1vLOM/dt3VDpUOc6hK6H\n",
       "44JcU/Xc/MhXCqEH4qvGzZ8i07HZ0aqoE1/dR/Hrbt5PTXHv0aRuWJHjBDrP070MNlwsDUXslmgB\n",
       "QcPBR3lLbWfN0ixUBVV+Om0ukNy5I27wWVyjvih+Y0ViKCOMVAV42N7Dvr5/7pyz0k6zTdx8wyS2\n",
       "C4zSpmB6J4bV6H/+ZalAn3knInfVshP8UwnPLddMfuWXLI1PcRoODZFrFWrbTo4OxR8GaW++bWOn\n",
       "UZc+V7p0MFCtXTFLeGBQbzHo11jGSl0UHAQYBtQtEWN85uh5we+kYcO3FQOqDTEA9H2lZSqrwsFj\n",
       "t2r7fl3REiYhNLTi9g3fSJTH9KS8ciU7jvMbKSrnEJk9M/b65Yev0Vh5oAtsV0+S6solcuordVd6\n",
       "+HO6ys9aSo6LBZNZRT1xFW7X6z/ypLqlrxrve2/0/CaOSGyzz+ccvSSSLNS7S5rromU1XQ2YRqUv\n",
       "0NZUTQOiWyItiHEj9d7yla3xSvP0BVINZ2oWUU5b0RxgRErBKZmarGicNZiPnHYil01jVA3sKGlo\n",
       "ssApwQbdSasICTFzZ0uk6Vu1LUQxZExpMz3iuuuXUvg4pr4z2PsTON3+lM77WIrfg4IDIzQWp46Q\n",
       "POQy//hJ0gojpfPG094LM55v2yYTfHIXeNrIdJR9IjnZ3I1/2+KE2E7lNz6vuPJoQHhaKG9+fxFr\n",
       "vW38+IoybvZl0ovpOAmIyguK5/yhuq9cBF+Zei/Gxer/mayDzQfRc4SMsiqF/3swd0bS/WyUNSji\n",
       "DQyoptVOXiKsBst8oORGLKiQ8eWC8igiT5JUgSj0aUKtogPGn12po9kG2dOPxqqhJKlzds1KYhjj\n",
       "sswKDYCvBpDeuszZ8QG+rLzCiJvujCM9Ifr92qNMIWogET3IB/1VGWwiXea9KpHvJ/WA+JZG64Nt\n",
       "3C5/4N9jevV3hrsiJniILHdJS4EYxCFIKVbxGaBKwsh/t9pfovwcHDau7N8Lg+6xx8+yhuklxCVY\n",
       "QBtRfghOaBKcK13RbtCyDS6zGPq0hgsgcjV6eDI87wcrYcod4BXMPZWu8us0RtvuSe9cjIA9QEzL\n",
       "u/3LwmGg0KWVg1pd15pQEOOd90S3822tvA/B+3iIS9AZ2rphnK1zXNg/TevycFvOyq6EfhsAMzRC\n",
       "/7twRjLKPJ8K9zySjYpEzqXIlGeRam4f7IHXDoiSTmuhCwlBTbAiElMGTiw6fJIBGccR5wQNioA6\n",
       "VokAAAG4QZ5jalPDvxL0XeT4aKhYAJq+DKcEFP5vXIEpOWGMqjLJMf4qk90VkS3hK+fwfEQ8Rf2r\n",
       "lLwCp0+YoWVu1hG6D4E7Babvf80fhmudaSz/Ug1BuzRaU5DjM02083HGqB3seyXz5HfngBJgAA8K\n",
       "aklB/sMo5b2szpci0+RsKdpvZZvIWvNJtrlb6fuSbOyMd3RgezvdS5FRFl4DYEoBug1r0q/ER5RC\n",
       "u2S3e/2QAACPk9ah0JIrti6DHRDQHVLWpLSAYmeWH87NScgzrOIFYH2DiVdeatYrfQZ2OLRUGEv3\n",
       "KVvhnKN5EBLtNxEMHUEwnKxmCV7R38U1ZmVectCQ9Aq+BFPsqbHgrj/F7GXZBu8WWi3t3riu0Ks1\n",
       "02IgJ+PDKe+NheQCG1ZEYPAq7/WCrkHDr//YNRSZU8eZkyf0BhCSMhDM20sYmfWlnFN16qbCUDcA\n",
       "2v5cVD+qoPG/PBNna+14AdR/grec7EDIqJVgrZ3L7Yk9DKzP1SUkz761egw5UBFcSOUGZVhI8igg\n",
       "6NFIa0B6T+vTp5bz13EJ6WF0m5uo+cqm5O8XXQsoNOOsCUEcxTGoynd9nESP1jAAAAFiAZ6CdEN/\n",
       "FwujX23U1ACFPPUE71JpvtLuAd/r3bCXLSt1stBy3cX69u7jHk6/eU9P+Tq0jfcRKYLznVY3Z+Cl\n",
       "tLH8XAGhtctC8KSFmVwgYc02bRN3NmFqessxD7JftsN7zNh/7aYpCh7ijSbSNZwnVd7lXzrgbX9K\n",
       "iAQhpdXyM+6cZmFwcM7//bIzAe2+fQxDgPQTnPClGZWx7awcGDRpoea+rAP5kSdpBuyCcXA3Onbk\n",
       "NBbuWYGDkOyl9JxrUI24aTvPoITgfV2Q6dmsaPstf0a0l6ojl6YXwQKsRGvrmAgkXz3CHS/J+jNy\n",
       "avdCMd/NAhpepfiRHvvhYfFQ9REVMWFmNL4SQfZLQzmkBXwckOUpM/r3BdWDnUycYsbeEM6Dxq2x\n",
       "/vxGaN5uw5T2y93utjjVahmV7TKJMGxZRCgGRaHMg7zWWMW7L9Wo/pzV5vbZuwWC1GgM2GFj2s7H\n",
       "PmkovoP5AAABIgGehGpDfwdKvdiAAO0uCEjh2xPu7hjGBMAd+drXH5hVD2F/jGFHfK/j8r5tQIPF\n",
       "7ZGWiz7xlsXNMTRiKRXbpT2/e/t/ognxEihSCGtchDD1KjFFr6VFBX9VlR3yYu5lcKfvjEuzodYZ\n",
       "ONpfouM24bO+EHF75jIxT/WHD+CpMZCAIAiH8uu9cAL8PNeJk/9G6KutRUbhQpR5qJ9Pvnmo4Y5f\n",
       "rWkufyuJVGV+NluA28gopJ74tEDI2LLr4GIPmtrHDGzW56qDhTjJhcpOHZmbOPRgcu+PjszbiQbg\n",
       "AADm1ioXRcSwrd99mbYX6Zfk1TyMTFhoeNHQMgSGif47j3G8TERP7a4OHtCIkRMzwen/2OqKY48o\n",
       "iafddP/6YN4lsO/oeZlxAAAENEGaiUmoQWiZTAgj//61K94swAAEfvEjpJj8IsyeFu90du9rKitx\n",
       "b1hMbjII+jLTboXmsjYxojMqsamVXZSXDxZdta9EqceKC1HluuxwfAbMxaKisfh3u68etKlbXvmi\n",
       "vFriuXYKV6Xni+tfD0b/U45PqcfKG09eiJV8n2B4yXVBmJ1f8QYSv+1BeAS2+nfloBTwBdkAJsAx\n",
       "gXFDzQXcVBRdJcDcx06goZo8P/4MdyXNkEa4GyiONkX7SvdcGq5URB3uTWU0eFHChWa4PhtmI0nH\n",
       "EXBYA8Y/HqKFVMki1WufK8Tfz71QeNqIx+6n8Q4VG5PCUpAmTXjhZkQ3a8JQ+efx9XHYnaNWMPuG\n",
       "dtaYc1/2PbXoeE5EqQ98vJzg95WOso/btGxOPVfQXN288ed9znuNuuMJ9Yxrf/L/3IzqLCPZQe4i\n",
       "KSw6fBBAAyCeAruKOvX7QbBvgLxAbug34bHD4nHMihC67mq5SVZf3gFPICOYt6hYcHdVINYICpfI\n",
       "pkn7bl4xjetMLsj5TUKGPnY55vR1oYvHpvKYmUPW0199Ahj1Us+ENyOaNos1rRdt1ZiL1pTrqEGQ\n",
       "Df7lBrbUktucxJJDHwfEVlWJ5H1xTPuZPq+E46T01BASa+e3ZdmxuF96kMC87DdS53hJuuhQILDd\n",
       "mUK4M5tPbJrixnyBrEUxzq9mZ3AShHwpyba8XBJQDvrkf2Azfemi/kagPKl98/IcXzJv0sHArVmd\n",
       "a2aMIBc+H0npUVy1mwyG34adh4Q0hqkk32bw5Qs2sZdg7n7SRmAZIK67Dd3Thoztv/KI6Z85m3CE\n",
       "dxXAbJGeIN2KFaWZ0o8idMHydURrInslbd99qhuWLiDu13XuudJ13+FqgOaKcdSxnq2aE1O/5dwm\n",
       "OpeBWE+bGdcjnbsod6lZyID0vo+hqCSmlR7vkhKfFNMEPbKmXaShB9BruiTfR7OxC4Pk4xbneHXZ\n",
       "gHWOOEu/OEimQm7/rzXzhY3+2HihghmpMVFN32l7SnPD9IaZt5o503hi+klcCuaQodWfrQU4th0x\n",
       "C0kSh0bgN2uIL9DFGy8UsnyoFZaZDVGSyf9+FopeD8E0Rr476QteVWxvClYo/wO2bnhKefP/yLCD\n",
       "1wX4+gKLmM15omJW8NEEwLeQ+nxIzTViLtz7ZBSlcVtE9pTQ19D8efunvsOCCZFESei0VeAvSsdg\n",
       "CliCWOl+3iohLGZYXhKSsidViCsqGlJF0hhwe64IBa1rMI10XdxliPIV9kU/wKGusdDM4ceKzC+3\n",
       "5V9hrSedf13QoZo3L3ZZAvEhaYO1raKA288zOWIBh7uENpAWEXT/P2BRw7qgEPUbPLw6ifJkYRxL\n",
       "9AvEfeYtYiWye6qUpHlRtYEwBo5pjBH2ioSRKuKTEe6zopT/J7O2FwF28t1uMMqG02YE+pUBCXaS\n",
       "D5YYr9DEKCdL6behAAABjkGep0URLDv/BR2rAmjZ9AAvbN4VGA3ebGgzE8ULtp252bti9v8V79Pq\n",
       "IsDAuRFsGiCbaTfSTisdWdOpecZirM+oP4Xt9pun6fFJKT49EmtPfqPhjyA0oQ8gneFvsuqGYEuJ\n",
       "qAgPugCtaEmdiJs4XbE6uxOx5zvlMXs9uraxrX6oW6dv3Lozikzfqs5BlNIGs5SBVcBuAhhmVtaV\n",
       "Xv1noWiSZ1gPjJ9AXWCrPeNWELU9qQhTUB3JH1FJZximvM2RdLBbO9rDC7/v13BY5ES0lxRA+TbJ\n",
       "JDbtIcJszZVgS3JqS7xMVGzxWV+qflpTya8CqbPvN3l8qmehtWBIJCAXgXmbX2GyVVtvnEZgu612\n",
       "yQEMnXOOENcP2sblvY1er9NfrQwk6ALrkASSt/Apxwuo0LstEjigr5UrqG0wWdt73z0R3cYTMqVP\n",
       "+PNalw+r/XaNDGfFqGQKqwRfq9H/s+cb72gHlMX5PzKGGlbhPeLMSRKF0GDjR6UPugsr+UCjn5CH\n",
       "UJKnmxBepKRsmX5qowRJAAABNwGexnRDfwatHT+UrogA5vfvicvSNFf1ZTAdT+dZS/nHpg0DuHcL\n",
       "iiF1z/d+A2Yg9OIv+gHhgZJu+zohz0FgeMtQpJPzX28pwSjsfYkTnKA+8GD9oK7edch3blwTY/Af\n",
       "YffAitQVtaBPxG6/ibx27B8bbTKCVY6ypjI99X0gV+Kjg+CrHCawCjJCABPMwUj2izMCbZLBrOOx\n",
       "ztOlawBvyg5+sXKy9Dp05Cgaco65zAAACpzkNUAibU2YyalJAAOIWcJg4jrVgmel5DgZKzSkTAAA\n",
       "9BVTfktBh+Lyfbi9AHN668TCicM8A2EZkN7a/PvYtdfeaaZY0kevSJQX3p2Eb70RKQDVEyDrEb9K\n",
       "glWYf6BaqL3HHugg5DNe40Z2xENdma6iZjGpKFdsytZ0ca8PhZRh31f8c5mOAAAA/wGeyGpDfwdD\n",
       "nOIAL1rsDN+7Oz6ukUK4jwNjmAr2CxTpJMIRGi3SxgUsti8EcF7hlOh/nHFLdFON69R51jA47iL8\n",
       "6rmzWK/fAXXGjvs7pn8U/wVQBJc5LNne+fBYX9KM644zaBDUeaMeizWMmhXyyZL0v7Nbkz5A3AA1\n",
       "CeMuaLKv1jq+jxo8vIJ4DloMSbEQJQs+Urq2vXGxJB9rpCN1XOHCmSZ1bAJpisQxeUhdubH4IGbf\n",
       "Uen4xVVRXS9xXZg3T91I5SvLKKTordhwZXyjb/p74mM2uSFz8r0LXO1o3/6EDiOzFphrVryzSL1y\n",
       "Bj0Du9/SAJLzfwSgQmr8x6uPSAAAA8JBms1JqEFsmUwII//+tO/Twk1+/FWCwHN8XHTN6Xf1L1gQ\n",
       "AE5Tk9umDHD/gLzswI8r3eWzF410DkMBSjCSyrB93FBEPUfliCMKnpHOuSEBOK+QFPX7nSGijT0o\n",
       "s8+3XPIZ8UTbOhHAg1BKf6+5ze7KkpvhObJ31nt6FCv03YigS9qeN4sgBNlaLe+nz9KftGpErd9l\n",
       "HrPOU8Egxp8jrQbpCuRuGpTQa9PlJsBdrllhdNu2UhtjY1hCcmBgYw8YyUqEVJg+I5qLNT/83Iav\n",
       "0YLhbNz05k3VFjJKpZb/HXy+p7kRb2dBZxxzZIswy6fdWikDf/V7MkkQ6vgGZTvm9NIbQLHAaOSN\n",
       "Cpj43+Oojl1n2yncn+l2Km4Gr6aw9IZ4pXGKonTKTNcaf+Vf9HdO/5qO1zh7kf+Tmwcmm+c4aHdl\n",
       "MRkXcJN7NxnZj13ifSOKvsjUT5XpE4879tABGeN+L14aMMFkSc0LYODufZxZwZbtKdu5k1B69Xv6\n",
       "FNpretzpz6qtGJEvLJw4rVxlJsWBTHt4kKqM4bI0YKgXwT3euSqz4ORjZHIWysckdbeQSf0aOeAE\n",
       "StyfDS5u0joIqgIlez9vRvCjAqrQJSA14PS+MWMU8KY7MMkiFN648SwP6TSJuIWJwDRiZe0fCz0h\n",
       "qc2jqaHn6EUQkPGD7gt0MI/sQVzc6nJ7noeaKp36aLQl0DkSSCckxidUQS4rKCCqMRGwvV6x6oyE\n",
       "9uCDA/c3JRszBDuZgvJB/RyAGBaAScW88AWnVV+SOci4SC/Oo3QLRRdcrZMY6IX2+q5qdiNWZa4+\n",
       "Jjnz6ZIO0rbPb0iBgCfkfsiLPDSPAafq6MUOdeTQp4IVfV7i8ahHcYZWU4XLiGxhi3Qf7Lfo7/xQ\n",
       "dLAHM88x/dsvq867T/b6+x/uSCzbP9+r7weCG9xzegHJ6z+O3Hq/wuViqTV9xBDV+H+uovRDhSUn\n",
       "QA/BiexZqy8M/a7AIG8C4mFwv+ymyBkS2/pIE5FdUliUu2QwTx+1CHgmR83+Kzov78xEVLkvdAp5\n",
       "xZZ75htUvf+RHRMUi+D1xJSy8Lwdfb1Gb9Yi+tiQWky3o49c4s7updFeyQIM8SLnemdNOrXf7hXY\n",
       "SDgRPYsbiKG3DjvdzpjkEgIZc5uG8IE1NXa/bb9hpCkIrL0aigBSgSFaYtAcScGiSCCy9k/8NV+4\n",
       "HIM/4SMM8HogX/iTj/6Gdu0rJqK0A3d4PHDpMJyQ9Ruqb5x+5pq+hlz55rhhpygfQxwbnpI3QOyL\n",
       "BnSvO4tvqsjPrzfkYx+ZgQAAAXJBnutFFSw7/xL0XccGINvG1S59TcpnFWcAuaACH1GbSpOZMZQG\n",
       "4SdHWDI6HMH6OCjvd/1bbdGgnaIF401vuBXPyXQY7090cNK4r+PbYcVayCik3AmCn7NMs/6l365a\n",
       "gw6H9IxTcHv+9rpAWW4SPmMJLt5CaNL366SR6l0zJi6OTVYnYLml6AqCCex1VfOqcztoM57mVniJ\n",
       "YeTuEC8XZv0BHNixY5NFso3F3y9JlSOE2IQfQVJQjcctIhMu3yrUW/T+iXfXTl6zps2eUHMxblho\n",
       "rsnOz8xOvf5UpvSbCiNbCB9C1u99gs7D8Ly8Qp6LkSF8bCZ8yguZkDld5MLhadzmbpVJveKZVJOD\n",
       "xdQcrTSyRLPiUJg5apBJpZe5+EAeAWjaDsHXotI29+ygubpo5v0VeMW47BoMJjTrpdMtwivRqf4O\n",
       "DBxsLAt+0nSZqbb3KOhjIUacydGw3V5XpzIeRtq6cR/a5XO7k/zaAdvhxsCqDseAAAAA7wGfCnRD\n",
       "fxcLo0VvRyIDtHYyAEF/ELVIc/E4YevLrIv5WPsnDjhK+4/3C0VatS96Z3GhLq+5O2UURz75uohV\n",
       "Lhy+QCDtuqpxO2nhAiYLbF+d8EDMP0WFiBiPqxsFnnTtC+EwJeg9fKravYECshgd7Nd78XiME9c3\n",
       "xL88CyWWwp7nqdy2bmt2TQJ3Q360bsgzh/TyxZaOQr08y36LjDjIZloJNBnOl9VY+YyilSK58/UT\n",
       "FS0Hu211vsQX/vd+TOGf5zf03L1ZadSQLTQgrXQdoTtyd32nzCYj8VncIC3Jf/NYB9M/1oCTuPzC\n",
       "FrxRJNfwAAABAwGfDGpDfwas4b5FuIANfOKOMSIf7fnww+Hf6fvtmYgoKCJ+0pwLHOMiYa/mOf2f\n",
       "8SKyKcCvqhb805vsV821o4ZxRqdxKwoQiY94M8iu6LgOrPS/zc8038ufCV49L0AcqXMb5BDyzDl4\n",
       "Lrz2lWfQB5q04x+NhjYwLHnRJIv6FPG6+W8XmUDyF0YSdRpVPlGXoUrKHr76V+Ja993I22uJq4pG\n",
       "mryO76B9djZCLzUWx+umMqVH2YmzwdwdzutbjozD40pBte6rVs0Rc9fNqRPb6rAAAAMAAZxaqLuc\n",
       "r5IGU2hld3qtpW70TLOWBy3GmNJMg66pd9AqLwi5qeh//voEfQ+pR7kAAAM6QZsRSahBbJlMCCH/\n",
       "/qpXfJ1/5T6UAE7fFCem2C282rH57IW5g/oZoMt/4/oF6p7Dh21VM/4omk4Bn+E+LpjpEI8PEKj8\n",
       "NXbhXCsDf01DsWz8gJtJyvYrKAa1IErUcoiFGnr5nEFA45LX7lR49Uu9K8L8Nu13o1lOCJ+/mGbw\n",
       "U7u56tiZDt+SkVsnJAANjph5u/O9+jS66fzQ1zmEEVTo/e0tlJsTobYNQ9vMRHnlR4tN5YR2dbJd\n",
       "j6XtMI4eyQCtvFRQQ3qQbLcRg9HfD16S7g80gy4PoOFP+AQZZ1+lwc7ujkMuyENe1w/wp3ABEGRj\n",
       "c6HZ0X/DakzzgwGAfGqTn/JI06uQKhD8IjS+A5ICFdQFm0XTcD/zj5cKYhdGciFTfjrpQUU9FOAH\n",
       "JjXC3Q4QRgpQQh0ge47mMMce/v55uEB2hGbVOueC2GnwFPjAl6jNNb0wRAArttwF5tBkaBAWSkTH\n",
       "0BjnBD+kmDQWwZ5ZLlhtv0ulT1EToDadpPhHd+KrO2JhmtihsFqQ4ozyqxBXFDWJva2hGXLn5dHw\n",
       "TLyaGq7DewrAsV8hHJduUTbOJbOGbqcNweihDaODcvETTjLfa0j6TKxOIBmOMD72Zu+zEv/MdIcB\n",
       "iiKm81Yjj49yocJcywswBbBoiPqTWv8YsrExSjN4c/3MjpEFrZfDNDxhfs/J5ZwmIWE9+Oihu1JW\n",
       "dGhS564qPPYNbBYw+C1yTGccBBCKUEACqCjqvUY3HtboT6vUft++icG5vYs8vRdbCGrNPjVBKJXp\n",
       "dDZS5OlzFgCB6vE4XaG4NwVz1P1JFaoKUKDwLCBdqHO0wc6Eh1ql1oZr0Ggur9UYqffDA75Njhjf\n",
       "R8C6cp29gcRJumYM01tr68yyQP/VV/dZccHP6GmuvueaLJFqg1fPERn3m3StpeF3JOmQnuP+76XF\n",
       "13R5ZZVnBYc0rnasLOs3G5ER1wKXJbzVPCLqoZfp8SUzf39fAThXdPsusPgfYBK3z4fVq1NWmsvx\n",
       "Rz67cpot/V04bpugv7tHNopwlKHkizIFgQvDR+6PEAwHvzEkE+LtqjhBh16h9ajLiMpG58KxhOe8\n",
       "rSeAzwzn6S2cwDIfVHGcIQAAAaVBny9FFSw7/wW3egAbVcsUx1Qe+tNq5OoutpfSg6LARV6rB/o+\n",
       "pISlIBEz39MYj5kSXE8Q83xThjPlmvEZosGBMGc/KXNA9y8QuLJ0nwHD8LgQdSE4VW11ZSeBwTo+\n",
       "zpTQkH/iTpDD2B4scLrtg3SYiKeM25nmWph835tqN343RQD7KM9a2ndh2cPHJokUL/28wK/vmBQ3\n",
       "OBXzHrq5kLCkbXw806AtjfrU2AM8PR7pH9EGVU6TYajHrkHWOLRx0qJL9rh7QCLiephbG3u9PLRo\n",
       "5p2bhqsWDgbHEM2zjkh92oof/R5nz94SUY83dn3wTucaWyx5I8kRsBXRI0C753R8+/P2yjeXyRyN\n",
       "HQUIWBxejzAAAAMAEPCU7R4bgtccu8AOQPsYoj8+bhoL9ox2IOfDVxt5nKr1iaV4PDeit194MSCI\n",
       "ntw3ap+0NIHgv9ud7Xv1oEfBtDMDlhcrjAUp1UZKl/soJnWMUp5b8KOAqOqA7fSKlq+GmP7S0xyb\n",
       "Yw++xtEO16CeVpnbr/bCXcsnTdhek0nYyMnonh3B3jHtG1+jh8cdzVbvAAABAwGfTnRDfwaszSPK\n",
       "THJZduIANbm6sucF3j2KWZoMexiW0/lKbxldSxWl9yWsNyYYWgbONl8aaBzKoA+ImfFpg2Z2hvB+\n",
       "KER3/bYJxij79Y1jn5tX5qbMHqABj5k1wMuiL3Pwrb2u8msKqFeu12/4tCadKY6/vgjAMzWQShWc\n",
       "Nz99fKUUBUQWOqrJELboQwlKt4IyXZKRMAhY6+8bKSfprs2b5O8sg9FDKVPN27OmaODu7HDE4K87\n",
       "L2loOk+emmuvaGcO6R3xJEebKpF7Tbt7DC9cdgGrftrJfMOuS4EVj0OLeG55sDHHlYZZ2o9AAnhf\n",
       "n326yJs66aNYzN91xvff4/8osm4AAAEkAZ9QakN/BrV2N1IABEHvM4qOUQUl3iol1rxg05RXj7D5\n",
       "aj2bWRVRQrcz8bd5GO78MtLO93tluPZ9f1K80GgYDGQFp0jogro2EqD8989L4skcdrPnGdkNLXI5\n",
       "FnczQuzj+MS/ggWJ25ZT0/MEOFlQdRQwfb7tFyuyjbCmOevvccrf5g86RgMp/sJTfQZU3XlzKuTk\n",
       "+NK8b5Cj8MOyeQAedUlLUEXcUwDfm3qZwrMCuzEk5jFGbrfqtqSGRekthrcXfYQABzBGsaaxde8g\n",
       "t86lh98Tc8boKdRQ5HU0z49JXaeF0PtZLyChdY1Nme8NbpKmnP0iDCobGH6zBaVVzZZywxRmjUxT\n",
       "F6C8FKGbMkdLImokNE9SObn5zwI6pLdqUonFxKnLQAAAA8JBm1VJqEFsmUwIf//+qZ0kXuRykAd6\n",
       "kALfDqmOxfQs/z6wcMkG05IxXHQo0ytCl22iHZvjbF0XlMVbTjj4ZQqFukLkRvrwSxfMIYrubnx6\n",
       "FK//aHVj3IhAX54wVJ9EvRwS2tuggWXOkL875AD9aMAgN5t3OY8ZH+Rqsefuu470wvG1DuzeE3Hk\n",
       "0zYVVoLDeYv6g52LyhGT+rvGhscZgCRk+Ww8cMZkJKY4bPbMQuVkFjbzPOAmSrvT3fYkIyN4Uwzf\n",
       "1t6qxDQLcxSvrFY3tzGcvJdFf+FaoNBlnoOZ6BkTbF8Udr/0U9Ysttk8vxT+5bN3Tv6g1XB6AvNi\n",
       "5Oyse2RhBpJ+Ytor/NkmJYVPQ6Gz8R0oJ5IcYTn175rg9iLQMNlL8/pz1R/I6YHx0tMueUTfX5WL\n",
       "8d+peHgeo3sWQ/9rZPeOlrlU6JfeLi1WEHQT8pOxTThmWar8wVQC4V4Muz4mgLmpMCm9UGa7ew6R\n",
       "Vy2pDSpqLuIZeTMCoLSqDA6OGKbPY8wnHkbmJvcKZERb3O+BrWgS1zTsNv41OVPiI1/TFyt8K15A\n",
       "dDwru64XdZ7rU+lJx2zfGV/j5Eu4g1Jo3pzopAx/5xdKbq3jL21URMppQtGCEJKoOqY5YvefQqM3\n",
       "V3LLHDsRNS9Aq1T0jecGRFOfJs7G4U5heTI3dt05+ZjSlIupBrNfhPLiBXg22o6aYQ+nmFhKwUjG\n",
       "Mvj7KQ1XZLRgjmmE4e5Dq0pSJc6TBVlGVj63eVRowbxXecc/guiJhDdl7r6frZbSMx77a8al7Avr\n",
       "B6pq6zDWPMPSr0clq12RSpWD4lwoDnddyqg72Vb1/EBtFcHtjdMe73mN0HW4ovREMSG+WY+edPPi\n",
       "ybQJyFH98ZIAfa7XIHYACTVjClK0EMlsn4Tv9L3QXaLV1eYDEj9hXPATwjV6p716SK9Kj6+14PoB\n",
       "GQ1TQ+/+ji83kSKEJRyecoVS0faSX6BYgcur2+u0QPpVwfPqDS/jT5GOh/unEBGImxwc2UmXbF/R\n",
       "8mETBnACgOHmjCYP8DHj9oPS/1soItYeUG0C0u1ReJ8Z8jMWpoI12YRRoX/PurLVOkDNkDPuwhjE\n",
       "lltuh3KOosCfb//isqpob+j6VIsMPs0xJEz3GSKhzo2yiLRGNR1jSHBgz+/Qv1LVfvtwuTrGtj3W\n",
       "r9jjdCYRUDtlrgbrkQ4Xo8Fbbv/l1B7gCLdVyUpTCm9grPz6swSLsfHZKy0qTDBoQehdCydTeFTf\n",
       "LA+ghjnSqqXPAj25djH9l8uEPMpzuGUEfaNmAQAAAaVBn3NFFSw7/xLnbkWTHnwaMZS9WnDOYXa6\n",
       "SXbIANpY7Yr/V1qWMkXI6k4nGyT/clO7pc0K0nah04HwhDxS7Yj9jz1Vz21gHS9a+RN7h8B2qSWZ\n",
       "GMF/gk8F8+goTQZtjWmh70WNOo3lqj7LTFQZ/ETnbUr+KaqYcykgp8g2EsPvfKLo/jVHjkGfij7X\n",
       "sZQYEM1U6OW5RyAelszr/zoKVWjIN7twwjPFD4Tu0oOHWd2Vgh6+gu24L3a8a718v9X3jByee3nZ\n",
       "7yMeSMHk41UoWyO9yZ903A7JxrjHfKyVDcDroZ4oGmKhI/krJ4pJpxhgpLP9pCyxkJzpxeNrNaQs\n",
       "tIBumo4jRUB/o3LWIqsN1UCHTXNH/paEA3M/cNfq2P/xBkMsyb7Qc+COKl7WXp5LRNspVAR2cPec\n",
       "CMCNZBnhtzFL/cRnSfMDXeNWccFuKzD1EZiA8vfWxTXadNvf3UzXgd8p30RU94d5uigEYi7kwaD0\n",
       "/lCYmiZWsSaVY2hNIy5bKO6fwMpZC2ODxXGR2BmAKFdMVc/ACyHcWufvKl9/oqNjdWWTxRQQAAAB\n",
       "FQGfknRDfxc4ymea6OEa5oyAEFwpl4xVuE4YlPCF1F2+p/FblZ96MEJGv0IquAToe8eLG+VMMc0z\n",
       "BvPo0bHBQBZFfBxWMoH1/7xYWc02XYfFUHoqTjXr1TX+wiprSAcDiswWesykXcnSlfTicDGThLNr\n",
       "5rku0uXKtl47Y7I5HMZQVOtbAIab2gj7jEAVxrn7/zYIFgbGTWkExz+EVMd7yaFfLtX7t5JsYbHF\n",
       "3/gp1x8zBK6lJQhqtXYTPuCUmo2ylN4lXyRhNhB5J5Gn0gIMGiB6kU8WR4pp/kdnF/Cnx19/hsut\n",
       "U++mbUPK4WGhYKank6WlULw4Zu4JGUsZfcxNP21r5oSN4XZCbwFyvD3KXr+Si9+AZUAAAAEWAZ+U\n",
       "akN/FyzNH1RAH/ABtUfUsO4J/CpQoDZpt0Le8036ZGuiQPLvlvQlQXnEd8tqI6KkXBjHjYLtj0+D\n",
       "7GNz8gk7sYRGDtCwiIlPDRhKS/XI4t1gzoffhkBuxSZv6K4+zf1/jdDwvu3WH2ZiUP1DeQWLZgk3\n",
       "BwDKVkSAkuDk4D+Tpl/rFKGdqSfrj8VjWHdDzOppGSr1nwLe9pJ6xOwB6uDyb/rIJJbv7N3ZDSH2\n",
       "W+U1qczZBo3wMoiPiHtwsJjrxXY1YaD03JOXOMpqYSOV2Bx9zjQGPfPNCCljmYunTOoyMxpgeX8p\n",
       "mBJWD0DO5isNavYyvQT09t0Sny1VGRy18Iul3dy7gB2b2uEwgq/X2B9F/KVkDOkAAAJqQZuWSahB\n",
       "bJlMCCH//qneKA01KNqpUfz9XB6tquF4gAW7iDQ7V5cCHIavN/3Bjr77PJT5oUTSpULi+xJpRhti\n",
       "tlCR2OTdmYtxmOB61uBSOHJLFRpPrI3r/qEPf7K3dlAF7HOBrcACGBtw5vVHygGLfly1eDHYUQvR\n",
       "mt0+6hVvv2ZxdgXLTVN///zkGfDztNm6hTwcgjNgFQaV+iDm6Ic2DaZDusIpYGwq/gLK4kLLM19/\n",
       "nXIDykYGbmxj+kIAQJ/LqcvLZc5Z3dRQUrmZlg+DOKfAuFsDz7fyem/XaMo+5o9f6SRy9vH+3AU2\n",
       "GSSmUhX0badY7t3lJ6Rc8vmb+SlBXZNZ5eCg3Nmi78t/VeyOyqvHM5J95c42plxgJPqmhsJXKkcW\n",
       "Wfai+lreLfsuq6Z0fWXENj7O9H3k1slMKCHs/3n6D/92+a9QnIsvipWsIwrTD+k0T8riSpZZAWBK\n",
       "D+Oy7dqPWr7CJqM6tH9SmacDL7sJEcAd5dd3mvTu5XwMzS4j+dgeCh9wM2937DDExiIBTbogrue9\n",
       "e5F/106Mz0i+u9Bj5nA/G3lDnvF8e3bIKb/ODW+l/2I/Xv8350ZLtmcjED0ipRVXM6RBfRkumm8y\n",
       "1qy8COqJAYIoDWXBaspo9USzmutANBJVM1Bm4o3VjP9apgijkSry0I11TOWlrWBoScFjftXqi7DX\n",
       "zq5kElbGNyQI9QAlbQc6NkEkFT0FB78HKJTl9cro0bFA77hGzzZi3XFr2LweMuauKyHwqwsvl88P\n",
       "7n6AbYnOi+spbPuNuxHEskk5+mGCZ9jnot+/EX5v43DInD+J5VGMH/qoAAACC0Gbt0nhClJlMCCH\n",
       "//6qV76JgJQATt7A/hzDJz2PXM8Pay2RRqGUQ7cSJi2lKhXo/6sd8o8kJ1ZhmOUPULgLr6uweVwf\n",
       "iHmthaaLJn686BkwpDAUEh3OrCpO56ySjiX1NgOCm7F3MjaWpQ0IxdFkol2JD7OciS2SE/epU1es\n",
       "QAm0wXIfvNJQsKXSDWomR3i2i8fvPn5QLZJ6h5sBMITEMIcTZDZXRVd+1ITunoJb5TJzwd4S90nV\n",
       "Pp4NE3DQudnyC7Sg4Vfh67ogR7Ozr7CAFaeNc7juLw72Z2LUjmi2/wpbb/6TSEKw5CB4SmEYKKp3\n",
       "WiPb73K6rq1Z4Ivai9LgG5jwAQOqKXbBy/MnYKPaxJsRi2hKqzOPcqM5zUQkFSIBbdgbzSXRBYRI\n",
       "gYhWL+nDm4TM5SYbtWxlpleUWUE1Yj0XQ3eu1d19Nm6u9yP1bUmD0giweUzhEbt05ZkewjJoclKI\n",
       "V9xpUnoKdGilfkb7sMX9aS3fd8nYFZtKWYpoWP83KLMJ2o9RimShEhx6VsS1UlTwH73oBd91mmxe\n",
       "aCCxgtquenwk4kuN031zPQJn3wjauTPJKAIZ1FvUqjzLMktRPaG9TdRMBD59DrKARysOijudRwwe\n",
       "K5O1tWmn57vbp4j4H6lioMpb+A8YQA+lnvzLEdWuy2SzlQlteFixy7gOT5p4O+4NyTHQQj2E9MMA\n",
       "AAK6QZvbSeEOiZTAh//+qZxkQxgA2o8oLvqCnzQ94KK9GSQ7cfdcDO/jMIlu5cFD/KvO3hYFSAu0\n",
       "ORC50VmiTf69EJnA8hHXAJq6zd1JMGHkd4Fyw2BiCSzqFe3L2PS/DHIR+rf+qpFP0WVRnpxXAeLs\n",
       "IOjdXP03eageFgyv2S1nQbg8UVtjLxtXgQZfxHeYMkbXHzKLv98l0SXn5ipxOH5wDtKRrjUFvWmY\n",
       "Zpo0FtH+2DKD7xYfL6uUlWRN2yvpPePoBf2NUrQn4KTqoTWB8vaUP9nCJVKbz2LkKdZ4eyFPkgfl\n",
       "ZqBIA2/TXhVyCxlD5qEVsZ2KtYaqWemmOv6MkmI9ST/6VuRaP5hZ+kTM82wvz559PCzN2VGNcNqC\n",
       "d7SPU+Bo/mF0/09Li8BF2lwyplV6XXlec+VcyB8RsGbG+EVB/YspHDG/Vj4E59bQODVRHZBa9uYm\n",
       "dPwdkncBlfqIh9dRcTq5FWz7TBjIxCWvOzpNXVA8MGku3cjkCzULaWCCL7Bvo7SdzdV6X2Q3j/1D\n",
       "jMEV4a+s/pmTeVM8Rz48zzCP9PmczMhGkJsJuc4/rniMU7c5uj1t1FYIILGXQ3/dcpKrf5yVpP+K\n",
       "PXYjwVGIehJ/nej6f63CIdBYXTzqLauHcNVMQVqTkzXrG9+TEC1k9Ag1PgjmYV7AtWZV8NZ7iC/Y\n",
       "OqWJcYgpqQtyVelpcObhZ11BLbfqQSpmngYHZ8rocSk/UXeVTgn80410JHH7uTsljEdIJYkseF/y\n",
       "Le6flIqii54CBU1HY+tIB6mjxJVmfxo/fqzCg2xaK+X+G1ywAAADAD25XgcuDDLGVgQaOeA3qbmQ\n",
       "IJHx3zW0GrLn3ZQFGvm9o2eAfQ5nvvWTh3fV7VhWROLPePJecQxeQvtWDVrulIYs4MI28QSft69m\n",
       "Drb9GFolqyEsl9uJUflQIkUAAAG2QZ/5RRE8O/8FlXssAJq1OQ7IsK6LFiCIU99O+WJR7G/7pbrf\n",
       "Nx+p/0QZ49GdXP5NqkqIi3UEf7ifbDlRhy0hf2f/NxFcc0HHune1gUxkbTd3B9TIg7E845+NNYXm\n",
       "dqEGwSbnGlnsFeSaj7UREufaJAtjuiMJPk3Oz11xWqcw4xF+NRt2/yeEy45pETPcwjZaAAADAABe\n",
       "2rNsYOT+z9Cd15NRRCevwOO77Gh0nUfhBzQtrP8HitO40hoUFel+CQ1+UIpu/VEI9xIq8ZPoi5Yi\n",
       "exS669StwHU5M669c8Ba9aSX8SB0K7Q25JYp+UnoKMUEhti/yXcgeqxJuOZmsoU/Ts/3Rhp8DnN2\n",
       "u03AXLNMLkAyO+npDTpKJznUrdfFcU9hQxx2GcmVMwXZ09rwiIyaFTrPrfBJmsF3O7y8vNvhYEZD\n",
       "aFtdzoaEcr1k78g3ZClx5Sd58LCrY/n6sf2BsBVxdmjdCkBwQRQbrQy1ASSbSlUHAAADAVKyliDb\n",
       "4dGAjuFwZ+UXa41CqunD0xhKwwqgLkZ2PMS8R3J7beKgLLL3459PRsweW3qcwOHRVVC2+/vXbmZN\n",
       "hLU4AAABJwGeGHRDfwaszSO1+2ZzNRAAhF/UYll1uw0L/ghxNGDcSz/9+FijH+QsbfaAVwEYQz7p\n",
       "DNxIDE9eTGxc3fwJ3IsM9Bns6I8u2xcU39VHY1nLPpSW/cVi5iCLc6dQ/Ua8a9mnZI4ng3cr+2eI\n",
       "rRUFYqI880S6FkMukJvuXEsiGQsi3dfB3/5G5l2aemJ8BS2AudQ7nZ1pMA33Vo+mSeCfMhSj9iBo\n",
       "QR5ox1No/24sAtdT8cBYEgjoSLYX0UiriMGL6RQXzFWyTIyVwJeeJhk6sM190kBaORhHJ/aW5dlb\n",
       "bT/yVm4XlprgZw/NGgBs/NEPQWBfrXZ1sL8AdF+fwhVV07hQa9viVaz4s1HgtFcYrPyCQ6UozwL6\n",
       "8jP8aTQjIfD58SelUx3GacEAAAD6AZ4aakN/B3HRACFPeZyt1POvRFlhPMOhZGzFxDNV8h4OlDH5\n",
       "Ph6bxkHdKEoTOFm/pBG5hit5CK+wD+gMdLlmudYgOxPFVNv69/YAd/BpzAi6yjT5OfhCOdoOMKg4\n",
       "8M+f0BDEq0T+7AvmI8tQXOzvCUFmmQ3twgY/41atlWJiflaTIMHN4+j1L3PQrvV0Ki7K8Q4LEr7M\n",
       "kil5AFs+Uxp5m8Lvz0uGq+EtjO5UFa22FEFyslE07LxDpjmUSHzBCKnQF+1nXXSQsrDOm6noCWnN\n",
       "mbzfXQEzG08I38kFKyBE7bo9B6QaJuy63N8vPFtJgniuKJ3EYbQBjyEQUAAAAaBBmh1JqEFomUwU\n",
       "8N/+p45hG3gBCnuR66ukiBwJ5CzudDEgDp5QgtExuhNTKmy0yl203Nzjfz9Cbo18Ea+F5MqGb8E3\n",
       "jZD27e8aYOPdLjQKJkmvOqqIEN1RU2AW9Ch1LX/ohJcdmVke+qKuIfKrmbBzVWpZve+hI3MbCGjX\n",
       "hSW/0//SnXMXIFU3vywX6sK07FRvDXNZe8Xf+OxRhN9H8DVPKJON+JqXn53SgW6sVLEQ1m7vissV\n",
       "pewxfLeoMjX60/h+EaFxuCPCp9ShPlW+ITX/8WCRhmLkT6yh8Yr7638hjtGVaiOltq3MGSXpwvA+\n",
       "Wf6FT0fBvlAOWZVwuDxCA3BZqH7n6rB5X5sNb4abFawMsqsLtzMxc4BA/S9ZNY8NallTMtqHBeb4\n",
       "4kknUBJa/DI+ZPRm21foU2nLxzTnakEdbyNY2wPgIm6/0AFGdYDu5X59yUb0WTJG5pHVNM6WpHxJ\n",
       "7qcPuXKbbNIDylJAJmH8UX/Aj2D519+fDnrvEPs70nc70FQm6ziC1j75eLzQre6QoBW6XaXDoXsh\n",
       "srtz2WGfwQAAARcBnjxqQ38HFsk3EAGyajgitvT+DsBwmV6u8KFOYXD8ZuRIk3CrUhDgA1bXaVZw\n",
       "RLHgKIM3sSi5EkHs/iGZGJLY1I8vJkSFMHJ2yWdHgaVj6pXowIFU+1ySKy0rDYoSDlHdkvWu0VO3\n",
       "mviTiX+RIEnFC++mBS69bkzLVUJob4Bd5WAAWYhtfySXAlVGqQVQ2vyfk7w0CXvfNSlE8mocc5kz\n",
       "PEpFDdd1EEVR/+QH9K39bF7cft/BiYFlVPDRkq4aadrBE8dVA+3c1M368pDbX6nT2xavf+lxTQyy\n",
       "r3pUJoO5ulViG2UxiYYiA0mttJ565dwgWbLaq1pBfZSaWulzzCC4fQLnQ8Qwt8Z3Gm5red5SjEE5\n",
       "d+mAK+EAAASGbW9vdgAAAGxtdmhkAAAAAAAAAAAAAAAAAAAD6AAAC7gAAQAAAQAAAAAAAAAAAAAA\n",
       "AAEAAAAAAAAAAAAAAAAAAAABAAAAAAAAAAAAAAAAAABAAAAAAAAAAAAAAAAAAAAAAAAAAAAAAAAA\n",
       "AAAAAAAAAgAAA7B0cmFrAAAAXHRraGQAAAADAAAAAAAAAAAAAAABAAAAAAAAC7gAAAAAAAAAAAAA\n",
       "AAAAAAAAAAEAAAAAAAAAAAAAAAAAAAABAAAAAAAAAAAAAAAAAABAAAAAAbAAAAEgAAAAAAAkZWR0\n",
       "cwAAABxlbHN0AAAAAAAAAAEAAAu4AAAIAAABAAAAAAMobWRpYQAAACBtZGhkAAAAAAAAAAAAAAAA\n",
       "AAAoAAAAeABVxAAAAAAALWhkbHIAAAAAAAAAAHZpZGUAAAAAAAAAAAAAAABWaWRlb0hhbmRsZXIA\n",
       "AAAC021pbmYAAAAUdm1oZAAAAAEAAAAAAAAAAAAAACRkaW5mAAAAHGRyZWYAAAAAAAAAAQAAAAx1\n",
       "cmwgAAAAAQAAApNzdGJsAAAAs3N0c2QAAAAAAAAAAQAAAKNhdmMxAAAAAAAAAAEAAAAAAAAAAAAA\n",
       "AAAAAAAAAbABIABIAAAASAAAAAAAAAABAAAAAAAAAAAAAAAAAAAAAAAAAAAAAAAAAAAAAAAAAAAA\n",
       "GP//AAAAMWF2Y0MBZAAV/+EAGGdkABWs2UGwloQAAAMABAAAAwBQPFi2WAEABmjr48siwAAAABx1\n",
       "dWlka2hA8l8kT8W6OaUbzwMj8wAAAAAAAAAYc3R0cwAAAAAAAAABAAAAHgAABAAAAAAUc3RzcwAA\n",
       "AAAAAAABAAAAAQAAAPBjdHRzAAAAAAAAABwAAAACAAAIAAAAAAEAABQAAAAAAQAACAAAAAABAAAA\n",
       "AAAAAAEAAAQAAAAAAQAAFAAAAAABAAAIAAAAAAEAAAAAAAAAAQAABAAAAAABAAAUAAAAAAEAAAgA\n",
       "AAAAAQAAAAAAAAABAAAEAAAAAAEAABQAAAAAAQAACAAAAAABAAAAAAAAAAEAAAQAAAAAAQAAFAAA\n",
       "AAABAAAIAAAAAAEAAAAAAAAAAQAABAAAAAACAAAIAAAAAAEAABQAAAAAAQAACAAAAAABAAAAAAAA\n",
       "AAEAAAQAAAAAAQAADAAAAAABAAAEAAAAABxzdHNjAAAAAAAAAAEAAAABAAAAHgAAAAEAAACMc3Rz\n",
       "egAAAAAAAAAAAAAAHgAAE9oAAALnAAAEsQAAAbwAAAFmAAABJgAABDgAAAGSAAABOwAAAQMAAAPG\n",
       "AAABdgAAAPMAAAEHAAADPgAAAakAAAEHAAABKAAAA8YAAAGpAAABGQAAARoAAAJuAAACDwAAAr4A\n",
       "AAG6AAABKwAAAP4AAAGkAAABGwAAABRzdGNvAAAAAAAAAAEAAAAsAAAAYnVkdGEAAABabWV0YQAA\n",
       "AAAAAAAhaGRscgAAAAAAAAAAbWRpcmFwcGwAAAAAAAAAAAAAAAAtaWxzdAAAACWpdG9vAAAAHWRh\n",
       "dGEAAAABAAAAAExhdmY1Ni40MC4xMDE=\n",
       "\">\n",
       "  Your browser does not support the video tag.\n",
       "</video>"
      ],
      "text/plain": [
       "<IPython.core.display.HTML object>"
      ]
     },
     "execution_count": 34,
     "metadata": {},
     "output_type": "execute_result"
    }
   ],
   "source": [
    "# Create an animation of the traffic density.\n",
    "anim = animation.FuncAnimation(fig, update_plot,\n",
    "                               frames=nt, fargs=(rho_hist,),\n",
    "                               interval=100)\n",
    "# Display the video.\n",
    "HTML(anim.to_html5_video())"
   ]
  },
  {
   "cell_type": "markdown",
   "metadata": {},
   "source": [
    "# Godunov's method"
   ]
  },
  {
   "cell_type": "code",
   "execution_count": 35,
   "metadata": {},
   "outputs": [],
   "source": [
    "import numpy\n",
    "from matplotlib import pyplot, animation\n",
    "from IPython.display import HTML\n",
    "%matplotlib inline"
   ]
  },
  {
   "cell_type": "code",
   "execution_count": 36,
   "metadata": {},
   "outputs": [],
   "source": [
    "# Set the font family and size to use for Matplotlib figures.\n",
    "pyplot.rcParams['font.family'] = 'serif'\n",
    "pyplot.rcParams['font.size'] = 16"
   ]
  },
  {
   "cell_type": "code",
   "execution_count": 38,
   "metadata": {},
   "outputs": [],
   "source": [
    "from traffic import rho_red_light, flux"
   ]
  },
  {
   "cell_type": "code",
   "execution_count": 39,
   "metadata": {},
   "outputs": [
    {
     "name": "stdout",
     "output_type": "stream",
     "text": [
      "Help on function rho_red_light in module traffic:\n",
      "\n",
      "rho_red_light(x, rho_max)\n",
      "    Computes the \"red light\" initial condition with shock.\n",
      "    \n",
      "    Parameters\n",
      "    ----------\n",
      "    x : numpy.ndarray\n",
      "        Locations on the road as a 1D array of floats.\n",
      "    rho_max : float\n",
      "        The maximum traffic density allowed.\n",
      "    \n",
      "    Returns\n",
      "    -------\n",
      "    rho : numpy.ndarray\n",
      "        The initial car density along the road as a 1D array of floats.\n",
      "\n"
     ]
    }
   ],
   "source": [
    "help(rho_red_light)"
   ]
  },
  {
   "cell_type": "code",
   "execution_count": 40,
   "metadata": {},
   "outputs": [],
   "source": [
    "# Set parameters.\n",
    "nx = 100  # number of cells along the road\n",
    "L = 4.0  # length of the road\n",
    "dx = L / nx  # cell width\n",
    "nt = 30  # number of time steps to compute\n",
    "rho_max = 10.0  # maximum traffic density allowed\n",
    "u_max = 1.0  # speed limit\n",
    "\n",
    "# Get the grid-cell centers.\n",
    "# x_i is now the center of the i-th cell.\n",
    "x = numpy.linspace(0.0 + 0.5 * dx, L - 0.5 * dx, num=nx)\n",
    "\n",
    "# Compute the initial traffic density.\n",
    "rho0 = rho_red_light(x, rho_max)"
   ]
  },
  {
   "cell_type": "code",
   "execution_count": 41,
   "metadata": {},
   "outputs": [
    {
     "data": {
      "image/png": "[encoded data removed]",
      "text/plain": [
       "<Figure size 432x288 with 1 Axes>"
      ]
     },
     "metadata": {},
     "output_type": "display_data"
    }
   ],
   "source": [
    "# Plot the initial car density on the road.\n",
    "fig = pyplot.figure(figsize=(6.0, 4.0))\n",
    "pyplot.xlabel(r'$x$')\n",
    "pyplot.ylabel(r'$\\rho$')\n",
    "pyplot.grid()\n",
    "line = pyplot.plot(x, rho0,\n",
    "                   color='C0', linestyle='-', linewidth=2)[0]\n",
    "pyplot.xlim(0.0, L)\n",
    "pyplot.ylim(4.0, 11.0)\n",
    "pyplot.tight_layout();"
   ]
  },
  {
   "cell_type": "code",
   "execution_count": 42,
   "metadata": {},
   "outputs": [],
   "source": [
    "def godunov(rho0, nt, dt, dx, bc_values, *args):\n",
    "    \"\"\"\n",
    "    Computes and returns the history of the traffic density\n",
    "    on the road using a Godunov scheme\n",
    "    with a Lax-Friedrichs flux.\n",
    "    \n",
    "    Parameters\n",
    "    ----------\n",
    "    rho0 : numpy.ndarray\n",
    "        The initial traffic density along the road\n",
    "        as a 1D array of floats.\n",
    "    nt : integer\n",
    "        The number of time steps to compute.\n",
    "    dt : float\n",
    "        The time-step size to integrate.\n",
    "    dx : float\n",
    "        The distance between two consecutive locations.\n",
    "    bc_values : tuple or list\n",
    "        The value of the density at the first and last locations\n",
    "        as a tuple or list of two floats.\n",
    "    args : list\n",
    "        Positional arguments to be passed to the flux function.\n",
    "    \n",
    "    Returns\n",
    "    -------\n",
    "    rho_hist : list of numpy.ndarray objects\n",
    "        The history of the car density along the road\n",
    "        as a list of 1D arrays of floats.\n",
    "    \"\"\"\n",
    "    rho_hist = [rho0.copy()]\n",
    "    rho = rho0.copy()\n",
    "    for n in range(nt):\n",
    "        rhoL = rho[:-1]  # i-th value at index i-1/2\n",
    "        rhoR = rho[1:]  # i+1-th value at index i-1/2\n",
    "        # Compute the flux at cell boundaries.\n",
    "        F = 0.5 * (flux(rhoL, *args) + flux(rhoR, *args) -\n",
    "                   dx / dt * (rhoR - rhoL))\n",
    "        # Advance in time.\n",
    "        rho[1:-1] = rho[1:-1] - dt / dx * (F[1:] - F[:-1])\n",
    "        # Apply boundary conditions.\n",
    "        rho[0], rho[-1] = bc_values\n",
    "        # Record the time-step solution.\n",
    "        rho_hist.append(rho.copy())\n",
    "    return rho_hist"
   ]
  },
  {
   "cell_type": "code",
   "execution_count": 43,
   "metadata": {},
   "outputs": [],
   "source": [
    "# Set time-step size based on CFL limit.\n",
    "sigma = 1.0\n",
    "dt = sigma * dx / u_max  # time-step size\n",
    "\n",
    "# Compute the traffic density at all time steps.\n",
    "rho_hist = godunov(rho0, nt, dt, dx, (rho0[0], rho0[-1]),\n",
    "                   u_max, rho_max)"
   ]
  },
  {
   "cell_type": "code",
   "execution_count": 44,
   "metadata": {},
   "outputs": [],
   "source": [
    "def update_plot(n, rho_hist):\n",
    "    \"\"\"\n",
    "    Update the line y-data of the Matplotlib figure.\n",
    "    \n",
    "    Parameters\n",
    "    ----------\n",
    "    n : integer\n",
    "        The time-step index.\n",
    "    rho_hist : list of numpy.ndarray objects\n",
    "        The history of the numerical solution.\n",
    "    \"\"\"\n",
    "    fig.suptitle('Time step {:0>2}'.format(n))\n",
    "    line.set_ydata(rho_hist[n])"
   ]
  },
  {
   "cell_type": "code",
   "execution_count": 45,
   "metadata": {},
   "outputs": [
    {
     "data": {
      "text/html": [
       "<video width=\"432\" height=\"288\" controls autoplay loop>\n",
       "  <source type=\"video/mp4\" src=\"data:video/mp4;base64,AAAAHGZ0eXBNNFYgAAACAGlzb21pc28yYXZjMQAAAAhmcmVlAAA4P21kYXQAAAKuBgX//6rcRem9\n",
       "5tlIt5Ys2CDZI+7veDI2NCAtIGNvcmUgMTQ4IHIyNjQzIDVjNjU3MDQgLSBILjI2NC9NUEVHLTQg\n",
       "QVZDIGNvZGVjIC0gQ29weWxlZnQgMjAwMy0yMDE1IC0gaHR0cDovL3d3dy52aWRlb2xhbi5vcmcv\n",
       "eDI2NC5odG1sIC0gb3B0aW9uczogY2FiYWM9MSByZWY9MyBkZWJsb2NrPTE6MDowIGFuYWx5c2U9\n",
       "MHgzOjB4MTEzIG1lPWhleCBzdWJtZT03IHBzeT0xIHBzeV9yZD0xLjAwOjAuMDAgbWl4ZWRfcmVm\n",
       "PTEgbWVfcmFuZ2U9MTYgY2hyb21hX21lPTEgdHJlbGxpcz0xIDh4OGRjdD0xIGNxbT0wIGRlYWR6\n",
       "b25lPTIxLDExIGZhc3RfcHNraXA9MSBjaHJvbWFfcXBfb2Zmc2V0PS0yIHRocmVhZHM9OSBsb29r\n",
       "YWhlYWRfdGhyZWFkcz0xIHNsaWNlZF90aHJlYWRzPTAgbnI9MCBkZWNpbWF0ZT0xIGludGVybGFj\n",
       "ZWQ9MCBibHVyYXlfY29tcGF0PTAgY29uc3RyYWluZWRfaW50cmE9MCBiZnJhbWVzPTMgYl9weXJh\n",
       "bWlkPTIgYl9hZGFwdD0xIGJfYmlhcz0wIGRpcmVjdD0xIHdlaWdodGI9MSBvcGVuX2dvcD0wIHdl\n",
       "aWdodHA9MiBrZXlpbnQ9MjUwIGtleWludF9taW49MTAgc2NlbmVjdXQ9NDAgaW50cmFfcmVmcmVz\n",
       "aD0wIHJjX2xvb2thaGVhZD00MCByYz1jcmYgbWJ0cmVlPTEgY3JmPTIzLjAgcWNvbXA9MC42MCBx\n",
       "cG1pbj0wIHFwbWF4PTY5IHFwc3RlcD00IGlwX3JhdGlvPTEuNDAgYXE9MToxLjAwAIAAAA0fZYiE\n",
       "ABH//veIHzLLafk613IR560urR9Q7oLfS9vxRh9gGvIKR/gl4XII2Gb+mnmWz7HTtcsW5MeXTvaT\n",
       "QP/qbeS2+3GjpqBiFTYAxPAHEblasXRNrxnet9XTzDZSwPdwBikAomekGykCLtcOHrBgZohqY1zo\n",
       "roaFZtOn1Bo/GExJqV2zmFBCGFgmf169Cx2yivZbtN7k8oPGKqeg7eF70l3+aBv1B5U8qzWb+TLR\n",
       "vm0kSFUtZhXNRGrZWiFdXZA+EX/ekfCxlfPIxTNEVZYTFiMmAQ3eslONmVLlnEJDr47i/zEZyBqO\n",
       "tcc92K95JiEbI457Dyoo+gN0C/tYRXA37gtbhV9izIszoYf+mD3yqixjP/rGxzgq07kJEOaa3Yhe\n",
       "9v0oSjHeiwXBAKvprgtTKfzZH2zle5+RheUCm8o36XVQ5X64H8jfcwoXjdZPI+n8UmZSRBUsM+Tz\n",
       "SVGFZTOSx5jlAqZFh5x16HgF+7T1AtNARouDX5qaF5vI+RjSKPMm9NcdGl+HlmJ6PMeEutZleS4V\n",
       "w224PBLRZlSDal8X3HJSZmY9fmRiYJgU0cuBIP1u2fgvErwGMBdmuU8DX59MiWoMQTH3/dSCgpO0\n",
       "BtqjDYjPPjl1qP/38jm8ormfzoShjE0kWcXhfzttHcn8sEoNeZhtHB2Cc3cgS0zor25uJz98Io3J\n",
       "/MQnH2UN/Svtr19x+E2uyamUlKj4bMiOBaMpp0kzBSPGK4q1pPCSsL19N7RiCNlHYh/w1npyuPv+\n",
       "VzPLKO1AWRZHYekUwZQ3V/79qTqQRn9Q+VjPo4V9+XGoBnQwaQr77c/JlZJDVBR5i2uD7EVTefR+\n",
       "fSBHbtsHMQAiXr7uM9jreBVE9rFAPmVnC7qcRswOEd55gRWgrTg8fuo1rr9eldxZKTBbnaRP0Tsm\n",
       "Z07rx+C6TD3Q0ABIEOebvi0KSWP1h29c+KLLuWxTQ0TNkzifXlvqQvvSQnz+c+zO/ck10f519EvT\n",
       "/blAyXby6FEX8I/N5ABDivK5KmFmSEb1WdMUMfUpkOBxfrlatzgakhssKCGEkSmQ4RY07WTZsLGc\n",
       "ZShL4ajVoAm1La6cmHlTZxJUb0lit7Cz0JzWVAuYcpzU9TczbGjS0pDlo24gayhlH7hoDeJte4+o\n",
       "3gXmbGHNvAsPANnsIO09x5aYuLl0IvnPTXFwNNeH3/oFsVPLwNvz+nCA0SpbtBc1Ga8q3ERo9SDk\n",
       "E5dju7+Jrlv4CE0mLFjIjubX+7ncy7mfIPkuMKYCQHdIwu/jSXFp80JdPdTr6ObHR9AjTrp4vSfj\n",
       "sp1zlJZamnqlw5jE26M615UUpaBvYFIfOw1jKjOdy/HlvWeH8Fn8M9FW5fjoX+TPirgghbop8wTe\n",
       "sBtaS5WZig7Qc22d1mm5lYd2ANVBg1g0BQfDCjWaq+3sXOELk+4GvOfPgJjnXrMOr8vJC7BLdDQF\n",
       "xIxj5uPDIUSh9joaXfQp+rCDUZd6/dcJbyrOk0+MZBs8PUoWZVH28pGHo24PFxjq9iuqMDKZB67p\n",
       "o/iTy13YNhlKyY2kvc5UJLWu5cvtOh4Nl7Z7DhO+fCFtC5UDdobC8VStKmCxu4++4uN4WNb9HrrP\n",
       "/ZzDIVBQHWNe+w31ERsh55KajmS7ECd+yNHD3OKmMVIS87zpA9Mvloo4BHt3LheZ+60rhA1T6iKk\n",
       "GS8612MasREwzA0je8kaYJBIn6d6To+f0Fu7bjutczHXNFRK9/s9M93bwkPoynZh9IX/4KsMx8DG\n",
       "BpB+ChIIt8CzZ9tnVpO9o7YMZdzqx/K9Cx0M3yFg5ig/o4NBecRywYPJfpdZR8rNpq/IIutp85n5\n",
       "FQ25Xk/HvS2mlPxJrs3cTuPn/zeJXBlUcEDYdibo7+p///5aDyWa8wO+bgCWL00JZuZkyXwflHG0\n",
       "Lr15A3pj3w1KVgZWC8r/MJttMLQq5q8qcryyl2MQnp/cJHf4Uv+cSvUoPVbPADQwTbdDeLuBjEbi\n",
       "Uf8choJ7fDJOgQgjEEWl5zjyG8EtmGpfQcj+5SWjS0coU/onfD37tpLfxyn3sWz14x70dbUFeFJ6\n",
       "sG697SxBpzalsEt7FwWlaM3pkre+BoTy1UWYa2NmbNSxDD0Hxax/JpKuQF5tTGq1dNiGcPDk+9Xg\n",
       "QjAbl67L52ZU0PZvNf1uKHA+WVWlQA2gbTfO3VBbYHhi8JcHGtLSRBTFFCRzbVQzfV+SKHAaX4FA\n",
       "D3zw+EwecT3bD77jAn/uZgbcVHFuEnxsTLnd3IR/BUSPi89NwLNeyGTVo1p874PPj/ZvJCUQUXbo\n",
       "8Aggp/KtkRUViq+0eFTzrXbItsIY1CPlo8YhONCLe1uCdRzO98uWRUOgnWrK1QOuqcLmr7koIBcD\n",
       "v6Mw4oEYwQ8f3RuGAjJL40aDolPuLCeQqZ1jfih72qoGAt0B+73WxHEOIbf+wBwRQSRU9VCgSeZ1\n",
       "3y+aB+6N1UoD8AgbZ4r2j9B8Cycw8yLZCZnCN0fYw8xQXVqNmMsb4fjzZ+CtU13dhmH+u5i9pAgB\n",
       "JrIXE1+eo25U05Du0BhyVw/gWrk4tosvqfwPPnnWwgg6xdUpmfsUsylj1pnOmAY9CSrSiTjuLQa3\n",
       "VLTxgXFyOf25dUvislYZkhF9CgVnILn0SxE3BC1wDQpBz+/DK5J8D5CDLih3Bf1Z6C0d9Ezeo1rn\n",
       "oQP1hpjQA33KTLos7zUfaDNQQUBdS80xv9weSJLCHPusEntb1gwcSOfPX24D/xpIFmBMWcNFsLis\n",
       "gxVsXjINGyRqhGhPAoKic+R++zHGSkVjk9ZXqXsn8XkiauxPnQtq0705ueXCjFKA78SiQkTU1iwn\n",
       "L6FLWH0uehqs1WLhirIeL8vzRwZkF1mqqOq1YjQcige09M/BMf+mjq1vA3oA0QyFQCIQOnBYlAPX\n",
       "KPrpot72H+TDhxZNtrb6+S6+g35yNY6TZkQ8GvlfKfG/5XL+3pn5VNNPmhJ3gLqT3fRSWrsQQQgL\n",
       "pIwOWz2Ej0xIqR28COsZQAxIIN1sJrYUhdxyubZLggw7qLDUu6lwVmbk0N+WnTUaQOK4Aqd7m196\n",
       "CDYNnT0qf/aeRhPi5AU3l96iePm9oKpcLodrTxf1+8d6AyYKhdpCDY0mh199owlGWTg7Q4MEnugI\n",
       "HBmBHzP1qFucq9k31u7LpsdtFH3sNLtHN0a8yK86umZbXGN/LbaIsU9joalAXtgWf6qInADyMZMZ\n",
       "EfLu1r0l0URGZ5D5hVq0aJWURE+7wc6KSwfl1NR7EceE+ZUT+3p3arAoUs9kPzcleHn9z8Q9f9Zx\n",
       "1vSba5YEgkB/Vn649vhlWiXVZc0yXDB4PaB+3AQZzOhrHWad2Eo62HS49QtEJLiPs/Q0oI5P/0fR\n",
       "teiwqFAUr5IaXHn0vTRUgULGNja57+eNgM8HDFmkGIzzX+H/ei6jZotAXezKeDCD/wMINPNIBvoW\n",
       "yxhCMuq90vNZbjjwfD4NRyJYsFwvqIIFGIuVG6yfgED+b7gKbgireBlk/j1N17+S955TshOjPMrf\n",
       "kP6KNh6XgJBEiETvCMMCPXeLeZ2H87x8NWBGQmHEbaXyFgoQfrcrXQpnbx4WOZzDdlmAnrQaoAnn\n",
       "LKNr/OWMR6QEkoOKF/CDBayUZn2b62MwE59VbN/G/VsW3pcJW+ilghNQdcYU6TalTA6LTFT6Qzms\n",
       "8od/DH32eTCVNQ/G2nQOXzigmbmr8eCEkw5YIfjtVLZhjd+sotk73ooyHf4IF0zjU75I37GAPGu1\n",
       "VwaVBGYKctBDKymQ5J4ziYAwrTwKekrvRZF5Mqyq0LOk/v42f8lhTuJK8TWhJCUiSlxCc4Z9DKyu\n",
       "JEV2SDJwfFMIBhq4My+EkHKaO4X4Nr1UXG9G6vOivyxDitttjXkg6On0wTsIRKCcp5ilqsDvSFeV\n",
       "bbVoAJlgD9PdeDRgo4MpB3aFHj9pZ5CJqIMQxMfTuMjO1yz9XBt2Unf+ZELLg5PRgGkIAmRBzPuf\n",
       "w2OEsBXs3ZqNmOnB2whiabULl/RcWgvgGZqfQS5HrSuz4GYOuZPMRCA/DsQ3B/Kre+KTWXc4vQQV\n",
       "+XIPEuwnMFo8/G4L0sviWy4whDHhsGU3FU7zb6CGr4Vk6RtG/0O/nX1J/Oaq+AzAH3gtK4FnRbPR\n",
       "dUGi4315PZR1AN0/Fy2j/lxWt8xQDSjxq/TCtVteAlmMJ1RdJPD6aK9x4XOG6+W5Dcpe2pzOjLaH\n",
       "pBJJcqC/S1kuLxeC6Tt83sSIlj+ECnd5oIPgWHVT1fouJ3KjPWYuVjlCBfn0JnDPeH0QmBK9YRfn\n",
       "m9VB8qpfhDdnUgirkyl0Ea0Iu5r9jmNNWvOuXycH7DJAuJd74T4bfGIi7T8duXeC7FwADXLvY7FL\n",
       "/XyzAzQRCvxat9WiulPRFhymXfxVPk+68uFQrtQT+5Gj3ZEjSsOl1r7W6S9XQ5GndlGRBYhpk6Q9\n",
       "QHfvLF86UcoJ4Yyq3u6HNJ55tCQR48Rg+urvc58//l6FkPMpHo8Yf8CjYtm6uAAAfEEAAAL2QZok\n",
       "bEEf/rUxSOzQAVdauqLvuygHKcjYzcSkFQc0OMtCnil4zb5xu3n0le/rLT7h3kIfILq9SNISK4F9\n",
       "NDP56z/FmBPebdCNgDywi23TAKkd8qadn73liubLxV0EklP2UFaQBSg7whFk5vbxzlGjRFCxpji3\n",
       "GUPkTuN4qvF67q5j3kL8CYPM1ULPdqdSqttOCpBYDIFon9mEEP6FFbk0zvWl9mxuHROceMfkvD7q\n",
       "z0CCX8gqiHHcIbtmYtCsw6gYnBYE0xgN6p7apZ3+IcZ8ru8sPgpNCrMbmLl21maWHnojV3kQPGYP\n",
       "1VPe3p/Z/7TPQ13XOH08X5yt+9EpHwUmnNmrmFqUqivxHock5X0TWXAAahhepSHUj5BWhxaJBTbr\n",
       "EMk7qGbq/zhxS9oyGtlaM2Eep5GTYqhDFZcjyo6qAI9V3GPAOyLKl46Dh7MJRIB2Ql6796mdsius\n",
       "5fm/Oj42tYb3ijrnj917Qxl4McbWFHU32FHslMbPutv0XNgU90uSZ0yT8ay9GfID1GwFPVqKkgYA\n",
       "g8ui4WHyksStbgsjfhj+IRdMIo0qezuptDcNg7yKbCsG4nwZo31pFStczGV9DWPhbrmu+TyB2ch8\n",
       "nJgRq6SVZarMdQnkYDw9husX5Ge9ZXBUYy8O1AwlgixnlYGxlKPVid1KvtMc4hFAnE2FvfEzlQ2l\n",
       "QFnElLgPztC4XbzsDhNK+eRqs5W3dxZvNtD4ugVDmIJS9vZeOGRR/HU9y3zv7P+hCLDYVNUU9Ycq\n",
       "QlWveXhvonpMkydce9clEBEw/WtG5Ukp1OyG0qSqKpO3PbcHqDTP4l2OIzDxH1FdSkp7ob0maQt2\n",
       "yZnCIwKQ8EEbsHvuszM0gCCkpOefCOZ5TuebUAPaI3VfV1EkU1yFjj+Jd/yYX1xd47d84s9TCZyt\n",
       "gp2S2F+0MSa4nYTZKvXeIl6Iylc1RuwDPNeF2Cfd45Ux2KSTL+Tmmi8OzgmPftI1solfURYMzxhB\n",
       "C1HYj91xCyqYVFvM04AAAAGuQZ5CeId/BR2fB5UGDXgAfz//hTRViwLwvr9olYLFzWAxxkixgQnT\n",
       "zIOY+qxzpP2A3t+RCyNKeuOGBpkdxB6LsSqpqJToL59gJNAoid20gsJZyTuVnpaMT9q0AnLrWgOh\n",
       "0ppEdlfH/LltUob55hqXkEG2uDxBjjAgQ8BaPfA2HAwCTTXwIYws3kik0pdxXe4lgP4KWoEUIp2j\n",
       "TTcn4u281+I3fCd6S5ZB2hzQqRAG62jATuAVmti6c7AFxRe9/tPAwmTJ0OS692NQbgnjKR7RpuxQ\n",
       "UbFiRzEpNqmdyIqyvg90Kd8qAelj9fZGx/kwDH4naLphAIBPA4jcEUEH3rvhL54Kmp0GljFS2XxL\n",
       "XTxrn/n6Ap0Mw0ilDha7j//F6UdDWpw1T7p8/hPq/8rIe1gk+ZYKqByQw4Ho6j6N1xFJYFXMMK1Q\n",
       "oLvx92QFMqfTsISnPxXE7sSD8701V2H1C4p3UkgRT0KrX244h1NTQ6HOCEm5khciXLOZbDMk626F\n",
       "ajeip4UAZwcycddfybfWexvxRWgWYpMcH04nuhpvOLxW+SQp5h7HZxk1S3bWVShF0QAAAUMBnmF0\n",
       "Q38XLfM2Cjs+zOXzJ+e52ACIPIZOx1zACEf49ceWI4exo1Tjfgf2tuNuJufvKw8PKwpsbY9bas9d\n",
       "kpu0ORY/akACMPd/Fccof2jzsKa86QxCr6t3zt1H7Lt9wRUkfcOKVQpryISCiSIAe/vnm+2M2dKt\n",
       "6ipTDTbgNewitG3oTDhFija2bKkikfW5809vyErYe9R1HGvxhx/NNuFyMbeH1GVc2rEq3dW6EBYo\n",
       "YfsY7cF/DT7GzIar/dFUgj/ufJtIu8PMrW4VIS0/62AWg/p9Zc002nLMlydJeF0O3Ce9r2LRrhlL\n",
       "v9NbSRC29n+gHTdV6/efB/IsF2GoyrqRnnrPwn50lY9eMByn8lWRRR7Cu4CU9f5IXLeYbSvmJ6Aw\n",
       "JaNPf5dI4KaXUi4hxKt6hSSuw5SpYRFJQDMUzh1jJDCvxwAAAWQBnmNqQ38HR8hAAIg5GsvAD8To\n",
       "LaPqfdrOTxWgFOoWanEWVatl9Fb9XiuGrrg6TcRvK3Xcd0FetHmJ7SRxnPp+OxTPMNQPr6/goDz6\n",
       "wgIBqD6AO2iZbJkIu9pLgVIFyaSRxwDi5PearYK8UbF5eXqX2yQuEAkNiQ6GpDT0WiHwexqsTFlA\n",
       "4KtQcBVkVkpb6gtQpLqik/Ahc2fzS15Pw1RGtQr87rv/h/+aSMHkKY/MAS+k00zTSDBZ5qqxKoY/\n",
       "lbZ0sFEUEeQ6xu4r3ma6GrJD8cHgpY5DCOndtlRnkDCiI8w1bObh24woLm/cioiPDdWak7xAlBdq\n",
       "A+O869g1rMek4BricEMoI8GMFSefmd4UEMktvigIiP4oIfdzR9w3wX87tPswulR4XK0yjqoGu//f\n",
       "jY3XVdK6yxyarUO0InnK87IjkhkLf1GATp4pCVqwsclYnsZkTSij8poVFQ74tANyuZyDhwAAAepB\n",
       "mmhJqEFomUwII//+tSvCEOAAC1QZYN7sMDo9dPeE4Fvpjl1pg5hsWuBT9gEDnUX3z2hBW6ZsRqZU\n",
       "XrwrItKeCdscjBr1AClR96jLDcz9FLyI3Ft3HdwKK/ocbQDGi+3hO5+NSZ9Foysun2Tx9JLBr42H\n",
       "Fd3gsvDZ/lSTFSjHfeC+32W6xUvMVAeNvhvCSyqOE6PtW0MzNu5M53n5z+0Mb5SzNjmUjS+yNHti\n",
       "PKwioB9jNDtXI7Qt4EfRvYoqdrZzmzBb4jQJkUSnayArqPpDSmtZ46jyzgD4e/632jDUTHtnG5Pj\n",
       "mHLqOe9E2cQE0USJpcvFO/Oa7bT5VZbv2+8oR84/DJrtVQXVA+xEGtJ7ZAEZODlk0/WXazmOXTKJ\n",
       "t+ZiDpkAiriMcgAgYCqsUM+7FY31oLVU9xN4fwf6jtQzwH2UMhBS2Se/MBJKO2y2MNFmSlI5+sla\n",
       "sS/vD/87jbHNN9AQPlGU2RL6mSg3ev9uWoJrP9iSOxCLEib2RCO6/sKcb2gyIJX2pWySB4/m83x8\n",
       "ObQn1OuXVaEDtICK9FBBVV4TuauldsK+9K0DDCYgB5WhZj5tQtT4Hq/lOdH4cBfaDDmZe/hazCIl\n",
       "osyzQ9EqshglRWMpJ04D0yyLc4Rxsj0qYbbJxrsKUNFlAAABXEGehkURLDv/BZaHywAc5H3TwE8Q\n",
       "9L0SGAP3la5X2giQENRgXGvSG0BHRkbMPc5NBBDFlYRvzMwB04cbh6ehhQl3Sz/xd3dJ2O9Ruw6V\n",
       "4HMeZJSOojXZz/CZNbGQvZybUnbWy/qmOFRJ91i0wlEyCRYAJOEcCMnucPrJUlxRUUT1bWl23CZ0\n",
       "DYKneJe85icWlOq/tSrX0H2J+X1Mcp7VxAMUsvB0mJ1+Q2ibm5Vt5DxKsYsU34mpNA4NpUrdNXiR\n",
       "SR8B7/9egPk6p7g8Vhae3SrN72qPB0mLnd+KEHmu6Khq9mVQtW8R1r7A0NBPAybriqaY8cuTHq2U\n",
       "YH7FcotwSWzz8STZWvXBtpAmKz5/pATTTIoKLso1guHSlQJuBlU1zETY/XFTcvSffdXDz4ydOp1R\n",
       "Kcr8DzJFpDYq1U76yVhwEnQ8exe0OQCYsuWWdbcWmps4dywaU8Z5NixUwQAAATMBnqV0Q38HRLdk\n",
       "AF9dqGlLEtMFBR24WUGv6Tc3Pt8wmlhesXAPplJJNXbKVx7C1y92+RJYSVCOQ6EtDXY/4iiBkOPX\n",
       "fQsf7mSjLjL/JQvSaOmZlYmJISKTD9Ad+5aPWfgVCh4lCI1YViVOX2LwuKrzeX3ZLITVF7voZqGI\n",
       "CQeyKYIF+mLbGj3dl/+Af0KVUOZgpZyOUlISYP+UxbsvHyBgF2Q+dsPO+6/ri95AE/XpgIbpDT+n\n",
       "CoYbOGjN9YaDsVtASRGstCbOG+JfxCGDYUV3AqRMpxTuVp6sYQPlhPPbdjITuZ1/PXI9fQLYPJo1\n",
       "SG0J8kWV3N7f8OyRyNM2e2aVjJc1mx75bkZ0hB1GLMGg2jo8ncRjyIvPGk4dkNbiWLOjWechy18u\n",
       "DYx+yWf2qCt3iYdfAAABigGep2pDfwdDVvACFO1dzAYNFhZufd/euQvVt3+sIe/HTCD5re5ewR/p\n",
       "Zvj0hs7Yu6/5/7ANBdRk7m1AvDXOFc1NgOS+YwKHilNjaCQBwwVfSbq26a6g7Qv0ybqhmZtOWMBv\n",
       "fAX17b34erOafkvDxzsLLyQJc1YTnGMJNjdr+gRulvyKNMQg3x8xZf5GZaU+vwEHdhUMD06+QnC7\n",
       "Rml9i42D2p5oAnir3dc9Ti1+5wPK8oUbNFSJUHFsOdhmz3pg0qlZVTlfA9szgIQDY7q8oaTvpK32\n",
       "yAhYO+qQnvjasRX/IiL5ezK6XInfOMjerNzRCYOlaI8yXkhRxSUIj6Ik9SDUPfYZPORE+MJCboe5\n",
       "Q1pVgnNgQCE8Ujj8IivmmpyU30PXdN+9SnHnGW+cHXxAPLuOWzGbxWuBnUrxnenNuoRxsHNpLtjx\n",
       "obJnBjRahgQNx2uDoZcVnPwsMCSxYh8qRsXLbl53t1IMfiPsZu8rBsdXQMxNE+cCWktciNrUAEck\n",
       "pShdbS3Dqpzij4AAAAH0QZqsSahBbJlMCCP//rTv08JNfvxVgsBzfF/MbTSrKoMRDAA/f6O3Ns3N\n",
       "uqHLGMzv2BmiP5dSZ2DqC9D4l5sXO9R+t9gooTtqtXmPm6kxRQepWKfZROR56biD3wkEu3gjsl99\n",
       "rLxU0+m/1yUuKYI9cH8M2kV25sAw0wZ7JnGxixF3wTx7OC97hUypJOEPQCdpBztTk+cv/+c+m+1O\n",
       "wEGB+uYeyCbebGh60dSLvsk4NG2rfzF2jn+TN6AZkZmMuQSx6tkpmCnVtDQx9X0wQOv+1DXt401G\n",
       "yxjFv2G/W/rR6Oh/YVgX9I3Pc6Lc17jaNdQNECa8vsJJ++2FJ+9l5c49rOWtBIwwsnLXoP4F8kHp\n",
       "gnjYT0huzSQdOmdOEqOL+iA6cGVJp+AG6AcfyxSeldqufnnJ78KU/l154+5Uc73mYdEqRJ4vxwJl\n",
       "xbQ5kMeBCg8D0IGxXI9cBuQAeNC1aCZ29neFAiUOq0bJZlSaaoU4RCq2G9vXSUcC6nZwF3ZzRYTl\n",
       "bSYp848OdU3jkh9Mhxz2Mhf/xkZd8cyNNEAuS8wp4v1AYqAz4akP46oA9oWmDotX9AN2ovl93Thw\n",
       "G85HybMUkJzSvnkES8/xwC93QKv1Ag7dykG02vf/kqjolt+tW4+LnB7dHpT20ozhsgCs0A6YF/cM\n",
       "EXAAAAFDQZ7KRRUsO/8S9F3FuwclJsxZrgUAGyHaxX8yszXPWO5X34W3Kn8o3xX3LNBhlm4QWUGq\n",
       "c/hLh8MHARDORYubcCBxZsoMc6urDv+nqnW91uHMuEUx/RCPrGiJSDPWEdANnW+9rZsmARHLAVVb\n",
       "UYRBDK68B0TDn64nxVE6o5e40eAEu4KQQ3OJBYB81WpIjr6Hx5386OAtpiSGfWUkf98RyXxuox9R\n",
       "U07Mw6G2Uesft6KW/TIvM4dZHzYFSYyDSpOaTUb/fN864MHgJZUflhtFsfl9Y6jpGf9tLQmirpvT\n",
       "iM547HwGyhXGT4sawIfjayqPzT0whtOTsLPS0UDHq/UeY9iALwmFRT+AY4DeySriwOqRhrTuHIC4\n",
       "H0Cr5XD9V8XQFHb4zj1zhTYO94/ckzSZXQ3kLnxEOjyLPRNXuXkGDGVjMaEAAAEdAZ7pdEN/FzjK\n",
       "vWCAAdcYCvJe3Ma8VjShhpVn9q88IqYHW4swruEuQlWuj0lD0IU8XIBpoCd78jm6KblDyPMRJgwj\n",
       "Sd8xhtfAjF3+++nzl5WCGX0+33tqS5eiUK1nkFGNBUhqRIrR5f2TQ//gV1vqj/BMaA9C4g88gwaO\n",
       "pAYY5bGy67RJjwB6xt3rTv+cddvIWdmQ7CIZEmZ7kiulb/KHM5uRiPzHuA2FWx+XGx9AMeW7DRoi\n",
       "RXhaPKOyfZqwGWOPZ3agzfQdIh2tmC5uynpSY1w+H3l8oNy+TbUbTt30Hk+zo4ywd1F587M5MmxZ\n",
       "LL/DsK21dIEY1i1Wqnd+lJ0PmJT/+X0rVV1BLUT/nRDNLr2Wiy7DEGWdUQZfPSTgAAABMgGe62pD\n",
       "fwas4K+Zh2hxABrXCybYo1v4J3I/fvQSN6vo/invqepXOTxeBJihmnAgLI2bvx2aggrNhSWc+/Zz\n",
       "Agz0AHS84hJZoa9PTbB3573t3j6bp2kdlQjjuCaWUfATtDYjF0m4WCMLQNzdYo/0rZK2eJkoXXFx\n",
       "LalhXVhuky36uUhzGOfLufDNYEnUtliOKzOPZCCbCE1rfKUHMNPh1TDRrq+fz7NdT3vZgV/0jpn2\n",
       "I/c9GO0+k0HqW7lUTqtQq3xQeLPycYsyCwnc7kN41IgXsYAK5Z+m7bR6fLbUMU/akxk4XTcu0CmH\n",
       "t/26JnE1HNH/C1EanKfqKTvXw11uwNeNvrvNAVJj4C5lITXHNoDV7IRIOglmcMcx7ay8f0iAmuXa\n",
       "9vmPbtXG1eXgU86TUqtUogAAAXdBmvBJqEFsmUwII//+tSvX3hAABCeyu4YpCsyFx81oo2L7Ua2X\n",
       "MyBEH+J5sM1VOy704NjGHg82SxubSpQovWLTI0KeThHKTVeRRJLSKCiZ6uCrPRmCFVAffjIY5+Zt\n",
       "RB+AIskD5gnVsoCzOWNgpCO3w3W5GI9IKnMHy5n7shCWG5LS/GRyFjROES8c4Aa5lZ/zwDLtuQPQ\n",
       "EzY8kgMZdyFI+9H6ilrBfMo2dc+33JYBEN8sfhB/X0dQuwGqyQ1m+cNchade1XFm31ucTPBtaETx\n",
       "5D/HU7BvsTxCZHGy7J5EgwH5TSOkrX+F5biEYbJoHf6Qs+6COaCP6be91hiejcpe9r/2df5O6Rkk\n",
       "gZoJDXgOUofitGf7EGpLmZIL8U5c3bi6H8M4XLakU1dHwMQ+8nQyxi+JlLaZBeZ1x/l9ylsOLiTX\n",
       "LP5lrvYh0pTshoLB9nxLqyTM84FCO72oNDOqTKUpZEi/ViALQSJXUIQkQ72ESdejx9yjEaEAAAE5\n",
       "QZ8ORRUsO/8FhVQwi0DQAXsXnYnCEyVsr3naUPsyy4rHC9N3Zxfsc7iYKjAulBdVZjFsZrUlPueK\n",
       "IGKsdoLXRdRBjtHCceYc5n9eBDeZYbpeg64d9ved96cvmwJzDLsDTQefC6/jKdUQbhDOjGa+sJ8D\n",
       "UqJ2Q5H1OubcuRXi8iepoyA65jhYII6VqSnK/xTbciq9xvK1VyDWLxA56lXdTj5LC6YCMT/Od0oI\n",
       "8xQ2pgqILGWESlswChQh6iOtS3ovUplxPrmh2sGSuxlpM/gV4q2mywI7SlGJJzJfOX+O87cEmnrz\n",
       "zDYsor33/DXrH3Eh5K+ty6VQt82xxeTyjQcKii71E/1ea3K21UrOlqPPDKZPLgzPStI5TPTuRPlB\n",
       "7OQGJj7yBqgqNmWPRukUbruio8oTnoPPH/RM8QAAATUBny10Q38GtP8uiAEKQs2gXXo5zmdiG0/P\n",
       "zlAtTG92VXa0BXZolUKu7U0rd0XeLx7CCt1EetSUBQ8/gqYWmkDL6wBg3Wrxe8pwYCisMFahuknf\n",
       "PgIbjq/dakeJ9xnysuvgsUsEJuc9FRELvOE/HtmMITfOmBecK+m+kBimAr9218O+jsj9VN2km23V\n",
       "YIQmd3Ba1eNK1aGsfkM9460k+cqaj+DNRm0niiGc/WQm6qXBaNM7xZfuFsd3CxWL+xFa4/piwhTf\n",
       "x8Xt1mMqozgTb9nfTDEa1J7op+cRjvTnHQ8MYaOsZ3cwHtMqlHe26DB/qwFJSP87E+FyohwY/zM1\n",
       "eIGs71vL9y/1e6gC6M6j+iT0JPGXanu5iTi1cXcUKWYCB3kjWS7rW0uU9kN385PZQ4RgKGT1+lkA\n",
       "AAEmAZ8vakN/Bq0kCccMYlEAIUjJ/cz4wYeKR2ApTltWSUJp2fDOlhOxeymmrJm7Bc9wC/Icv+jS\n",
       "JCCBlEt3LX7VA0gF/wnCNC+Fih/RUFSDB0A7JJAQ2D27UCpgXGme9pO5kLuHUYrNfkZhm1n8UeFd\n",
       "lToslunRcJ4HLSE/QLmD0e/wIO1oY7xyphlOb3UqNcEfkrXwxJiB7ClP1a6NjAYT1gH8P8llyZz9\n",
       "VIKtEPQhmMGNE9mNqdd7bfjs1PkY+qMfMcnwsLj+LyVz2/9bdsNF2y0krP88k7TX3rUIpGyLRYtI\n",
       "5fXNfvGr2rWgFd5XCKW+mEgcm4G9IHrvWOBcsR0NscVyBunihej7TZ+foXxdkR0BM+zcqodPL1o8\n",
       "WdnQKHtGCkfp1P2CAAAB1EGbNEmoQWyZTAgj//6079ASTX78VYLAc1TEqRwAOPcLcyj4xcO1wn38\n",
       "Ok/gjuyg+zL5Cx5M4/z6TXvffk+Y9yQ4lu91YIO3meuq1ekUMyRgLb0pyquwaNfvc7E5IeYdaR2Q\n",
       "PcygVPRggKu3ulsORj3f8y3gOvsNHbDdJveoPYF43giytxgyGoXLumrjKURimn75oIYMhB8z2eAl\n",
       "94NyluC2cTIQVc0IQUuWIehSYu533vWHtXRc8AfU5O8n12IWkJoCC4PgxCfv0LCHKSIMFvWj+MKj\n",
       "+AiVJ87gFo/9KLQCGBlA4432fNO054JxO7nuo/G2Tt58S7qU/5ufUx1QYa5hF2U1YTakOYrVzOps\n",
       "FIXcCucBwVtnSV6mTgEQu2bvhdVX7pDXF+x/x3so5l2Gf/19AMTxscR0Kt4XrHYS5nAYps+2fWAM\n",
       "sBGsWs0VcPqpNP5hRZFAm5iCz67QIZYwS67NhoXI3ByVyWbQiG/9RRnBv4CJwt+dCqBFfjmZSJO2\n",
       "H1DL7MFopqZGdP0yrexEN6ZNjzjdUz3rbOF6vlobYPrHSESPo5bWBb+/MRj5NUQDyRpd4DALxjAT\n",
       "ZNwe5oxNkZx6s3jnzWvyUA6FdTW9rNbEV8lGGAAAAQ9Bn1JFFSw7/xMEzTE5fi5sRbUoAJyS1D1a\n",
       "yquwHfROPFWtyT1Iz9wXKnmXFd4KK4YlC1PcJzwMxxyFfnX5Bp95SUkKXGIM+zDggnFaKrqwSZiH\n",
       "B0Osa1nzSH6H8ulrzci6u50dfXTZCq/TGuogUs3NTPjWO28ekWNd5KPr+5i6/w+VObe2plv1Un1y\n",
       "Wf5S+LxGrVmu0pVIINm6sro/r91lJg8+fzQ8mkVw9mNx/Jls6hmF9qj8ObASek6j6R2ZoSTTZ9Ya\n",
       "dmdUJbJ6aYrJ91Ba1wlRs3EXOQoix2FAeaHgqdrh4tsPvHFe+I1kHxerSp1pKyg89+1slle8uWaF\n",
       "P0gEIJryPnT/62GgS5kC9u6BAAABCAGfcXRDfwatJKhiWl9sgA2o4XdVPMXyYbMrKDVJRfv0cHz2\n",
       "Ldf8/vYsx78uo0j078tHq5gfMf2nA1+TdSyC6cNeo3mtjbII3eTz2jMAaO1Q67NqB6O0KQAKWY0y\n",
       "hwsIeaobvF16lfE5rO4hTKmoFRrMOVoBL5ZFO/x5z5lv+iHp9yYHlIJ/3QCyGzK77PtpfcYWZmYy\n",
       "9nAFeI5cTuTfdzUPeUl1mhMjfa9OXn70iKPmtuVK83yQ7tWBO1/Qz3lTjgQecw1+vTS047Augpnq\n",
       "11H47/W2K3HAy2Ibs8kfetpJFduFA2fNwodQUs2MFzdcC+yj6qZ7GiGfWJ5e1bumorISQmApQ/PJ\n",
       "wAAAATwBn3NqQ38XGTo5aJAzBTUul8etYgAz8lAYXpVZ5NxWgGWoTtR/fr7CbIFy3ySdsLMoskwA\n",
       "Qhhi5F6IQVDlQrHjS10QqBAE4AhRyzOAH4EFRz3m9mVNOD97xe2Vh6mfDNLLsopq6heWKB2/r425\n",
       "KdPfzlReFF4gLhGfaGpXUgVwJVN47saz0k5No8NjPdLPOvWH4g+vgPUIzE6yHhEUgltwoHPbF+j5\n",
       "srLGjXvsLH8ksRhqhu6WT0W2Y/TVb+f4M2ixyrB5aXA4ZZobjw3c17NCdVc95OWiai3EZ+L84nPx\n",
       "dzbF8Ac+BGvkaHqYfXKSyZhlQHxc1JMM6pfllptRedMhQtDIeZrXUcwWssD3Zsn2Q8ygXdi4BD22\n",
       "loDTxGOv0i1urai3qta0BnrCoByc/a9Ej5AFd4/4rgL0MrKCAAABaEGbeEmoQWyZTAgh//6qV5te\n",
       "9jOWAAIG9OmN6DfmgcDZyfN6Ks8W8oPSLOko2mie5vkJzbqY3JmTQzOIi+M6Kig/K8AutfYdOwi6\n",
       "hnX2mrZCvrXPUDrt1L6hN8v6zqcc9IjIuDt4D2Mg8FqxTtY1UXo6OIiRDRl3n0r8RggCilFkA9Wx\n",
       "i6FmUhwryjm7UNkjR/yACtZfu2nAeCAvQzXFB0uZIeSXsAGTcfTqNx69IQpm1Mk0sZBPomNdM5yt\n",
       "QvXNCzipQ6Io0ZDvePklrU2HTBUWPNi0/pMsN/jEq2mcgu+wbTz/560mRtmU2s4+ZLq+rSOdYSfh\n",
       "UEcTTKDZLaA8nkKkNJUrY1/bYDrRSUvpuJNkp4bE0uzee30vgmw9zcbHGH85gLomw5WvF0NzgFGi\n",
       "hB6G6eN84Lyd0cQR0DfxVozdDYeC+wTs3XAJGLqT09l7epklnq6LL7/jSiUMaoXj9nf6i9PfQocS\n",
       "DwAAASZBn5ZFFSw7/wUdrdJDXMKx0AD+NmqUVlkbmqwFJUjI33rmnz6ae1uQdw7pqYe1hfGfImUa\n",
       "/1XePXs1QrqZ1Kxgb4jTQSNxP+RCeRlOMidda6SpRrRa3YxNUK2Nt8A91tF6CNoE7fHJDkBfiBHa\n",
       "qbrgtMPqIrp+xboQ1Vtv9CLwYm639N6PODR8menVLUH5Q2BRO/tks93eKo3n6jvR6KB92gS5EwsZ\n",
       "0/9gkX/bVWazKRVLIAZz+TEj0k5dr3PYZ/toUY/cya4ocz2d7ch0kUatAwLAwptaYvMO654Ae+v7\n",
       "z6ZcSUcyVMk4d6tib3lgwyO9aJouKH0qao69RBaEZwHgLs8HCG8Y/4ub2B50F2z6GGUeF7eg03Lg\n",
       "I89V2VLAwxirS6ir00AAAAE6AZ+1dEN/Fy3zNgo7PsOS8ba7XC4AQp5HCppC0yv76If/Dv3o3slT\n",
       "Gyd6Js6+b04T4HzzjKhQcQgm92atvll71vCJ2WOCVVFyyEk3EuLKhiLe40ObRE/kyc5jr6AjV521\n",
       "fzakfrteT7b6TYKNcPVhpajakoA8bI5/fYAtJg9WHACza2VAFWzjOep+RMbcE3QEJEii495v1I6V\n",
       "qEKh0//wTL/mXKjt/82OxIysb8WDSfUHZZc1sLDtDTqXvQuaSnuUKIeRser4YJ6HVT17pz7IKESC\n",
       "JqfKUSbCHm0kZizyFUpF9GVHM27YYp7lTipL7nq3Vjpl697L9ONE2XSTQ0jBDCNBodX/W6S/6J5i\n",
       "NqR7OxsAqHGTjYqoJv6CMYJJcd1P6EwqcdO2dpnMNrpK6A3mJzss1kqILpIgUkEAAAFNAZ+3akN/\n",
       "BrqZ0AAiB3hO7wFvD4qcOiG04YviQ/X32B8o3dGKb+vnwAgwYQ1rsr64qUhb/yBTu+JKH36PPtY3\n",
       "63KjCxhVC27Rd5M1jahq063qYHD6x0eSVvWE0akR9yxoUjuLGtBDLDaEH83QVxXoVkzhsVDf8Uwj\n",
       "tRk+ve1pJU1xbhamyN3IeYe8XkzzWFqc1pn1oUQtOmtLKfs/2icH0T+4uGh+OnPwD3iCp15bkGAV\n",
       "8jJiFQ0uRST+vzVIosSoj/YkLRQhfkLIjyJOBMkUhu+dtAPxVS7iCkMnVlrWstFhZVLTxlV5mO/m\n",
       "Xl11DJZsqZUBtO5euRoMuYXWfhD0mDsZoN4tPkA5eFI4budq31mwuLfRmuj0vsIH1dOrE54HDEt5\n",
       "LYFUQAvCpDIb7jcshNuvAsQ3DTIVrgjnMvcgQfXP0stscIK7ZAIbiethAAABA0GbvEmoQWyZTAh3\n",
       "//6pnJNmPoAG1GsZnu8Vu7hmehTajScmnXQ/AiEiFRMSe4iXwv5A2oxc5RbJ4uNJE9YBTb/eV7xn\n",
       "yMjO6Jts25NvxC418Me7ee2vOfYQ/CosisCVpj8MCH3kvEhxzv+inT5pqgZd3vWbxefxZwahSr6g\n",
       "h92Mekp0OfLXaISMhv6rIEpDR9sXfiqGqRCufVXbHClLitQa0naqkN2V/3ZuljSJmNuB+kU/2YZa\n",
       "ieUOqB05Yn6iJAEhqgi0w4vxmqYrFXn7K6cFtkxDg8hXBsozusfahSUx60I9/Dz8dw42CNGKIK/g\n",
       "7/IAhY3hq2GOlOFWDGDR4R8FZIAAAAEdQZ/aRRUsO/8FKIUWgAXzkcZJIdNvf4kR/85vBLEP3W0B\n",
       "edtF5TsLwYS5xtjTIoOEsCvP32iFY6YTFHoJgNhJXBK5PZKmFId8WjTrBIU1MT9mOTYQR+vrlkWM\n",
       "3fEmjk52rhM3XasLU1K1uoksk9k3eZOXI66nPdpwzzPjL84XFomMwJcQ5cRvV8vp8Es3jVOmmA8K\n",
       "rgnkA0PTf4tXeEp85g+q3zxFNplTbopagGE4mRl53poOsBC/tYg1CCBsCG0dM3BqHgWAmIMvLopb\n",
       "JMVFcVSARXjK2m7AWYDdF/3yIWnRNaDy5KlR5WNDTwzObzYpk6PkU2+hNontPsQ5pY5whdxsYhWL\n",
       "EnLFwduCRUtJPAywmwUac4HgmNGlbzzBAAABQwGf+XRDfwdEt2QAbVcl3VLsMb7NvfAh5iNEilVl\n",
       "SloEFX56cbU+BsNBUWxXbT5SV1M2L7h8wFZEvoZriYEBWnYzTT3PoABdIAOR11IpKMK0glK9xnpM\n",
       "6Ldcr9ozqmdPeek1A/LCkyfaSInEE9TiaHCGzK84IJrEI3dG9EFpXxLUGJq6jjqZC7tvUfH47ZrQ\n",
       "JmTkgNL4Zeh5cilwA0OnK8pRUgpAGYqI4Ezae91H/TT4LOg5TpDDvMUQiDT3tdypwd3uYbaR4wvW\n",
       "reYO2zV3fShgb0wY+tT9MMHqqMjn2wg/3xbHtKzaDPVY4M/JyxgZrUP2U+whHo5HEMw4xNpKWowZ\n",
       "+FjvefZaVqGfS9XFdV7kA0IwK5Cxpr9n5M8LPFnpeQdxXWJeLU/eH9NoGV9GoWpCHoDUN88JrLG6\n",
       "mcphyQQLlYDAAAABTgGf+2pDfwas3gpF29qgAEQdN4/yMpzk4CVifD/CfNP8vDSqjH63bF7f3rnV\n",
       "KjaPiRXtoyPS0XntbNEMm8zr++EVK4efnZATdPrnLkWJrnKO/lVtxmz5XYPjV1sMCUXEPoFI2q18\n",
       "pEiHVCz9XcAULMphb8QbnkGlfY5iVJ4oHQvmmiin3AbrcaPMrtCs3oYWuV2uGIo50ia065M2NOvv\n",
       "38uRvKJt8RinR9Q2DCkpNET8rZ49shp97aINMb6dUwUq+zNcnIlNt5kmFsJWVv0ORvkKaPeOfuEm\n",
       "svzGhLdoP4QpJQf3T25g9onpaXbCOvx5GNsy00MqVzoo6MHbhu8IX12vbjUwO/u316WUKHrGAasB\n",
       "95RfFKBxnPbH5/bgVqlrdgz+6UrU0OxassvTxlZT/uYBGPq9xrKV2rmE3JhJpMDs87ncw9TftlA4\n",
       "pEXYIbUAAAEiQZv9SahBbJlMCG///qeOTOQ4AQfXX+m19Md5JSm3GrWND4yG4fgj2PIa5uRkJe2l\n",
       "VoOEeYPe4ztEAoe4dZ580OihZ2bfJmpO0ACNE5Ptb+kGkE3ccZNhFUy+Xk99dyqYxL6OtRo+RPHe\n",
       "Z6JtOj2Rc0J7Xu+inT3NpPW6XPa9GO/h2wvc+gZEVpQJqj1U5MMNSavX48yF8k4jh2GV9SFu4VIB\n",
       "X4squ7E+CD3PIUY1v8waAbFeAm4ftqMz+NA44LQ3ViparQal1YusPT62+j2v2lWvszet9+/8F6cC\n",
       "jA20afsZvU+dr9boeWGSJ9BnwRDvp++5RbGs6qBl7oDE/vqFzl/hBNnKKnRATt/dAeOC3vjz/0rQ\n",
       "uKnj4UB/ftJ6jjQslV8AAASWbW9vdgAAAGxtdmhkAAAAAAAAAAAAAAAAAAAD6AAAC7gAAQAAAQAA\n",
       "AAAAAAAAAAAAAAEAAAAAAAAAAAAAAAAAAAABAAAAAAAAAAAAAAAAAABAAAAAAAAAAAAAAAAAAAAA\n",
       "AAAAAAAAAAAAAAAAAAAAAgAAA8B0cmFrAAAAXHRraGQAAAADAAAAAAAAAAAAAAABAAAAAAAAC7gA\n",
       "AAAAAAAAAAAAAAAAAAAAAAEAAAAAAAAAAAAAAAAAAAABAAAAAAAAAAAAAAAAAABAAAAAAbAAAAEg\n",
       "AAAAAAAkZWR0cwAAABxlbHN0AAAAAAAAAAEAAAu4AAAIAAABAAAAAAM4bWRpYQAAACBtZGhkAAAA\n",
       "AAAAAAAAAAAAAAAoAAAAeABVxAAAAAAALWhkbHIAAAAAAAAAAHZpZGUAAAAAAAAAAAAAAABWaWRl\n",
       "b0hhbmRsZXIAAAAC421pbmYAAAAUdm1oZAAAAAEAAAAAAAAAAAAAACRkaW5mAAAAHGRyZWYAAAAA\n",
       "AAAAAQAAAAx1cmwgAAAAAQAAAqNzdGJsAAAAs3N0c2QAAAAAAAAAAQAAAKNhdmMxAAAAAAAAAAEA\n",
       "AAAAAAAAAAAAAAAAAAAAAbABIABIAAAASAAAAAAAAAABAAAAAAAAAAAAAAAAAAAAAAAAAAAAAAAA\n",
       "AAAAAAAAAAAAGP//AAAAMWF2Y0MBZAAV/+EAGGdkABWs2UGwloQAAAMABAAAAwBQPFi2WAEABmjr\n",
       "48siwAAAABx1dWlka2hA8l8kT8W6OaUbzwMj8wAAAAAAAAAYc3R0cwAAAAAAAAABAAAAHgAABAAA\n",
       "AAAUc3RzcwAAAAAAAAABAAAAAQAAAQBjdHRzAAAAAAAAAB4AAAABAAAIAAAAAAEAABQAAAAAAQAA\n",
       "CAAAAAABAAAAAAAAAAEAAAQAAAAAAQAAFAAAAAABAAAIAAAAAAEAAAAAAAAAAQAABAAAAAABAAAU\n",
       "AAAAAAEAAAgAAAAAAQAAAAAAAAABAAAEAAAAAAEAABQAAAAAAQAACAAAAAABAAAAAAAAAAEAAAQA\n",
       "AAAAAQAAFAAAAAABAAAIAAAAAAEAAAAAAAAAAQAABAAAAAABAAAUAAAAAAEAAAgAAAAAAQAAAAAA\n",
       "AAABAAAEAAAAAAEAABQAAAAAAQAACAAAAAABAAAAAAAAAAEAAAQAAAAAAQAACAAAAAAcc3RzYwAA\n",
       "AAAAAAABAAAAAQAAAB4AAAABAAAAjHN0c3oAAAAAAAAAAAAAAB4AAA/VAAAC+gAAAbIAAAFHAAAB\n",
       "aAAAAe4AAAFgAAABNwAAAY4AAAH4AAABRwAAASEAAAE2AAABewAAAT0AAAE5AAABKgAAAdgAAAET\n",
       "AAABDAAAAUAAAAFsAAABKgAAAT4AAAFRAAABBwAAASEAAAFHAAABUgAAASYAAAAUc3RjbwAAAAAA\n",
       "AAABAAAALAAAAGJ1ZHRhAAAAWm1ldGEAAAAAAAAAIWhkbHIAAAAAAAAAAG1kaXJhcHBsAAAAAAAA\n",
       "AAAAAAAALWlsc3QAAAAlqXRvbwAAAB1kYXRhAAAAAQAAAABMYXZmNTYuNDAuMTAx\n",
       "\">\n",
       "  Your browser does not support the video tag.\n",
       "</video>"
      ],
      "text/plain": [
       "<IPython.core.display.HTML object>"
      ]
     },
     "execution_count": 45,
     "metadata": {},
     "output_type": "execute_result"
    }
   ],
   "source": [
    "# Create an animation of the traffic density.\n",
    "anim = animation.FuncAnimation(fig, update_plot,\n",
    "                               frames=nt, fargs=(rho_hist,),\n",
    "                               interval=100)\n",
    "# Display the video.\n",
    "HTML(anim.to_html5_video())"
   ]
  },
  {
   "cell_type": "code",
   "execution_count": 46,
   "metadata": {},
   "outputs": [
    {
     "data": {
      "text/plain": [
       "30"
      ]
     },
     "execution_count": 46,
     "metadata": {},
     "output_type": "execute_result"
    }
   ],
   "source": []
  },
  {
   "cell_type": "code",
   "execution_count": null,
   "metadata": {},
   "outputs": [],
   "source": []
  }
 ],
 "metadata": {
  "kernelspec": {
   "display_name": "Python 3",
   "language": "python",
   "name": "python3"
  },
  "language_info": {
   "codemirror_mode": {
    "name": "ipython",
    "version": 3
   },
   "file_extension": ".py",
   "mimetype": "text/x-python",
   "name": "python",
   "nbconvert_exporter": "python",
   "pygments_lexer": "ipython3",
   "version": "3.6.2"
  }
 },
 "nbformat": 4,
 "nbformat_minor": 2
}
