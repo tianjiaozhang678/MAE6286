{
 "cells": [
  {
   "cell_type": "code",
   "execution_count": 1,
   "metadata": {},
   "outputs": [],
   "source": [
    "import numpy\n",
    "from matplotlib import pyplot\n",
    "%matplotlib inline"
   ]
  },
  {
   "cell_type": "code",
   "execution_count": 2,
   "metadata": {},
   "outputs": [],
   "source": [
    "pyplot.rcParams['font.family'] = 'serif'\n",
    "pyplot.rcParams['font.size'] = 16"
   ]
  },
  {
   "cell_type": "code",
   "execution_count": 3,
   "metadata": {},
   "outputs": [],
   "source": [
    "def rho_shock_tube(x, rhoL, rhoR):\n",
    "    rho = numpy.ones_like(x)\n",
    "    mask1 = numpy.where(x < 0.0)\n",
    "    mask2 = numpy.where(0.0 <= x)\n",
    "    rho[mask1] = rhoL\n",
    "    rho[mask2] = rhoR\n",
    "    return rho"
   ]
  },
  {
   "cell_type": "code",
   "execution_count": 4,
   "metadata": {},
   "outputs": [],
   "source": [
    "def u_shock_tube(x, uL, uR):\n",
    "    u = numpy.ones_like(x)\n",
    "    mask1 = numpy.where(x < 0.0)\n",
    "    mask2 = numpy.where(0.0 <= x)\n",
    "    u[mask1] = uL\n",
    "    u[mask2] = uR\n",
    "    return u"
   ]
  },
  {
   "cell_type": "code",
   "execution_count": 5,
   "metadata": {},
   "outputs": [],
   "source": [
    "def P_shock_tube(x, PL, PR):\n",
    "    P = numpy.ones_like(x)\n",
    "    mask1 = numpy.where(x < 0.0)\n",
    "    mask2 = numpy.where(0.0 <= x)\n",
    "    P[mask1] = PL\n",
    "    P[mask2] = PR\n",
    "    return P"
   ]
  },
  {
   "cell_type": "code",
   "execution_count": 6,
   "metadata": {},
   "outputs": [],
   "source": [
    "nx = 81\n",
    "L = 10.0\n",
    "dx = 0.25\n",
    "dt = 0.0002\n",
    "gamma = 1.4\n",
    "rhoL = 1.0\n",
    "rhoR = 0.125\n",
    "uL = 0.0\n",
    "uR = 0.0\n",
    "PL = 100000.0\n",
    "PR = 10000.0\n",
    "nt = 50\n",
    "\n",
    "x = numpy.linspace(-L, L, num=nx)\n",
    "\n",
    "rho0 = rho_shock_tube(x, rhoL, rhoR)\n",
    "u0 = u_shock_tube(x, uL, uR)\n",
    "P0 = P_shock_tube(x, PL, PR)"
   ]
  },
  {
   "cell_type": "code",
   "execution_count": 7,
   "metadata": {},
   "outputs": [],
   "source": [
    "def e_def(P, rho, gamma):\n",
    "    e = P / ((gamma - 1) * rho)\n",
    "    return e"
   ]
  },
  {
   "cell_type": "code",
   "execution_count": 8,
   "metadata": {},
   "outputs": [],
   "source": [
    "e0 = e_def(P0, rho0, gamma)"
   ]
  },
  {
   "cell_type": "code",
   "execution_count": 9,
   "metadata": {},
   "outputs": [],
   "source": [
    "def U_function(rho, e, u):\n",
    "    U = numpy.empty([3, 81])\n",
    "    U[0, :] = rho\n",
    "    U[1, :] = u * rho\n",
    "    U[2, :] = rho * (e + u**2 / 2)\n",
    "    return U"
   ]
  },
  {
   "cell_type": "code",
   "execution_count": 10,
   "metadata": {},
   "outputs": [],
   "source": [
    "U0 = U_function(rho0, e0, u0)"
   ]
  },
  {
   "cell_type": "code",
   "execution_count": 11,
   "metadata": {},
   "outputs": [],
   "source": [
    "def flux(U, gamma):\n",
    "    F = numpy.empty([3, 81])\n",
    "    F[0] = U[1]\n",
    "    F[1] = U[1]**2 / U[0] + (gamma - 1) * (U[2] - 0.5 * U[1]**2 / U[0])\n",
    "    F[2] = (U[2] + (gamma - 1) * (U[2] - 0.5 * U[1]**2 / U[0])) * (U[1] / U[0])\n",
    "    return F"
   ]
  },
  {
   "cell_type": "code",
   "execution_count": 12,
   "metadata": {},
   "outputs": [],
   "source": [
    "def rich(U0, nt, gamma, dt, dx, bc_values):\n",
    "    U = U0.copy()\n",
    "    U_half = U.copy()\n",
    "    for n in range(nt):\n",
    "        F = flux(U, gamma)\n",
    "        U_half[:,1:-1] = 0.5 * (U[:,2:] + U[:,1:-1]) - (dt / (2*dx)) * (F[:,2:] - F[:,1:-1])\n",
    "        F = flux(U_half, gamma)\n",
    "        U[:,1:-1] = U[:,1:-1] - dt / dx * (F[:,1:-1] - F[:,:-2])\n",
    "        U[:,0] = bc_values[0]\n",
    "        U[:,-1] = bc_values[1]\n",
    "    return U"
   ]
  },
  {
   "cell_type": "code",
   "execution_count": 13,
   "metadata": {},
   "outputs": [],
   "source": [
    "U = rich(U0, nt, gamma, dt, dx, (U0[:, 0], U0[:, -1]))\n",
    "Q = U[1] / U[0]\n",
    "W = (gamma - 1) * (U[2] - 0.5 * U[1]**2 / U[0])\n",
    "E = U[0]"
   ]
  },
  {
   "cell_type": "code",
   "execution_count": 14,
   "metadata": {},
   "outputs": [
    {
     "data": {
      "image/png": "[encoded data removed]",
      "text/plain": [
       "<Figure size 432x288 with 1 Axes>"
      ]
     },
     "metadata": {},
     "output_type": "display_data"
    }
   ],
   "source": [
    "pyplot.xlabel(r'$x$')\n",
    "pyplot.ylabel(r'$\\ Density$')\n",
    "pyplot.grid()\n",
    "line = pyplot.plot(x, E,\n",
    "                   color='C0', linestyle='-', linewidth=2)[0]\n",
    "pyplot.xlim(-L, L)\n",
    "pyplot.ylim(0.0, 1.05)\n",
    "pyplot.tight_layout()"
   ]
  },
  {
   "cell_type": "code",
   "execution_count": 15,
   "metadata": {},
   "outputs": [
    {
     "data": {
      "image/png": "[encoded data removed]",
      "text/plain": [
       "<Figure size 432x288 with 1 Axes>"
      ]
     },
     "metadata": {},
     "output_type": "display_data"
    }
   ],
   "source": [
    "pyplot.xlabel(r'$x$')\n",
    "pyplot.ylabel(r'$\\ Pressure$')\n",
    "pyplot.grid()\n",
    "line = pyplot.plot(x, W,\n",
    "                   color='C0', linestyle='-', linewidth=2)[0]\n",
    "pyplot.xlim(-L, L)\n",
    "pyplot.ylim(0.0, 110000)\n",
    "pyplot.tight_layout()"
   ]
  },
  {
   "cell_type": "code",
   "execution_count": 16,
   "metadata": {},
   "outputs": [
    {
     "data": {
      "image/png": "[encoded data removed]",
      "text/plain": [
       "<Figure size 432x288 with 1 Axes>"
      ]
     },
     "metadata": {},
     "output_type": "display_data"
    }
   ],
   "source": [
    "pyplot.xlabel(r'$x$')\n",
    "pyplot.ylabel(r'$\\ Velocity$')\n",
    "pyplot.grid()\n",
    "line = pyplot.plot(x, Q,\n",
    "                   color='C0', linestyle='-', linewidth=2)[0]\n",
    "pyplot.xlim(-L, L)\n",
    "pyplot.ylim(0.0, 400)\n",
    "pyplot.tight_layout()"
   ]
  },
  {
   "cell_type": "code",
   "execution_count": 17,
   "metadata": {},
   "outputs": [
    {
     "name": "stdout",
     "output_type": "stream",
     "text": [
      "292.6114715268265 30250.89016757203 0.3746914026476012\n"
     ]
    }
   ],
   "source": [
    "print(Q[50],\n",
    "      W[50],\n",
    "      E[50])"
   ]
  },
  {
   "cell_type": "code",
   "execution_count": null,
   "metadata": {},
   "outputs": [],
   "source": []
  }
 ],
 "metadata": {
  "kernelspec": {
   "display_name": "Python 3",
   "language": "python",
   "name": "python3"
  },
  "language_info": {
   "codemirror_mode": {
    "name": "ipython",
    "version": 3
   },
   "file_extension": ".py",
   "mimetype": "text/x-python",
   "name": "python",
   "nbconvert_exporter": "python",
   "pygments_lexer": "ipython3",
   "version": "3.6.2"
  }
 },
 "nbformat": 4,
 "nbformat_minor": 2
}
