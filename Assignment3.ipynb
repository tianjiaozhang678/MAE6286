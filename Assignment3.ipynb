{
 "cells": [
  {
   "cell_type": "code",
   "execution_count": 1,
   "metadata": {},
   "outputs": [],
   "source": [
    "import numpy\n",
    "from matplotlib import pyplot\n",
    "%matplotlib inline"
   ]
  },
  {
   "cell_type": "code",
   "execution_count": 2,
   "metadata": {},
   "outputs": [],
   "source": [
    "pyplot.rcParams['font.family'] = 'serif'\n",
    "pyplot.rcParams['font.size'] = 16"
   ]
  },
  {
   "cell_type": "code",
   "execution_count": 3,
   "metadata": {},
   "outputs": [],
   "source": [
    "def rho_shock_tube(x, rhoL, rhoR):\n",
    "    rho = numpy.zeros_like(x)\n",
    "    mask1 = numpy.where(x < 0.0)\n",
    "    mask2 = numpy.where(0.0 <= x)\n",
    "    rho[mask1] = rhoL\n",
    "    rho[mask2] = rhoR\n",
    "    return rho"
   ]
  },
  {
   "cell_type": "code",
   "execution_count": 4,
   "metadata": {},
   "outputs": [],
   "source": [
    "def u_shock_tube(x, uL, uR):\n",
    "    u = numpy.zeros_like(x)\n",
    "    mask1 = numpy.where(x < 0.0)\n",
    "    mask2 = numpy.where(0.0 <= x)\n",
    "    u[mask1] = uL\n",
    "    u[mask2] = uR\n",
    "    return u"
   ]
  },
  {
   "cell_type": "code",
   "execution_count": 5,
   "metadata": {},
   "outputs": [],
   "source": [
    "def P_shock_tube(x, PL, PR):\n",
    "    P = numpy.zeros_like(x)\n",
    "    mask1 = numpy.where(x < 0.0)\n",
    "    mask2 = numpy.where(0.0 <= x)\n",
    "    P[mask1] = PL\n",
    "    P[mask2] = PR\n",
    "    return P"
   ]
  },
  {
   "cell_type": "code",
   "execution_count": 12,
   "metadata": {},
   "outputs": [],
   "source": [
    "nx = 81\n",
    "L = 10.0\n",
    "dx = 0.25\n",
    "dt = 0.0002\n",
    "gamma = 1.4\n",
    "rhoL = 1.0\n",
    "rhoR = 0.125\n",
    "uL = 0.0\n",
    "uR = 0.0\n",
    "PL = 100.0\n",
    "PR = 10.0\n",
    "nt = 0.01\n",
    "\n",
    "x = numpy.linspace(-L, L, num=nx)\n",
    "eT0 = P0 / rho0\n",
    "\n",
    "rho0 = rho_shock_tube(x, rhoL, rhoR)\n",
    "u0 = u_shock_tube(x, uL, uR)\n",
    "P0 = P_shock_tube(x, PL, PR)"
   ]
  },
  {
   "cell_type": "code",
   "execution_count": 14,
   "metadata": {},
   "outputs": [],
   "source": [
    "def flux2(rho, u, eT, gamma):\n",
    "    u1 = rho\n",
    "    u2 = rho * u\n",
    "    u3 = rho * eT\n",
    "    F = numpy.array([u2],\n",
    "                    [u2**2 / u1 + (gamma - 1) * (u3 - 0.5 * u2**2 / u1)],\n",
    "                    [(u3 + (gamma - 1) * (u3 - 0.5 * u2**2 / u1)) * u2 / u1])\n",
    "    return F"
   ]
  },
  {
   "cell_type": "code",
   "execution_count": 15,
   "metadata": {},
   "outputs": [],
   "source": [
    "def flux1(rho, u, eT, gamma):\n",
    "    u1 = rho\n",
    "    u2 = rho * u\n",
    "    u3 = rho * eT\n",
    "    U = numpy.array([u1],\n",
    "                    [u2],\n",
    "                    [u3])\n",
    "    return U"
   ]
  },
  {
   "cell_type": "code",
   "execution_count": null,
   "metadata": {},
   "outputs": [],
   "source": [
    "def maccormack(rho0, nt, dt, dx, bc_values, *args):\n",
    "    u = u0.copy()\n",
    "    u_rich = u.copy()\n",
    "    for n in range(nt):\n",
    "        F = flux1(u, *args)\n",
    "        u_rich[1:-1] = (u[2:] -\n",
    "                          dt / dx * (F[2:] - F[1:-1]))\n",
    "        F = flux(rho_star, *args)\n",
    "        rho[1:-1] = 0.5 * (rho[1:-1] + rho_star[1:-1] -\n",
    "                           dt / dx * (F[1:-1] - F[:-2]))\n",
    "        rho[0] = bc_values[0]\n",
    "        rho[-1] = bc_values[1]\n",
    "    return rho"
   ]
  }
 ],
 "metadata": {
  "kernelspec": {
   "display_name": "Python 3",
   "language": "python",
   "name": "python3"
  },
  "language_info": {
   "codemirror_mode": {
    "name": "ipython",
    "version": 3
   },
   "file_extension": ".py",
   "mimetype": "text/x-python",
   "name": "python",
   "nbconvert_exporter": "python",
   "pygments_lexer": "ipython3",
   "version": "3.6.2"
  }
 },
 "nbformat": 4,
 "nbformat_minor": 2
}
