{
 "cells": [
  {
   "cell_type": "code",
   "execution_count": 1,
   "metadata": {},
   "outputs": [],
   "source": [
    "import numpy\n",
    "from matplotlib import pyplot\n",
    "%matplotlib inline"
   ]
  },
  {
   "cell_type": "code",
   "execution_count": 2,
   "metadata": {},
   "outputs": [],
   "source": [
    "pyplot.rcParams['font.family'] = 'serif'\n",
    "pyplot.rcParams['font.size'] = 16"
   ]
  },
  {
   "cell_type": "code",
   "execution_count": 3,
   "metadata": {},
   "outputs": [],
   "source": [
    "def rho_shock_tube(x, rhoL, rhoR):\n",
    "    rho = numpy.zeros_like(x)\n",
    "    mask1 = numpy.where(x < 0.0)\n",
    "    mask2 = numpy.where(0.0 <= x)\n",
    "    rho[mask1] = rhoL\n",
    "    rho[mask2] = rhoR\n",
    "    return rho"
   ]
  },
  {
   "cell_type": "code",
   "execution_count": 4,
   "metadata": {},
   "outputs": [],
   "source": [
    "def u_shock_tube(x, uL, uR):\n",
    "    u = numpy.zeros_like(x)\n",
    "    mask1 = numpy.where(x < 0.0)\n",
    "    mask2 = numpy.where(0.0 <= x)\n",
    "    u[mask1] = uL\n",
    "    u[mask2] = uR\n",
    "    return u"
   ]
  },
  {
   "cell_type": "code",
   "execution_count": 5,
   "metadata": {},
   "outputs": [],
   "source": [
    "def P_shock_tube(x, PL, PR):\n",
    "    P = numpy.zeros_like(x)\n",
    "    mask1 = numpy.where(x < 0.0)\n",
    "    mask2 = numpy.where(0.0 <= x)\n",
    "    P[mask1] = PL\n",
    "    P[mask2] = PR\n",
    "    return P"
   ]
  },
  {
   "cell_type": "code",
   "execution_count": 6,
   "metadata": {},
   "outputs": [],
   "source": [
    "nx = 81\n",
    "L = 10.0\n",
    "dx = 0.25\n",
    "dt = 0.0002\n",
    "gamma = 1.4\n",
    "rhoL = 1.0\n",
    "rhoR = 0.125\n",
    "uL = 0.0\n",
    "uR = 0.0\n",
    "PL = 100000.0\n",
    "PR = 10000.0\n",
    "nt = 50\n",
    "\n",
    "x = numpy.linspace(-L, L, num=nx)\n",
    "\n",
    "rho0 = rho_shock_tube(x, rhoL, rhoR)\n",
    "u0 = u_shock_tube(x, uL, uR)\n",
    "P0 = P_shock_tube(x, PL, PR)"
   ]
  },
  {
   "cell_type": "code",
   "execution_count": 7,
   "metadata": {},
   "outputs": [],
   "source": [
    "def e_def(P, rho, gamma):\n",
    "    e = P / ((gamma - 1) * rho)\n",
    "    return e"
   ]
  },
  {
   "cell_type": "markdown",
   "metadata": {},
   "source": [
    "def U_def(rho, u, P, e):\n",
    "    U = numpy.array([rho.copy(),\n",
    "                     u.copy() * rho.copy(),\n",
    "                     P.copy() * (e * 0.5 * u.copy()**2)])\n",
    "    return U"
   ]
  },
  {
   "cell_type": "markdown",
   "metadata": {},
   "source": [
    "def U_def(rho, u):\n",
    "    U = numpy.array([u.copy() * rho.copy()])\n",
    "    return U"
   ]
  },
  {
   "cell_type": "code",
   "execution_count": 8,
   "metadata": {},
   "outputs": [],
   "source": [
    "e0 = e_def(P0, rho0, gamma)"
   ]
  },
  {
   "cell_type": "markdown",
   "metadata": {},
   "source": [
    "U0 = U_def(rho0, u0, P0, e0)"
   ]
  },
  {
   "cell_type": "markdown",
   "metadata": {},
   "source": [
    "U0 = U_def(rho0, u0)"
   ]
  },
  {
   "cell_type": "markdown",
   "metadata": {},
   "source": [
    "U0"
   ]
  },
  {
   "cell_type": "markdown",
   "metadata": {},
   "source": [
    "def flux(U, gamma, rho, u, P, e, *args):\n",
    "    F = numpy.zeros_like(U)\n",
    "    F[0] = U[1]\n",
    "    F[1] = U[1]**2 / U[0] + (gamma - 1) * (U[2] - 0.5 * U[1]**2 / U[0])\n",
    "    F[2] = (U[2] + (gamma - 1) * (U[2] - 0.5 * U[1]**2 / U[0])) * U[1] / U[0]\n",
    "    return F"
   ]
  },
  {
   "cell_type": "code",
   "execution_count": 9,
   "metadata": {},
   "outputs": [],
   "source": [
    "def flux(rho, u):\n",
    "    F = rho * u\n",
    "    return F"
   ]
  },
  {
   "cell_type": "markdown",
   "metadata": {},
   "source": [
    "def rich(U0, nt, gamma, dt, dx, bc_values, rho, u, P, e, *args):\n",
    "    U_hist = [U0.copy()]\n",
    "    U = U0.copy()\n",
    "    U_half = U.copy()\n",
    "    for n in range(nt):\n",
    "        F = flux(U, gamma, rho, u, P, e, *args)\n",
    "        U_half[:,1:-1] = 0.5 * (U[:,2:] + U[:,:-2]) - dt / 2*dx * (F[:,2:] - F[:,:-2])\n",
    "        F = flux(U_half, gamma, rho, u, P, e, *args)\n",
    "        U[:,1:-1] = U[:,1:-1] - dt / dx * (F[:,2:] - F[:,:-2])\n",
    "        U[:,0] = bc_values[0]\n",
    "        U[:,-1] = bc_values[1]\n",
    "        U_hist.append(U.copy())\n",
    "    return U_hist"
   ]
  },
  {
   "cell_type": "code",
   "execution_count": 10,
   "metadata": {},
   "outputs": [],
   "source": [
    "def minmod(e, dx):\n",
    "    sigma = numpy.zeros_like(e)\n",
    "    for i in range(1, len(e) - 1):\n",
    "        de_minus = (e[i] - e[i - 1]) / dx\n",
    "        de_plus = (e[i + 1] - e[i]) / dx\n",
    "        if de_minus > 0 and de_plus > 0:\n",
    "            sigma[i] = min(de_minus, de_plus)\n",
    "        elif de_minus < 0 and de_plus < 0:\n",
    "            sigma[i] = max(de_minus, de_plus)\n",
    "        else:\n",
    "            sigma[i] = 0.0\n",
    "    return sigma"
   ]
  },
  {
   "cell_type": "code",
   "execution_count": 11,
   "metadata": {},
   "outputs": [],
   "source": [
    "def muscl(rho0, u0, nt, gamma, dt, dx, bc_values):\n",
    "    def compute_flux(rho, u):\n",
    "        sigma = minmod(rho, dx)\n",
    "        rhoL = (rho + sigma * dx / 2.0)\n",
    "        rhoR = (rho - sigma * dx / 2.0)\n",
    "        F = 0.5 * (flux(rhoL, u) + flux(rhoR, u) -\n",
    "                   dx / dt * (rhoR - rhoL))\n",
    "        return F\n",
    "    rho = rho0.copy()\n",
    "    u = u0.copy()\n",
    "    rho_half = rho.copy()\n",
    "    for n in range(nt):\n",
    "        F = compute_flux(rho, u)\n",
    "        rho_half[1:-1] = 0.5 * (rho[2:] + rho[:-2]) - dt / (2*dx) * (F[2:] - F[:-2])\n",
    "        rho_half[0], rho_half[-1] = bc_values\n",
    "        F = compute_flux(rho_half, u)\n",
    "        rho[1:-1] = rho[1:-1] - dt / dx * (F[2:] - F[:-2])\n",
    "        rho[0], rho[-1] = bc_values\n",
    "    return rho"
   ]
  },
  {
   "cell_type": "code",
   "execution_count": 12,
   "metadata": {},
   "outputs": [],
   "source": [
    "rho = muscl(rho0, u0, nt, gamma, dt, dx, (rho0[0], rho0[-1]))"
   ]
  },
  {
   "cell_type": "code",
   "execution_count": 13,
   "metadata": {},
   "outputs": [
    {
     "data": {
      "text/plain": [
       "array([1.   , 1.   , 1.   , 1.   , 1.   , 1.   , 1.   , 1.   , 1.   ,\n",
       "       1.   , 1.   , 1.   , 1.   , 1.   , 1.   , 1.   , 1.   , 1.   ,\n",
       "       1.   , 1.   , 1.   , 1.   , 1.   , 1.   , 1.   , 1.   , 1.   ,\n",
       "       1.   , 1.   , 1.   , 1.   , 1.   , 1.   , 1.   , 1.   , 1.   ,\n",
       "       1.   , 1.   , 1.   , 1.   , 0.125, 0.125, 0.125, 0.125, 0.125,\n",
       "       0.125, 0.125, 0.125, 0.125, 0.125, 0.125, 0.125, 0.125, 0.125,\n",
       "       0.125, 0.125, 0.125, 0.125, 0.125, 0.125, 0.125, 0.125, 0.125,\n",
       "       0.125, 0.125, 0.125, 0.125, 0.125, 0.125, 0.125, 0.125, 0.125,\n",
       "       0.125, 0.125, 0.125, 0.125, 0.125, 0.125, 0.125, 0.125, 0.125])"
      ]
     },
     "execution_count": 13,
     "metadata": {},
     "output_type": "execute_result"
    }
   ],
   "source": [
    "rho"
   ]
  },
  {
   "cell_type": "code",
   "execution_count": 20,
   "metadata": {},
   "outputs": [],
   "source": [
    "def change_U(u, bc_values):\n",
    "    for n in range(nt):\n",
    "        rho = rho0.copy()\n",
    "        u = u0.copy()\n",
    "        u_half = u.copy()\n",
    "        F = flux(rho, u)\n",
    "        u_half[1:-1] = 0.5 * (u[2:] + u[:-2]) - dt / 2*dx * (F[2:] - F[:-2])\n",
    "        F = flux(u_half, u)\n",
    "        u[1:-1] = u[1:-1] - dt / dx * (F[2:] - F[:-2])\n",
    "        u[0] = bc_values[0]\n",
    "        u[-1] = bc_values[1]\n",
    "    return u"
   ]
  },
  {
   "cell_type": "code",
   "execution_count": 22,
   "metadata": {},
   "outputs": [
    {
     "data": {
      "text/plain": [
       "array([0., 0., 0., 0., 0., 0., 0., 0., 0., 0., 0., 0., 0., 0., 0., 0., 0.,\n",
       "       0., 0., 0., 0., 0., 0., 0., 0., 0., 0., 0., 0., 0., 0., 0., 0., 0.,\n",
       "       0., 0., 0., 0., 0., 0., 0., 0., 0., 0., 0., 0., 0., 0., 0., 0., 0.,\n",
       "       0., 0., 0., 0., 0., 0., 0., 0., 0., 0., 0., 0., 0., 0., 0., 0., 0.,\n",
       "       0., 0., 0., 0., 0., 0., 0., 0., 0., 0., 0., 0., 0.])"
      ]
     },
     "execution_count": 22,
     "metadata": {},
     "output_type": "execute_result"
    }
   ],
   "source": [
    "u = change_U(u0, (u0[0], u0[-1]))\n",
    "u"
   ]
  },
  {
   "cell_type": "code",
   "execution_count": null,
   "metadata": {},
   "outputs": [],
   "source": []
  }
 ],
 "metadata": {
  "kernelspec": {
   "display_name": "Python 3",
   "language": "python",
   "name": "python3"
  },
  "language_info": {
   "codemirror_mode": {
    "name": "ipython",
    "version": 3
   },
   "file_extension": ".py",
   "mimetype": "text/x-python",
   "name": "python",
   "nbconvert_exporter": "python",
   "pygments_lexer": "ipython3",
   "version": "3.6.2"
  }
 },
 "nbformat": 4,
 "nbformat_minor": 2
}
