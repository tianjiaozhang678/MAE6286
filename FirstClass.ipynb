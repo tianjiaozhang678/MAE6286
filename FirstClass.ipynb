{
 "cells": [
  {
   "cell_type": "code",
   "execution_count": 1,
   "metadata": {},
   "outputs": [
    {
     "name": "stdout",
     "output_type": "stream",
     "text": [
      "Hello World !\n"
     ]
    }
   ],
   "source": [
    "print('Hello World !')"
   ]
  },
  {
   "cell_type": "markdown",
   "metadata": {},
   "source": [
    "I just printed \"Hello World !\""
   ]
  },
  {
   "cell_type": "code",
   "execution_count": 2,
   "metadata": {},
   "outputs": [],
   "source": [
    "a = 1"
   ]
  },
  {
   "cell_type": "code",
   "execution_count": 3,
   "metadata": {},
   "outputs": [
    {
     "data": {
      "text/plain": [
       "1"
      ]
     },
     "execution_count": 3,
     "metadata": {},
     "output_type": "execute_result"
    }
   ],
   "source": [
    "a"
   ]
  },
  {
   "cell_type": "code",
   "execution_count": 4,
   "metadata": {},
   "outputs": [
    {
     "name": "stdout",
     "output_type": "stream",
     "text": [
      "1\n"
     ]
    }
   ],
   "source": [
    "print(a)"
   ]
  },
  {
   "cell_type": "code",
   "execution_count": 5,
   "metadata": {},
   "outputs": [],
   "source": [
    "b = 1.0"
   ]
  },
  {
   "cell_type": "code",
   "execution_count": 6,
   "metadata": {},
   "outputs": [
    {
     "data": {
      "text/plain": [
       "int"
      ]
     },
     "execution_count": 6,
     "metadata": {},
     "output_type": "execute_result"
    }
   ],
   "source": [
    "type(a)"
   ]
  },
  {
   "cell_type": "code",
   "execution_count": 7,
   "metadata": {},
   "outputs": [
    {
     "data": {
      "text/plain": [
       "float"
      ]
     },
     "execution_count": 7,
     "metadata": {},
     "output_type": "execute_result"
    }
   ],
   "source": [
    "type(b)"
   ]
  },
  {
   "cell_type": "code",
   "execution_count": 8,
   "metadata": {},
   "outputs": [],
   "source": [
    "c = 'This is a string'"
   ]
  },
  {
   "cell_type": "code",
   "execution_count": 9,
   "metadata": {},
   "outputs": [
    {
     "name": "stdout",
     "output_type": "stream",
     "text": [
      "This is a string\n"
     ]
    }
   ],
   "source": [
    "print(c)"
   ]
  },
  {
   "cell_type": "code",
   "execution_count": 10,
   "metadata": {},
   "outputs": [
    {
     "data": {
      "text/plain": [
       "str"
      ]
     },
     "execution_count": 10,
     "metadata": {},
     "output_type": "execute_result"
    }
   ],
   "source": [
    "type(c)"
   ]
  },
  {
   "cell_type": "code",
   "execution_count": 11,
   "metadata": {},
   "outputs": [
    {
     "name": "stdout",
     "output_type": "stream",
     "text": [
      "[1, 2, 1]\n"
     ]
    }
   ],
   "source": [
    "l = [1, 2, a]\n",
    "print(l)"
   ]
  },
  {
   "cell_type": "code",
   "execution_count": 12,
   "metadata": {},
   "outputs": [
    {
     "name": "stdout",
     "output_type": "stream",
     "text": [
      "[1, 2, 1, 4]\n"
     ]
    }
   ],
   "source": [
    "l.append(4)\n",
    "print(l)"
   ]
  },
  {
   "cell_type": "code",
   "execution_count": 13,
   "metadata": {},
   "outputs": [
    {
     "data": {
      "text/plain": [
       "1"
      ]
     },
     "execution_count": 13,
     "metadata": {},
     "output_type": "execute_result"
    }
   ],
   "source": [
    "l[0]"
   ]
  },
  {
   "cell_type": "code",
   "execution_count": 14,
   "metadata": {},
   "outputs": [
    {
     "data": {
      "text/plain": [
       "4"
      ]
     },
     "execution_count": 14,
     "metadata": {},
     "output_type": "execute_result"
    }
   ],
   "source": [
    "l[-1]"
   ]
  },
  {
   "cell_type": "code",
   "execution_count": 15,
   "metadata": {},
   "outputs": [
    {
     "data": {
      "text/plain": [
       "4"
      ]
     },
     "execution_count": 15,
     "metadata": {},
     "output_type": "execute_result"
    }
   ],
   "source": [
    "len(l)"
   ]
  },
  {
   "cell_type": "code",
   "execution_count": 16,
   "metadata": {},
   "outputs": [
    {
     "data": {
      "text/plain": [
       "4"
      ]
     },
     "execution_count": 16,
     "metadata": {},
     "output_type": "execute_result"
    }
   ],
   "source": [
    "l[3]"
   ]
  },
  {
   "cell_type": "code",
   "execution_count": 17,
   "metadata": {},
   "outputs": [
    {
     "name": "stdout",
     "output_type": "stream",
     "text": [
      "Outside function\n"
     ]
    }
   ],
   "source": [
    "def my_function():\n",
    "    print('Hello!')\n",
    "    print('Inside function')\n",
    "print('Outside function')"
   ]
  },
  {
   "cell_type": "code",
   "execution_count": 18,
   "metadata": {},
   "outputs": [
    {
     "name": "stdout",
     "output_type": "stream",
     "text": [
      "Hello!\n",
      "Inside function\n"
     ]
    }
   ],
   "source": [
    "my_function()"
   ]
  },
  {
   "cell_type": "code",
   "execution_count": 19,
   "metadata": {},
   "outputs": [],
   "source": [
    "def addition(a, b):\n",
    "    c = a + b\n",
    "    return c"
   ]
  },
  {
   "cell_type": "code",
   "execution_count": 20,
   "metadata": {},
   "outputs": [
    {
     "data": {
      "text/plain": [
       "3.0"
      ]
     },
     "execution_count": 20,
     "metadata": {},
     "output_type": "execute_result"
    }
   ],
   "source": [
    "addition(1.0, 2.0)"
   ]
  },
  {
   "cell_type": "code",
   "execution_count": 21,
   "metadata": {},
   "outputs": [
    {
     "data": {
      "text/plain": [
       "3"
      ]
     },
     "execution_count": 21,
     "metadata": {},
     "output_type": "execute_result"
    }
   ],
   "source": [
    "addition(1, 2)"
   ]
  },
  {
   "cell_type": "code",
   "execution_count": 22,
   "metadata": {},
   "outputs": [
    {
     "data": {
      "text/plain": [
       "'Hello World!'"
      ]
     },
     "execution_count": 22,
     "metadata": {},
     "output_type": "execute_result"
    }
   ],
   "source": [
    "addition('Hello', ' World!')"
   ]
  },
  {
   "cell_type": "code",
   "execution_count": 23,
   "metadata": {},
   "outputs": [],
   "source": [
    "def subtraction(a, b=0.0):\n",
    "    return a - b"
   ]
  },
  {
   "cell_type": "code",
   "execution_count": 24,
   "metadata": {},
   "outputs": [
    {
     "data": {
      "text/plain": [
       "1"
      ]
     },
     "execution_count": 24,
     "metadata": {},
     "output_type": "execute_result"
    }
   ],
   "source": [
    "subtraction(2, 1)"
   ]
  },
  {
   "cell_type": "code",
   "execution_count": 25,
   "metadata": {},
   "outputs": [
    {
     "data": {
      "text/plain": [
       "2.0"
      ]
     },
     "execution_count": 25,
     "metadata": {},
     "output_type": "execute_result"
    }
   ],
   "source": [
    "subtraction(2)"
   ]
  },
  {
   "cell_type": "code",
   "execution_count": 26,
   "metadata": {},
   "outputs": [
    {
     "data": {
      "text/plain": [
       "1"
      ]
     },
     "execution_count": 26,
     "metadata": {},
     "output_type": "execute_result"
    }
   ],
   "source": [
    "subtraction(2, b=1)"
   ]
  },
  {
   "cell_type": "markdown",
   "metadata": {},
   "source": [
    "Import the Numpy module"
   ]
  },
  {
   "cell_type": "code",
   "execution_count": 27,
   "metadata": {},
   "outputs": [],
   "source": [
    "import numpy"
   ]
  },
  {
   "cell_type": "code",
   "execution_count": 28,
   "metadata": {},
   "outputs": [
    {
     "data": {
      "text/plain": [
       "'1.15.1'"
      ]
     },
     "execution_count": 28,
     "metadata": {},
     "output_type": "execute_result"
    }
   ],
   "source": [
    "numpy.__version__"
   ]
  },
  {
   "cell_type": "code",
   "execution_count": 53,
   "metadata": {},
   "outputs": [
    {
     "name": "stdout",
     "output_type": "stream",
     "text": [
      "[3. 5. 7.]\n"
     ]
    }
   ],
   "source": [
    "A = numpy.linspace(0.0, 10.0, 11)\n",
    "print(A[3:8:2])"
   ]
  },
  {
   "cell_type": "code",
   "execution_count": 56,
   "metadata": {},
   "outputs": [],
   "source": [
    "?numpy.ceil"
   ]
  },
  {
   "cell_type": "code",
   "execution_count": 30,
   "metadata": {},
   "outputs": [],
   "source": [
    "x = numpy.linspace(0.0, 10.0, 11)"
   ]
  },
  {
   "cell_type": "code",
   "execution_count": 31,
   "metadata": {},
   "outputs": [
    {
     "name": "stdout",
     "output_type": "stream",
     "text": [
      "[ 0.  1.  2.  3.  4.  5.  6.  7.  8.  9. 10.]\n"
     ]
    }
   ],
   "source": [
    "print(x)"
   ]
  },
  {
   "cell_type": "code",
   "execution_count": 32,
   "metadata": {},
   "outputs": [
    {
     "name": "stdout",
     "output_type": "stream",
     "text": [
      "[ 1.   1.9  2.8  3.7  4.6  5.5  6.4  7.3  8.2  9.1 10. ]\n"
     ]
    }
   ],
   "source": [
    "b = numpy.linspace(1, 10, 11)\n",
    "print(b)"
   ]
  },
  {
   "cell_type": "code",
   "execution_count": 33,
   "metadata": {},
   "outputs": [
    {
     "name": "stdout",
     "output_type": "stream",
     "text": [
      "[ 1  1  2  3  4  5  6  7  8  9 10]\n"
     ]
    }
   ],
   "source": [
    "c = numpy.linspace(1, 10, 11, dtype=int)\n",
    "print(c)"
   ]
  },
  {
   "cell_type": "code",
   "execution_count": 34,
   "metadata": {},
   "outputs": [
    {
     "data": {
      "text/plain": [
       "array([ 0.,  1.,  2.,  3.,  4.,  5.,  6.,  7.,  8.,  9., 10.])"
      ]
     },
     "execution_count": 34,
     "metadata": {},
     "output_type": "execute_result"
    }
   ],
   "source": [
    "x"
   ]
  },
  {
   "cell_type": "code",
   "execution_count": 35,
   "metadata": {},
   "outputs": [
    {
     "name": "stdout",
     "output_type": "stream",
     "text": [
      "[  0.   1.   4.   9.  16.  25.  36.  49.  64.  81. 100.]\n"
     ]
    }
   ],
   "source": [
    "y = x**2\n",
    "print(y)"
   ]
  },
  {
   "cell_type": "code",
   "execution_count": 36,
   "metadata": {},
   "outputs": [
    {
     "data": {
      "text/plain": [
       "array([ 0.        ,  0.84147098,  0.90929743,  0.14112001, -0.7568025 ,\n",
       "       -0.95892427, -0.2794155 ,  0.6569866 ,  0.98935825,  0.41211849,\n",
       "       -0.54402111])"
      ]
     },
     "execution_count": 36,
     "metadata": {},
     "output_type": "execute_result"
    }
   ],
   "source": [
    "numpy.sin(x)"
   ]
  },
  {
   "cell_type": "code",
   "execution_count": 37,
   "metadata": {},
   "outputs": [],
   "source": [
    "from matplotlib import pyplot\n",
    "%matplotlib inline"
   ]
  },
  {
   "cell_type": "code",
   "execution_count": 38,
   "metadata": {},
   "outputs": [
    {
     "data": {
      "text/plain": [
       "<matplotlib.text.Text at 0x7f1d0e25f2b0>"
      ]
     },
     "execution_count": 38,
     "metadata": {},
     "output_type": "execute_result"
    },
    {
     "data": {
      "image/png": "[encoded data removed]",
      "text/plain": [
       "<matplotlib.figure.Figure at 0x7f1d1055d668>"
      ]
     },
     "metadata": {},
     "output_type": "display_data"
    }
   ],
   "source": [
    "pyplot.plot(x,y)\n",
    "pyplot.grid()\n",
    "pyplot.xlabel('x')\n",
    "pyplot.ylabel('y')\n",
    "pyplot.title('y = x^2')"
   ]
  },
  {
   "cell_type": "code",
   "execution_count": 39,
   "metadata": {},
   "outputs": [
    {
     "name": "stdout",
     "output_type": "stream",
     "text": [
      "1.0 less than 2\n"
     ]
    }
   ],
   "source": [
    "r = 1.0\n",
    "if r < 2.0:\n",
    "    print('{} less than 2'.format(r))"
   ]
  },
  {
   "cell_type": "code",
   "execution_count": 40,
   "metadata": {},
   "outputs": [
    {
     "name": "stdout",
     "output_type": "stream",
     "text": [
      "2\n",
      "3\n",
      "4\n"
     ]
    }
   ],
   "source": [
    "for i in range(2, 5):\n",
    "    print(i)"
   ]
  },
  {
   "cell_type": "code",
   "execution_count": 41,
   "metadata": {},
   "outputs": [
    {
     "data": {
      "text/plain": [
       "5"
      ]
     },
     "execution_count": 41,
     "metadata": {},
     "output_type": "execute_result"
    }
   ],
   "source": [
    "5"
   ]
  },
  {
   "cell_type": "code",
   "execution_count": 42,
   "metadata": {},
   "outputs": [],
   "source": [
    "?numpy.arange(3)"
   ]
  },
  {
   "cell_type": "code",
   "execution_count": 43,
   "metadata": {},
   "outputs": [
    {
     "name": "stdout",
     "output_type": "stream",
     "text": [
      "[0.000e+00 2.000e-02 4.000e-02 ... 9.996e+01 9.998e+01 1.000e+02]\n"
     ]
    },
    {
     "data": {
      "text/plain": [
       "5001"
      ]
     },
     "execution_count": 43,
     "metadata": {},
     "output_type": "execute_result"
    }
   ],
   "source": [
    "T = 100.0\n",
    "dt = 0.02\n",
    "N = int(T/dt)+1\n",
    "t = numpy.linspace(0.0, T, N)\n",
    "print(t)\n",
    "t.size"
   ]
  },
  {
   "cell_type": "code",
   "execution_count": 44,
   "metadata": {},
   "outputs": [
    {
     "name": "stdout",
     "output_type": "stream",
     "text": [
      "[0.000e+00 2.000e-02 4.000e-02 ... 9.996e+01 9.998e+01 1.000e+02]\n"
     ]
    },
    {
     "data": {
      "text/plain": [
       "5001"
      ]
     },
     "execution_count": 44,
     "metadata": {},
     "output_type": "execute_result"
    }
   ],
   "source": [
    "T2 = T + 0.02\n",
    "dt = 0.02\n",
    "N2 = int(T/dt)+1-1\n",
    "t2 = numpy.arange(0.0, T2, T/N2)\n",
    "print(t2)\n",
    "t2.size"
   ]
  },
  {
   "cell_type": "code",
   "execution_count": 45,
   "metadata": {},
   "outputs": [
    {
     "data": {
      "text/plain": [
       "[<matplotlib.lines.Line2D at 0x7f1d0e2c16d8>]"
      ]
     },
     "execution_count": 45,
     "metadata": {},
     "output_type": "execute_result"
    },
    {
     "data": {
      "image/png": "[encoded data removed]",
      "text/plain": [
       "<matplotlib.figure.Figure at 0x7f1d0e1e4ba8>"
      ]
     },
     "metadata": {},
     "output_type": "display_data"
    }
   ],
   "source": [
    "z0 = 500.\n",
    "b0 = 10.\n",
    "zt = 100.\n",
    "g  = 9.81\n",
    "\n",
    "u = numpy.array([z0, b0])\n",
    "\n",
    "z = numpy.zeros(N)\n",
    "z[0] = z0\n",
    "\n",
    "for n in range(1,N):\n",
    "    u = u + dt*numpy.array([u[1], g*(1-u[0]/zt)])\n",
    "    z[n] = u[0]\n",
    "    \n",
    "pyplot.figure(figsize=(10,4))\n",
    "pyplot.ylim(-1000,1000)\n",
    "pyplot.tick_params(axis='both', labelsize=14)\n",
    "pyplot.xlabel('t', fontsize=14)\n",
    "pyplot.ylabel('z', fontsize=14)\n",
    "pyplot.plot(t,z, 'k-')"
   ]
  },
  {
   "cell_type": "code",
   "execution_count": 46,
   "metadata": {},
   "outputs": [
    {
     "data": {
      "text/plain": [
       "[<matplotlib.lines.Line2D at 0x7f1d0e1acda0>]"
      ]
     },
     "execution_count": 46,
     "metadata": {},
     "output_type": "execute_result"
    },
    {
     "data": {
      "image/png": "[encoded data removed]",
      "text/plain": [
       "<matplotlib.figure.Figure at 0x7f1d0e1bb7f0>"
      ]
     },
     "metadata": {},
     "output_type": "display_data"
    }
   ],
   "source": [
    "z01 = 20.\n",
    "b01 = 10.\n",
    "zt1 = 100.\n",
    "g  = 9.81\n",
    "\n",
    "u1 = numpy.array([z01, b01])\n",
    "\n",
    "z1 = numpy.zeros(N)\n",
    "z1[0] = z01\n",
    "\n",
    "for n in range(1,N):\n",
    "    u1 = u1 + dt*numpy.array([u1[1], g*(1-u1[0]/zt1)])\n",
    "    z1[n] = u1[0]\n",
    "    \n",
    "pyplot.figure(figsize=(10,4))\n",
    "pyplot.ylim(-50,300)\n",
    "pyplot.tick_params(axis='both', labelsize=14)\n",
    "pyplot.xlabel('t', fontsize=14)\n",
    "pyplot.ylabel('z', fontsize=14)\n",
    "pyplot.plot(t,z1, 'k-')"
   ]
  },
  {
   "cell_type": "code",
   "execution_count": 47,
   "metadata": {},
   "outputs": [
    {
     "data": {
      "text/plain": [
       "[<matplotlib.lines.Line2D at 0x7f1d0e10eb38>]"
      ]
     },
     "execution_count": 47,
     "metadata": {},
     "output_type": "execute_result"
    },
    {
     "data": {
      "image/png": "[encoded data removed]",
      "text/plain": [
       "<matplotlib.figure.Figure at 0x7f1d0e21a898>"
      ]
     },
     "metadata": {},
     "output_type": "display_data"
    }
   ],
   "source": [
    "z01 = 0.\n",
    "b01 = 10.\n",
    "zt1 = 100.\n",
    "g  = 9.81\n",
    "\n",
    "u1 = numpy.array([z01, b01])\n",
    "\n",
    "z1 = numpy.zeros(N)\n",
    "z1[0] = z01\n",
    "\n",
    "for n in range(1,N):\n",
    "    u1 = u1 + dt*numpy.array([u1[1], g*(1-u1[0]/zt1)])\n",
    "    z1[n] = u1[0]\n",
    "    \n",
    "pyplot.figure(figsize=(10,4))\n",
    "pyplot.ylim(-100,300)\n",
    "pyplot.tick_params(axis='both', labelsize=14)\n",
    "pyplot.xlabel('t', fontsize=14)\n",
    "pyplot.ylabel('z', fontsize=14)\n",
    "pyplot.plot(t,z1, 'k-')"
   ]
  },
  {
   "cell_type": "code",
   "execution_count": 48,
   "metadata": {},
   "outputs": [
    {
     "data": {
      "text/plain": [
       "<matplotlib.legend.Legend at 0x7f1d0def9940>"
      ]
     },
     "execution_count": 48,
     "metadata": {},
     "output_type": "execute_result"
    },
    {
     "data": {
      "image/png": "[encoded data removed]",
      "text/plain": [
       "<matplotlib.figure.Figure at 0x7f1d0e251828>"
      ]
     },
     "metadata": {},
     "output_type": "display_data"
    }
   ],
   "source": [
    "z0 = 100.\n",
    "b0 = 10.\n",
    "zt = 100.\n",
    "g  = 9.81\n",
    "\n",
    "u = numpy.array([z0, b0])\n",
    "\n",
    "z = numpy.zeros(N)\n",
    "z[0] = z0\n",
    "\n",
    "for n in range(1,N):\n",
    "    u = u + dt*numpy.array([u[1], g*(1-u[0]/zt)])\n",
    "    z[n] = u[0]\n",
    "\n",
    "z_exact = b0*(zt/g)**.5*numpy.sin((g/zt)**.5*t)+\\\n",
    "            (z0-zt)*numpy.cos((g/zt)**.5*t)+zt\n",
    "    \n",
    "pyplot.figure(figsize=(10,4))\n",
    "pyplot.ylim(40,160)\n",
    "pyplot.tick_params(axis='both', labelsize=14)\n",
    "pyplot.xlabel('t', fontsize=14)\n",
    "pyplot.ylabel('z', fontsize=14)\n",
    "pyplot.plot(t,z)\n",
    "pyplot.plot(t, z_exact)\n",
    "pyplot.legend(['Numerical Solution','Analytical Solution'])"
   ]
  },
  {
   "cell_type": "code",
   "execution_count": 49,
   "metadata": {},
   "outputs": [
    {
     "data": {
      "text/plain": [
       "<matplotlib.legend.Legend at 0x7f1d0ceeae80>"
      ]
     },
     "execution_count": 49,
     "metadata": {},
     "output_type": "execute_result"
    },
    {
     "data": {
      "image/png": "[encoded data removed]",
      "text/plain": [
       "<matplotlib.figure.Figure at 0x7f1d0df88898>"
      ]
     },
     "metadata": {},
     "output_type": "display_data"
    }
   ],
   "source": [
    "T = 100.0\n",
    "dt = 0.0001\n",
    "N = int(T/dt)+1\n",
    "t = numpy.linspace(0.0, T, N)\n",
    "\n",
    "z0 = 100.\n",
    "b0 = 10.\n",
    "zt = 100.\n",
    "g  = 9.81\n",
    "\n",
    "u = numpy.array([z0, b0])\n",
    "\n",
    "z = numpy.zeros(N)\n",
    "z[0] = z0\n",
    "\n",
    "for n in range(1,N):\n",
    "    u = u + dt*numpy.array([u[1], g*(1-u[0]/zt)])\n",
    "    z[n] = u[0]\n",
    "\n",
    "z_exact = b0*(zt/g)**.5*numpy.sin((g/zt)**.5*t)+\\\n",
    "            (z0-zt)*numpy.cos((g/zt)**.5*t)+zt\n",
    "    \n",
    "pyplot.figure(figsize=(10,4))\n",
    "pyplot.ylim(40,160)\n",
    "pyplot.tick_params(axis='both', labelsize=14)\n",
    "pyplot.xlabel('t', fontsize=14)\n",
    "pyplot.ylabel('z', fontsize=14)\n",
    "pyplot.plot(t,z)\n",
    "pyplot.plot(t, z_exact)\n",
    "pyplot.legend(['Numerical Solution','Analytical Solution'])"
   ]
  },
  {
   "cell_type": "code",
   "execution_count": 50,
   "metadata": {},
   "outputs": [
    {
     "ename": "NameError",
     "evalue": "name 'get_error' is not defined",
     "output_type": "error",
     "traceback": [
      "\u001b[0;31m---------------------------------------------------------------------------\u001b[0m",
      "\u001b[0;31mNameError\u001b[0m                                 Traceback (most recent call last)",
      "\u001b[0;32m<ipython-input-50-1d3e88860490>\u001b[0m in \u001b[0;36m<module>\u001b[0;34m()\u001b[0m\n\u001b[1;32m     22\u001b[0m \u001b[0;34m\u001b[0m\u001b[0m\n\u001b[1;32m     23\u001b[0m \u001b[0;32mfor\u001b[0m \u001b[0mi\u001b[0m\u001b[0;34m,\u001b[0m \u001b[0mdt\u001b[0m \u001b[0;32min\u001b[0m \u001b[0menumerate\u001b[0m\u001b[0;34m(\u001b[0m\u001b[0mdt_values\u001b[0m\u001b[0;34m)\u001b[0m\u001b[0;34m:\u001b[0m\u001b[0;34m\u001b[0m\u001b[0m\n\u001b[0;32m---> 24\u001b[0;31m     \u001b[0merror_values\u001b[0m\u001b[0;34m[\u001b[0m\u001b[0mi\u001b[0m\u001b[0;34m]\u001b[0m \u001b[0;34m=\u001b[0m \u001b[0mget_error\u001b[0m\u001b[0;34m(\u001b[0m\u001b[0mz_values\u001b[0m\u001b[0;34m[\u001b[0m\u001b[0mi\u001b[0m\u001b[0;34m]\u001b[0m\u001b[0;34m,\u001b[0m \u001b[0mdt\u001b[0m\u001b[0;34m)\u001b[0m\u001b[0;34m\u001b[0m\u001b[0m\n\u001b[0m",
      "\u001b[0;31mNameError\u001b[0m: name 'get_error' is not defined"
     ]
    }
   ],
   "source": [
    "dt_values = numpy.array([0.1, 0.05, 0.01, 0.005, 0.001, 0.0001])\n",
    "\n",
    "z_values = numpy.empty_like(dt_values, dtype=numpy.ndarray)\n",
    "\n",
    "\n",
    "for i, dt in enumerate(dt_values):\n",
    "    N = int(T/dt)+1\n",
    "    t = numpy.linspace(0.0, T, N)\n",
    "\n",
    "    u = numpy.array([z0, b0])\n",
    "    z = numpy.empty_like(t)\n",
    "    z[0] = z0\n",
    "    for n in range(1,N):\n",
    "        u = u + dt*numpy.array([u[1], g*(1-u[0]/zt)])\n",
    "        z[n] = u[0]\n",
    "    \n",
    "    z_values[i] = z.copy()\n",
    "\n",
    "\n",
    "\n",
    "error_values = numpy.empty_like(dt_values)\n",
    "\n",
    "for i, dt in enumerate(dt_values):\n",
    "    error_values[i] = get_error(z_values[i], dt)"
   ]
  },
  {
   "cell_type": "code",
   "execution_count": null,
   "metadata": {},
   "outputs": [],
   "source": [
    "z_values[0]"
   ]
  },
  {
   "cell_type": "code",
   "execution_count": null,
   "metadata": {},
   "outputs": [],
   "source": [
    "def get_error(z, dt):\n",
    "    N = len(z)\n",
    "    t = numpy.linspace(0.0, T, N)\n",
    "    \n",
    "    z_exact = b0*(zt/g)**.5*numpy.sin((g/zt)**.5*t)+\\\n",
    "                (z0-zt)*numpy.cos((g/zt)**.5*t)+zt\n",
    "    \n",
    "    return dt * numpy.sum(numpy.abs(z-z_exact))"
   ]
  },
  {
   "cell_type": "code",
   "execution_count": null,
   "metadata": {},
   "outputs": [],
   "source": [
    "?numpy.copy"
   ]
  },
  {
   "cell_type": "code",
   "execution_count": null,
   "metadata": {},
   "outputs": [],
   "source": [
    "pyplot.figure(figsize=(10, 6))\n",
    "pyplot.tick_params(axis='both', labelsize=14)\n",
    "pyplot.grid(True)\n",
    "pyplot.xlabel('$\\Delta t$', fontsize=16)\n",
    "pyplot.ylabel('Error', fontsize=16)\n",
    "pyplot.loglog(dt_values, error_values, 'ko-')\n",
    "pyplot.axis('equal')"
   ]
  },
  {
   "cell_type": "code",
   "execution_count": null,
   "metadata": {},
   "outputs": [],
   "source": [
    "def cal_error():\n",
    "    dt_values = numpy.array([0.1, 0.05, 0.01, 0.005, 0.001, 0.0001])\n",
    "    z_values = numpy.empty_like(dt_values, dtype=numpy.ndarray)\n",
    "\n",
    "    for i, dt in enumerate(dt_values):\n",
    "        N = int(T/dt)+1\n",
    "        t = numpy.linspace(0.0, T, N)\n",
    "\n",
    "        z0 = 100.\n",
    "        b0 = 10.\n",
    "        zt = 100.\n",
    "        g  = 9.81\n",
    "        \n",
    "        u = numpy.array([z0, b0])\n",
    "        z = numpy.empty_like(t)\n",
    "        z[0] = z0\n",
    "        for n in range(1,N):\n",
    "            u = u + dt*numpy.array([u[1], g*(1-u[0]/zt)])\n",
    "            z[n] = u[0]\n",
    "    \n",
    "        z_values[i] = z.copy()\n",
    "\n",
    "    error_values = numpy.empty_like(dt_values)\n",
    "\n",
    "    for i, dt in enumerate(dt_values):\n",
    "        error_values[i] = get_error(z_values[i], dt) \n",
    "                \n",
    "    return error_values"
   ]
  },
  {
   "cell_type": "code",
   "execution_count": null,
   "metadata": {},
   "outputs": [],
   "source": [
    "error_values250 = cal_error()\n",
    "\n",
    "pyplot.figure(figsize=(10, 6))\n",
    "pyplot.tick_params(axis='both', labelsize=14)\n",
    "pyplot.grid(True)\n",
    "pyplot.xlabel('$\\Delta t$', fontsize=16)\n",
    "pyplot.ylabel('Error', fontsize=16)\n",
    "pyplot.loglog(dt_values250, error_values250, 'ko-')\n",
    "pyplot.axis('equal')"
   ]
  },
  {
   "cell_type": "code",
   "execution_count": null,
   "metadata": {},
   "outputs": [],
   "source": [
    "error_values50 = numpy.empty_like(dt_values)\n",
    "\n",
    "\n",
    "for i in range(6):\n",
    "    N = len(z_values[i])\n",
    "    t = numpy.linspace(0.0, T, N)\n",
    "    z_exact = b0*(zt/g)**.5*numpy.sin((g/zt)**.5*t)+\\\n",
    "            (z0-zt)*numpy.cos((g/zt)**.5*t)+zt\n",
    "    error_values50[i] = dt_values[i] * numpy.sum(numpy.abs(z_values[i]-z_exact))\n",
    "    \n"
   ]
  },
  {
   "cell_type": "code",
   "execution_count": null,
   "metadata": {},
   "outputs": [],
   "source": [
    "error_values"
   ]
  },
  {
   "cell_type": "code",
   "execution_count": null,
   "metadata": {},
   "outputs": [],
   "source": [
    "error_values50"
   ]
  },
  {
   "cell_type": "code",
   "execution_count": null,
   "metadata": {},
   "outputs": [],
   "source": []
  }
 ],
 "metadata": {
  "kernelspec": {
   "display_name": "Python 3",
   "language": "python",
   "name": "python3"
  },
  "language_info": {
   "codemirror_mode": {
    "name": "ipython",
    "version": 3
   },
   "file_extension": ".py",
   "mimetype": "text/x-python",
   "name": "python",
   "nbconvert_exporter": "python",
   "pygments_lexer": "ipython3",
   "version": "3.6.2"
  }
 },
 "nbformat": 4,
 "nbformat_minor": 2
}
