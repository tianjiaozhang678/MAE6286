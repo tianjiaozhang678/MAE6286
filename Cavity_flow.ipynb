{
 "cells": [
  {
   "cell_type": "code",
   "execution_count": null,
   "metadata": {},
   "outputs": [],
   "source": [
    "import numpy\n",
    "from matplotlib import pyplot\n",
    "%matplotlib inline"
   ]
  },
  {
   "cell_type": "code",
   "execution_count": null,
   "metadata": {},
   "outputs": [],
   "source": [
    "import numba\n",
    "from numba import jit"
   ]
  },
  {
   "cell_type": "code",
   "execution_count": null,
   "metadata": {},
   "outputs": [],
   "source": [
    "Lx, Ly = 1.0, 1.0\n",
    "nx, ny = 41, 41\n",
    "\n",
    "x = numpy.linspace(0.0, Lx, num=nx)\n",
    "y = numpy.linspace(0.0, Ly, num=ny)\n",
    "\n",
    "dx = Lx / (nx - 1)\n",
    "dy = Ly / (ny - 1)\n",
    "\n",
    "Re = 10\n",
    "\n",
    "dt = 1e-4\n",
    "\n",
    "nt = 9000"
   ]
  },
  {
   "cell_type": "code",
   "execution_count": null,
   "metadata": {},
   "outputs": [],
   "source": [
    "u0 = numpy.zeros((ny, nx))\n",
    "u0[-1, :] = 1\n",
    "v0 = numpy.zeros((ny, nx))\n",
    "p0 = numpy.zeros((ny, nx))"
   ]
  },
  {
   "cell_type": "code",
   "execution_count": null,
   "metadata": {},
   "outputs": [],
   "source": [
    "@jit(nopython=True)\n",
    "def fractional_step(u0, v0, p0, dt, dx, Re, nt, maxiter=20000, rtol=1e-6):\n",
    "    u = u0.copy()\n",
    "    v = v0.copy()\n",
    "    u_star = u.copy()\n",
    "    v_star = v.copy()\n",
    "    b = u0.copy()\n",
    "    p = p0.copy()\n",
    "    for n in range(nt):\n",
    "        u_star[1:-1, 1:-1] = ( u[1:-1, 1:-1] + \n",
    "                               dt * (- u[1:-1, 1:-1] * (u[1:-1, 2:] - u[1:-1, :-2]) / (2*dx)\n",
    "                                     - v[1:-1, 1:-1] * (u[2:, 1:-1] - u[:-2, 1:-1]) / (2*dx)\n",
    "                                     + (1/Re) * ( (u[1:-1, :-2] - 2 * u[1:-1, 1:-1] + u[1:-1, 2:]) / (dx**2) +\n",
    "                                                  (u[:-2, 1:-1] - 2 * u[1:-1, 1:-1] + u[2:, 1:-1]) / (dx**2) )) )\n",
    "        v_star[1:-1, 1:-1] = ( v[1:-1, 1:-1] + \n",
    "                               dt * (- u[1:-1, 1:-1] * (v[1:-1, 2:] - v[1:-1, :-2]) / (2*dx)\n",
    "                                     - v[1:-1, 1:-1] * (v[2:, 1:-1] - v[:-2, 1:-1]) / (2*dx)\n",
    "                                     + (1/Re) * ( (v[1:-1, :-2] - 2 * v[1:-1, 1:-1] + v[1:-1, 2:]) / dx**2 +\n",
    "                                                  (v[:-2, 1:-1] - 2 * v[1:-1, 1:-1] + v[2:, 1:-1]) / (dx**2) )) )\n",
    "        \n",
    "                \n",
    "        b[1:-1, 1:-1] = 1/dt * ( (u_star[1:-1, 2:] - u_star[1:-1, :-2]) / (2*dx) +\n",
    "                                 (v_star[2:, 1:-1] - v_star[:-2, 1:-1]) / (2*dx) )\n",
    "\n",
    "        \n",
    "        r = numpy.zeros_like(p)\n",
    "        Ad = numpy.zeros_like(p)\n",
    "        conv = []\n",
    "        diff = rtol + 1\n",
    "        ite = 0\n",
    "        r[1:-1, 1:-1] = b[1:-1, 1:-1] - A(p)\n",
    "        d = r.copy()\n",
    "        while diff > rtol and ite < maxiter:\n",
    "            pk = p.copy()\n",
    "            rk = r.copy()\n",
    "            Ad[1:-1, 1:-1] = A(d)\n",
    "            alpha = numpy.sum(r * r) / numpy.sum(d * Ad)\n",
    "            p = pk + alpha * d\n",
    "            r = rk - alpha * Ad\n",
    "            beta = numpy.sum(r * r) / numpy.sum(rk * rk)\n",
    "            d = r + beta * d\n",
    "            diff = l2_norm(p, pk)\n",
    "            conv.append(diff)\n",
    "            ite += 1\n",
    "\n",
    "\n",
    "#         u[1:-1, 1:-1] = u_star[1:-1, 1:-1] - (p[1:-1, 2:] - p[1:-1, :-2]) / (2*dx)\n",
    "#         v[1:-1, 1:-1] = v_star[1:-1, 1:-1] - (p[2:, 1:-1] - p[:-2, 1:-1]) / (2*dx)\n",
    "        \n",
    "#         u[0, :] = 0\n",
    "#         v[0, :] = 0\n",
    "#         #p[0, 2:] = p[0, :-2]\n",
    "#         p[0, :] = 0\n",
    "#         u[:, 0] = 0\n",
    "#         v[:, 0] = 0\n",
    "#         #p[2:, 0] = p[:-2, 0]\n",
    "#         p[:, 0] = 0\n",
    "#         u[:, -1] = 0\n",
    "#         v[:, -1] = 0\n",
    "#         #p[2:, -1] = p[:-2, -1]\n",
    "#         p[:, -1] = 0\n",
    "#         u[-1, :] = 1\n",
    "#         v[-1, :] = 0\n",
    "#         p[-1, :] = 0\n",
    "    \n",
    "    \n",
    "    return u, v, p"
   ]
  },
  {
   "cell_type": "code",
   "execution_count": null,
   "metadata": {},
   "outputs": [],
   "source": [
    "u, v, p = fractional_step(u0, v0, p0, dt, dx, Re, nt, maxiter=20000, rtol=1e-6)"
   ]
  },
  {
   "cell_type": "code",
   "execution_count": null,
   "metadata": {},
   "outputs": [],
   "source": [
    "p"
   ]
  },
  {
   "cell_type": "code",
   "execution_count": null,
   "metadata": {},
   "outputs": [],
   "source": []
  }
 ],
 "metadata": {
  "kernelspec": {
   "display_name": "Python 3",
   "language": "python",
   "name": "python3"
  },
  "language_info": {
   "codemirror_mode": {
    "name": "ipython",
    "version": 3
   },
   "file_extension": ".py",
   "mimetype": "text/x-python",
   "name": "python",
   "nbconvert_exporter": "python",
   "pygments_lexer": "ipython3",
   "version": "3.6.2"
  }
 },
 "nbformat": 4,
 "nbformat_minor": 2
}
