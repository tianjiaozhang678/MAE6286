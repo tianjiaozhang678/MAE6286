{
 "cells": [
  {
   "cell_type": "code",
   "execution_count": 1,
   "metadata": {},
   "outputs": [],
   "source": [
    "import numpy\n",
    "from matplotlib import pyplot\n",
    "%matplotlib inline"
   ]
  },
  {
   "cell_type": "code",
   "execution_count": 2,
   "metadata": {},
   "outputs": [],
   "source": [
    "import numba\n",
    "from numba import jit"
   ]
  },
  {
   "cell_type": "code",
   "execution_count": 3,
   "metadata": {},
   "outputs": [],
   "source": [
    "Lx, Ly = 1.0, 1.0\n",
    "nx, ny = 41, 41\n",
    "\n",
    "x = numpy.linspace(0.0, Lx, num=nx)\n",
    "y = numpy.linspace(0.0, Ly, num=ny)\n",
    "\n",
    "dx = Lx / (nx - 1)\n",
    "dy = Ly / (ny - 1)\n",
    "\n",
    "Re = 10\n",
    "\n",
    "dt = 1e-4\n",
    "\n",
    "nt = 9000"
   ]
  },
  {
   "cell_type": "code",
   "execution_count": 4,
   "metadata": {},
   "outputs": [],
   "source": [
    "u0 = numpy.zeros((ny, nx))\n",
    "u0[-1, :] = 1\n",
    "v0 = numpy.zeros((ny, nx))\n",
    "p0 = numpy.zeros((ny, nx))"
   ]
  },
  {
   "cell_type": "code",
   "execution_count": 5,
   "metadata": {},
   "outputs": [],
   "source": [
    "def l2_norm(p, p_ref):\n",
    "    l2_diff = numpy.sqrt(numpy.sum((p - p_ref)**2))\n",
    "    l2_ref = numpy.sqrt(numpy.sum(p_ref**2))\n",
    "    if l2_ref > 1e-12:\n",
    "        return l2_diff / l2_ref\n",
    "    return l2_diff"
   ]
  },
  {
   "cell_type": "code",
   "execution_count": 6,
   "metadata": {},
   "outputs": [],
   "source": [
    "def A(p):\n",
    "        return (-4.0 * p[1:-1, 1:-1] +\n",
    "                p[1:-1, :-2] + p[1:-1, 2:] +\n",
    "                p[:-2, 1:-1] + p[2:, 1:-1]) / dx**2"
   ]
  },
  {
   "cell_type": "code",
   "execution_count": 22,
   "metadata": {},
   "outputs": [],
   "source": [
    "def fractional_step(u0, v0, p0, dt, dx, Re, nt, rtol=1e-6):\n",
    "    u = u0.copy()\n",
    "    v = v0.copy()\n",
    "    u_star = u.copy()\n",
    "    v_star = v.copy()\n",
    "    p = p0.copy()\n",
    "    r = numpy.zeros_like(p)\n",
    "    Ad = numpy.zeros_like(p)\n",
    "    \n",
    "    diff = rtol + 1\n",
    "    for n in range(nt):\n",
    "        u_star[1:-1, 1:-1] = ( u[1:-1, 1:-1] + \n",
    "                               dt * (- u[1:-1, 1:-1] * (u[1:-1, 2:] - u[1:-1, :-2]) / (2*dx)\n",
    "                                     - v[1:-1, 1:-1] * (u[2:, 1:-1] - u[:-2, 1:-1]) / (2*dx)\n",
    "                                     + (1/Re) * ( (u[1:-1, :-2] - 2 * u[1:-1, 1:-1] + u[1:-1, 2:]) / (dx**2) +\n",
    "                                                  (u[:-2, 1:-1] - 2 * u[1:-1, 1:-1] + u[2:, 1:-1]) / (dx**2) )) )\n",
    "        v_star[1:-1, 1:-1] = ( v[1:-1, 1:-1] + \n",
    "                               dt * (- u[1:-1, 1:-1] * (v[1:-1, 2:] - v[1:-1, :-2]) / (2*dx)\n",
    "                                     - v[1:-1, 1:-1] * (v[2:, 1:-1] - v[:-2, 1:-1]) / (2*dx)\n",
    "                                     + (1/Re) * ( (v[1:-1, :-2] - 2 * v[1:-1, 1:-1] + v[1:-1, 2:]) / dx**2 +\n",
    "                                                  (v[:-2, 1:-1] - 2 * v[1:-1, 1:-1] + v[2:, 1:-1]) / (dx**2) )) )\n",
    "\n",
    "        \n",
    "        r[1:-1, 1:-1] = 1/dt * ( (u_star[1:-1, 2:] - u_star[1:-1, :-2]) / (2*dx) +\n",
    "                                 (v_star[2:, 1:-1] - v_star[:-2, 1:-1]) / (2*dx) ) - A(p)\n",
    "        \n",
    "        d = r.copy()\n",
    "        while diff > rtol:\n",
    "            pk = p.copy()\n",
    "            rk = r.copy()\n",
    "            Ad[1:-1, 1:-1] = A(d)\n",
    "            alpha = numpy.sum(r * r) / numpy.sum(d * Ad)\n",
    "            p = pk + alpha * d\n",
    "            r = rk - alpha * Ad\n",
    "            beta = numpy.sum(r * r) / numpy.sum(rk * rk)\n",
    "            d = r + beta * d\n",
    "            diff = l2_norm(p, pk)\n",
    "        \n",
    "        \n",
    "        \n",
    "        \n",
    "        \n",
    "        u[1:-1, 1:-1] = u_star[1:-1, 1:-1] - (p[1:-1, 2:] - p[1:-1, :-2]) * dt / (2 * dx)\n",
    "        v[1:-1, 1:-1] = v_star[1:-1, 1:-1] - (p[2:, 1:-1] - p[:-2, 1:-1]) * dt / (2 * dx)\n",
    "        \n",
    "        u[0, :] = 0\n",
    "        v[0, :] = 0\n",
    "        \n",
    "#         p[0, :] = 0\n",
    "        u[:, 0] = 0\n",
    "        v[:, 0] = 0\n",
    "        \n",
    "#         p[:, 0] = 0\n",
    "        u[:, -1] = 0\n",
    "        v[:, -1] = 0\n",
    "        \n",
    "#         p[:, -1] = 0\n",
    "        u[-1, :] = 1\n",
    "        v[-1, :] = 0\n",
    "        \n",
    "        p[0, 2:] = p[0, :-2]\n",
    "        p[2:, 0] = p[:-2, 0]\n",
    "        p[2:, -1] = p[:-2, -1]\n",
    "        p[-1, :] = 0\n",
    "    \n",
    "    \n",
    "    return u, v, p"
   ]
  },
  {
   "cell_type": "code",
   "execution_count": 23,
   "metadata": {},
   "outputs": [],
   "source": [
    "u, v, p = fractional_step(u0, v0, p0, dt, dx, Re, nt, rtol=1e-6)"
   ]
  },
  {
   "cell_type": "code",
   "execution_count": 30,
   "metadata": {},
   "outputs": [
    {
     "data": {
      "text/plain": [
       "array([[ 0.00000000e+00,  0.00000000e+00,  0.00000000e+00, ...,\n",
       "         0.00000000e+00,  0.00000000e+00,  0.00000000e+00],\n",
       "       [ 0.00000000e+00, -2.84520710e-06, -5.80231818e-06, ...,\n",
       "         5.80231818e-06,  2.84520710e-06,  0.00000000e+00],\n",
       "       [ 0.00000000e+00, -5.95519741e-06, -1.17680958e-05, ...,\n",
       "         1.17680958e-05,  5.95519741e-06,  0.00000000e+00],\n",
       "       ...,\n",
       "       [ 0.00000000e+00, -2.09376203e-01, -1.48707152e-01, ...,\n",
       "         1.48707152e-01,  2.09376203e-01,  0.00000000e+00],\n",
       "       [ 0.00000000e+00, -6.04688063e-01, -2.09376050e-01, ...,\n",
       "         2.09376050e-01,  6.04688063e-01,  0.00000000e+00],\n",
       "       [ 0.00000000e+00,  0.00000000e+00,  0.00000000e+00, ...,\n",
       "         0.00000000e+00,  0.00000000e+00,  0.00000000e+00]])"
      ]
     },
     "execution_count": 30,
     "metadata": {},
     "output_type": "execute_result"
    }
   ],
   "source": [
    "p"
   ]
  },
  {
   "cell_type": "code",
   "execution_count": 33,
   "metadata": {},
   "outputs": [
    {
     "data": {
      "text/plain": [
       "<matplotlib.contour.QuadContourSet at 0x7ff52716cba8>"
      ]
     },
     "execution_count": 33,
     "metadata": {},
     "output_type": "execute_result"
    },
    {
     "data": {
      "image/png": "[encoded data removed]",
      "text/plain": [
       "<Figure size 432x288 with 1 Axes>"
      ]
     },
     "metadata": {},
     "output_type": "display_data"
    }
   ],
   "source": [
    "levels = numpy.linspace(-1.0, 1.0, num=501)\n",
    "pyplot.contourf(p, levels=levels)"
   ]
  },
  {
   "cell_type": "code",
   "execution_count": null,
   "metadata": {},
   "outputs": [],
   "source": []
  }
 ],
 "metadata": {
  "kernelspec": {
   "display_name": "Python 3",
   "language": "python",
   "name": "python3"
  },
  "language_info": {
   "codemirror_mode": {
    "name": "ipython",
    "version": 3
   },
   "file_extension": ".py",
   "mimetype": "text/x-python",
   "name": "python",
   "nbconvert_exporter": "python",
   "pygments_lexer": "ipython3",
   "version": "3.6.2"
  }
 },
 "nbformat": 4,
 "nbformat_minor": 2
}
