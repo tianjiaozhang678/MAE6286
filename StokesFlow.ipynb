{
 "cells": [
  {
   "cell_type": "code",
   "execution_count": 1,
   "metadata": {},
   "outputs": [],
   "source": [
    "import numpy\n",
    "from matplotlib import pyplot\n",
    "%matplotlib inline"
   ]
  },
  {
   "cell_type": "code",
   "execution_count": 2,
   "metadata": {},
   "outputs": [],
   "source": [
    "pyplot.rcParams['font.family'] = 'serif'\n",
    "pyplot.rcParams['font.size'] = 16"
   ]
  },
  {
   "cell_type": "code",
   "execution_count": 3,
   "metadata": {},
   "outputs": [],
   "source": [
    "def l1_norm(u, u_ref):\n",
    "    diff = numpy.sum(numpy.abs(u - u_ref))\n",
    "    return diff"
   ]
  },
  {
   "cell_type": "code",
   "execution_count": 4,
   "metadata": {},
   "outputs": [],
   "source": [
    "nx, ny = 41, 41\n",
    "L = 1.0\n",
    "dx = L / (nx - 1)\n",
    "dy = L / (ny - 1)\n",
    "\n",
    "x = numpy.linspace(0, L, num=nx)\n",
    "y = numpy.linspace(0, L, num=ny)"
   ]
  },
  {
   "cell_type": "code",
   "execution_count": 5,
   "metadata": {},
   "outputs": [],
   "source": [
    "p0 = numpy.zeros((ny, nx))\n",
    "w0 = numpy.zeros((ny, nx))\n",
    "w0[-1, :] = -3 / dy"
   ]
  },
  {
   "cell_type": "code",
   "execution_count": 6,
   "metadata": {},
   "outputs": [],
   "source": [
    "def Stokes_2d_jacobi(p0, maxiter=20000, rtol=1e-6):\n",
    "    p = p0.copy()\n",
    "    w = w0.copy()\n",
    "    p = w.copy()\n",
    "    diff = rtol + 1.0\n",
    "    ite = 0\n",
    "    while diff > rtol and ite < maxiter:\n",
    "        pn = p.copy()\n",
    "        w[1:-1, 1:-1] = 0.25 * (w[1:-1, :-2] + w[1:-1, 2:] +\n",
    "                                w[:-2, 1:-1] + w[2:, 1:-1])\n",
    "        w[-1, 1:-1] = w[-2, 1:-1]\n",
    "        w[-1, :] = (- 0.5 * dy**2) * (8 * p[-2, :] - p[-3, :]) - (3/dy)\n",
    "        w[:, -1] = 0\n",
    "        w[0, :] = 0\n",
    "        w[:, 0] = 0\n",
    "        \n",
    "        p[1:-1, 1:-1] = 0.25 * (p[1:-1, :-2] + p[1:-1, 2:] +\n",
    "                                p[:-2, 1:-1] + p[2:, 1:-1] +\n",
    "                                w[1:-1, 1:-1] * dx**2)\n",
    "        p[-1, :] = 0\n",
    "        p[:, -1] = 0\n",
    "        p[0, :] = 0\n",
    "        p[:, 0] = 0\n",
    "        diff = l1_norm(p, pn)\n",
    "        ite += 1\n",
    "    return w, p, ite, diff"
   ]
  },
  {
   "cell_type": "code",
   "execution_count": 7,
   "metadata": {},
   "outputs": [],
   "source": [
    "w, p, ite, diff = Stokes_2d_jacobi(p0, maxiter=20000, rtol=1e-6)"
   ]
  },
  {
   "cell_type": "code",
   "execution_count": 8,
   "metadata": {},
   "outputs": [
    {
     "data": {
      "text/plain": [
       "5932"
      ]
     },
     "execution_count": 8,
     "metadata": {},
     "output_type": "execute_result"
    }
   ],
   "source": [
    "ite"
   ]
  },
  {
   "cell_type": "code",
   "execution_count": 9,
   "metadata": {},
   "outputs": [
    {
     "data": {
      "text/plain": [
       "9.994685780077839e-07"
      ]
     },
     "execution_count": 9,
     "metadata": {},
     "output_type": "execute_result"
    }
   ],
   "source": [
    "diff"
   ]
  },
  {
   "cell_type": "code",
   "execution_count": 10,
   "metadata": {},
   "outputs": [
    {
     "data": {
      "image/png": "[encoded data removed]",
      "text/plain": [
       "<Figure size 720x720 with 1 Axes>"
      ]
     },
     "metadata": {},
     "output_type": "display_data"
    }
   ],
   "source": [
    "pyplot.figure(figsize=(10.0, 10.0))\n",
    "pyplot.xlabel('x [m]')\n",
    "pyplot.ylabel('y [m]')\n",
    "pyplot.contourf(x, y, p)\n",
    "pyplot.axis('scaled', adjustable='box');"
   ]
  },
  {
   "cell_type": "code",
   "execution_count": 11,
   "metadata": {},
   "outputs": [
    {
     "name": "stdout",
     "output_type": "stream",
     "text": [
      "-2.63711454574421\n"
     ]
    }
   ],
   "source": [
    "ind = numpy.unravel_index(abs(p).argmax(), p.shape)\n",
    "print(p[ind])"
   ]
  },
  {
   "cell_type": "code",
   "execution_count": 12,
   "metadata": {},
   "outputs": [
    {
     "data": {
      "text/plain": [
       "array([ 0.    , -1.5416, -2.3226, -2.3226, -1.5416,  0.    ])"
      ]
     },
     "execution_count": 12,
     "metadata": {},
     "output_type": "execute_result"
    }
   ],
   "source": [
    "numpy.round(p[32,::8], 4)"
   ]
  },
  {
   "cell_type": "code",
   "execution_count": null,
   "metadata": {},
   "outputs": [],
   "source": []
  }
 ],
 "metadata": {
  "kernelspec": {
   "display_name": "Python 3",
   "language": "python",
   "name": "python3"
  },
  "language_info": {
   "codemirror_mode": {
    "name": "ipython",
    "version": 3
   },
   "file_extension": ".py",
   "mimetype": "text/x-python",
   "name": "python",
   "nbconvert_exporter": "python",
   "pygments_lexer": "ipython3",
   "version": "3.6.2"
  }
 },
 "nbformat": 4,
 "nbformat_minor": 2
}
