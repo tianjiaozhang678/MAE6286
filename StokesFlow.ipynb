{
 "cells": [
  {
   "cell_type": "code",
   "execution_count": 1,
   "metadata": {},
   "outputs": [],
   "source": [
    "import numpy\n",
    "from matplotlib import pyplot\n",
    "%matplotlib inline"
   ]
  },
  {
   "cell_type": "code",
   "execution_count": 2,
   "metadata": {},
   "outputs": [],
   "source": [
    "import numba\n",
    "from numba import jit"
   ]
  },
  {
   "cell_type": "code",
   "execution_count": 3,
   "metadata": {},
   "outputs": [],
   "source": [
    "pyplot.rcParams['font.family'] = 'serif'\n",
    "pyplot.rcParams['font.size'] = 16"
   ]
  },
  {
   "cell_type": "code",
   "execution_count": 4,
   "metadata": {},
   "outputs": [],
   "source": [
    "def l1_norm(u, u_ref):\n",
    "    diff = numpy.sum(numpy.abs(u - u_ref))\n",
    "    return diff"
   ]
  },
  {
   "cell_type": "code",
   "execution_count": 5,
   "metadata": {},
   "outputs": [],
   "source": [
    "nx, ny = 41, 41\n",
    "L = 1.0\n",
    "dx = L / (nx - 1)\n",
    "dy = L / (ny - 1)\n",
    "\n",
    "x = numpy.linspace(0, L, num=nx)\n",
    "y = numpy.linspace(0, L, num=ny)\n",
    "\n",
    "rtol=1e-6"
   ]
  },
  {
   "cell_type": "code",
   "execution_count": 6,
   "metadata": {},
   "outputs": [],
   "source": [
    "p0 = numpy.zeros((ny, nx))\n",
    "w0 = numpy.zeros((ny, nx))"
   ]
  },
  {
   "cell_type": "code",
   "execution_count": 8,
   "metadata": {},
   "outputs": [],
   "source": [
    "@jit(nopython=True)\n",
    "def Stokes_2d_jacobi(w0, p0, rtol=1e-6):\n",
    "    p = p0.copy()\n",
    "    w = w0.copy()\n",
    "    diff = rtol + 1.0\n",
    "    while diff > rtol:\n",
    "        wn = w.copy()\n",
    "        pn = p.copy()\n",
    "        w[1:-1, 1:-1] = 0.25 * (wn[1:-1, :-2] + wn[1:-1, 2:] + \n",
    "                                wn[:-2, 1:-1] + wn[2:, 1:-1])\n",
    "            \n",
    "            \n",
    "        p[1:-1, 1:-1] = 0.25 * (pn[1:-1, :-2] + pn[1:-1, 2:] +\n",
    "                                pn[:-2, 1:-1] + pn[2:, 1:-1] +\n",
    "                                wn[1:-1, 1:-1] * dx**2)\n",
    "            \n",
    "            \n",
    "        w[-1, 1:-1] = (-1/(2*dy**2)) * (8 * p[-2, 1:-1] - p[-3, 1:-1]) - (3/dy)           \n",
    "        w[0, 1:-1] = (-1/(2*dy**2)) * (8 * p[1, 1:-1] - p[2, 1:-1])\n",
    "        w[1:-1, 0] = (-1/(2*dy**2)) * (8 * p[1:-1, 1] - p[1:-1, 2]) \n",
    "        w[1:-1, -1] = (-1/(2*dy**2)) * (8 * p[1:-1, -2] - p[1:-1, -3])\n",
    "        \n",
    "        \n",
    "        diff = max( numpy.sum(numpy.abs(p - pn)), numpy.sum(numpy.abs(w - wn)) )\n",
    "    return p"
   ]
  },
  {
   "cell_type": "code",
   "execution_count": 9,
   "metadata": {},
   "outputs": [],
   "source": [
    "p = Stokes_2d_jacobi(w0, p0, rtol=1e-6)"
   ]
  },
  {
   "cell_type": "code",
   "execution_count": 21,
   "metadata": {},
   "outputs": [
    {
     "data": {
      "image/png": "[encoded data removed]",
      "text/plain": [
       "<Figure size 576x360 with 2 Axes>"
      ]
     },
     "metadata": {},
     "output_type": "display_data"
    }
   ],
   "source": [
    "pyplot.figure(figsize=(8.0, 5.0))\n",
    "pyplot.xlabel('x')\n",
    "pyplot.ylabel('y')\n",
    "contf = pyplot.contourf(x, y, p)\n",
    "cbar = pyplot.colorbar(contf)\n",
    "cbar.set_label('Stream Function');"
   ]
  },
  {
   "cell_type": "code",
   "execution_count": 11,
   "metadata": {},
   "outputs": [
    {
     "name": "stdout",
     "output_type": "stream",
     "text": [
      "-0.09984517246222403\n"
     ]
    }
   ],
   "source": [
    "ind = numpy.unravel_index(abs(p).argmax(), p.shape)\n",
    "print(p[ind])"
   ]
  },
  {
   "cell_type": "code",
   "execution_count": 12,
   "metadata": {},
   "outputs": [
    {
     "data": {
      "text/plain": [
       "array([ 0.    , -0.0575, -0.0944, -0.0944, -0.0575,  0.    ])"
      ]
     },
     "execution_count": 12,
     "metadata": {},
     "output_type": "execute_result"
    }
   ],
   "source": [
    "numpy.round(p[32,::8], 4)"
   ]
  },
  {
   "cell_type": "code",
   "execution_count": null,
   "metadata": {},
   "outputs": [],
   "source": []
  }
 ],
 "metadata": {
  "kernelspec": {
   "display_name": "Python 3",
   "language": "python",
   "name": "python3"
  },
  "language_info": {
   "codemirror_mode": {
    "name": "ipython",
    "version": 3
   },
   "file_extension": ".py",
   "mimetype": "text/x-python",
   "name": "python",
   "nbconvert_exporter": "python",
   "pygments_lexer": "ipython3",
   "version": "3.6.2"
  }
 },
 "nbformat": 4,
 "nbformat_minor": 2
}
