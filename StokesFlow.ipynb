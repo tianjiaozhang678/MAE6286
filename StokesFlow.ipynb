{
 "cells": [
  {
   "cell_type": "code",
   "execution_count": 1,
   "metadata": {},
   "outputs": [],
   "source": [
    "import numpy\n",
    "from matplotlib import pyplot\n",
    "%matplotlib inline"
   ]
  },
  {
   "cell_type": "code",
   "execution_count": 2,
   "metadata": {},
   "outputs": [],
   "source": [
    "from mpl_toolkits import mplot3d\n",
    "from matplotlib import cm"
   ]
  },
  {
   "cell_type": "code",
   "execution_count": 3,
   "metadata": {},
   "outputs": [],
   "source": [
    "pyplot.rcParams['font.family'] = 'serif'\n",
    "pyplot.rcParams['font.size'] = 16"
   ]
  },
  {
   "cell_type": "code",
   "execution_count": 4,
   "metadata": {},
   "outputs": [],
   "source": [
    "def l1_norm(u, u_ref):\n",
    "    diff = numpy.sum(numpy.abs(u - u_ref))\n",
    "    return diff"
   ]
  },
  {
   "cell_type": "code",
   "execution_count": 5,
   "metadata": {},
   "outputs": [],
   "source": [
    "nx, ny = 41, 41\n",
    "L = 1.0\n",
    "dx = L / (nx - 1)\n",
    "dy = L / (ny - 1)\n",
    "\n",
    "x = numpy.linspace(0, L, num=nx)\n",
    "y = numpy.linspace(0, L, num=ny)"
   ]
  },
  {
   "cell_type": "code",
   "execution_count": 6,
   "metadata": {},
   "outputs": [],
   "source": [
    "p0 = numpy.zeros((ny, nx))\n",
    "w0 = numpy.zeros((ny, nx))\n",
    "w0[-1, :] = -3 / dy"
   ]
  },
  {
   "cell_type": "code",
   "execution_count": 7,
   "metadata": {},
   "outputs": [],
   "source": [
    "def Stokes_2d_jacobi(p0, maxiter=20000, rtol=1e-6):\n",
    "    p = p0.copy()\n",
    "    w = w0.copy()\n",
    "    conv = []\n",
    "    diff = rtol + 1.0\n",
    "    ite = 0\n",
    "    while diff > rtol and ite < maxiter:\n",
    "        pn = p.copy()\n",
    "        w[1:-1, 1:-1] = 0.25 * (w[1:-1, :-2] + w[1:-1, 2:] +\n",
    "                                w[:-2, 1:-1] + w[2:, 1:-1])\n",
    "        w[-1, :] = (- 1/2 * dy**2) * (8 * p[-2, :] - p[-3, :]) - (3/dy)\n",
    "        w[:, -1] = 0\n",
    "        w[0, :] = 0\n",
    "        w[:, 0] = 0\n",
    "        \n",
    "        p[1:-1, 1:-1] = 0.25 * (p[1:-1, :-2] + p[1:-1, 2:] +\n",
    "                                p[:-2, 1:-1] + p[2:, 1:-1] +\n",
    "                                w[1:-1, 1:-1] * dx**2 * 0.25)\n",
    "        p[-1, :] = 0\n",
    "        p[:, -1] = 0\n",
    "        p[0, :] = 0\n",
    "        p[:, 0] = 0\n",
    "        diff = l1_norm(p, pn)\n",
    "        conv.append(diff)\n",
    "        ite += 1\n",
    "    return p, ite, conv"
   ]
  },
  {
   "cell_type": "code",
   "execution_count": 8,
   "metadata": {},
   "outputs": [],
   "source": [
    "p, ites, conv = Stokes_2d_jacobi(p0, rtol=1e-8)"
   ]
  },
  {
   "cell_type": "code",
   "execution_count": 9,
   "metadata": {},
   "outputs": [
    {
     "data": {
      "text/plain": [
       "array([[ 0.        ,  0.        ,  0.        , ...,  0.        ,\n",
       "         0.        ,  0.        ],\n",
       "       [ 0.        , -0.00222879, -0.00444357, ..., -0.00444357,\n",
       "        -0.00222879,  0.        ],\n",
       "       [ 0.        , -0.00445877, -0.00888949, ..., -0.00888949,\n",
       "        -0.00445877,  0.        ],\n",
       "       ...,\n",
       "       [ 0.        , -0.02936409, -0.05643017, ..., -0.05643017,\n",
       "        -0.02936409,  0.        ],\n",
       "       [ 0.        , -0.01807998, -0.03359366, ..., -0.03359366,\n",
       "        -0.01807998,  0.        ],\n",
       "       [ 0.        ,  0.        ,  0.        , ...,  0.        ,\n",
       "         0.        ,  0.        ]])"
      ]
     },
     "execution_count": 9,
     "metadata": {},
     "output_type": "execute_result"
    }
   ],
   "source": [
    "p"
   ]
  },
  {
   "cell_type": "code",
   "execution_count": 11,
   "metadata": {},
   "outputs": [
    {
     "data": {
      "image/png": "[encoded data removed]",
      "text/plain": [
       "<Figure size 576x360 with 1 Axes>"
      ]
     },
     "metadata": {},
     "output_type": "display_data"
    }
   ],
   "source": [
    "pyplot.figure(figsize=(8.0, 5.0))\n",
    "pyplot.xlabel('x [m]')\n",
    "pyplot.ylabel('y [m]')\n",
    "contf = pyplot.contourf(x, y, p);"
   ]
  },
  {
   "cell_type": "code",
   "execution_count": null,
   "metadata": {},
   "outputs": [],
   "source": []
  }
 ],
 "metadata": {
  "kernelspec": {
   "display_name": "Python 3",
   "language": "python",
   "name": "python3"
  },
  "language_info": {
   "codemirror_mode": {
    "name": "ipython",
    "version": 3
   },
   "file_extension": ".py",
   "mimetype": "text/x-python",
   "name": "python",
   "nbconvert_exporter": "python",
   "pygments_lexer": "ipython3",
   "version": "3.6.2"
  }
 },
 "nbformat": 4,
 "nbformat_minor": 2
}
