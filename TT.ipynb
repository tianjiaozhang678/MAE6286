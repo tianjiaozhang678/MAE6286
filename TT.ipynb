{
 "cells": [
  {
   "cell_type": "code",
   "execution_count": 1,
   "metadata": {},
   "outputs": [],
   "source": [
    "import numpy\n",
    "from matplotlib import pyplot\n",
    "%matplotlib inline"
   ]
  },
  {
   "cell_type": "code",
   "execution_count": 2,
   "metadata": {},
   "outputs": [],
   "source": [
    "pyplot.rcParams['font.family'] = 'serif'\n",
    "pyplot.rcParams['font.size'] = 16"
   ]
  },
  {
   "cell_type": "code",
   "execution_count": 3,
   "metadata": {},
   "outputs": [],
   "source": [
    "nx = 201\n",
    "L = 4*2*numpy.pi\n",
    "dx = L / (nx - 1)\n",
    "x = numpy.linspace(0.0, L, nx)"
   ]
  },
  {
   "cell_type": "code",
   "execution_count": 4,
   "metadata": {},
   "outputs": [],
   "source": [
    "f =  (numpy.cos(x)*((x+1)**4) - 4*((x+1)**3)*numpy.sin(x))/((x+1)**8)"
   ]
  },
  {
   "cell_type": "code",
   "execution_count": 5,
   "metadata": {},
   "outputs": [],
   "source": [
    "G = numpy.zeros_like(f)\n",
    "G[0] = f[0]\n",
    "G[1] = f[1]\n",
    "G[2:-1] = (2*numpy.sin(x[3:])/((x[3:]+1)**4) + \n",
    "           3*numpy.sin(x[2:-1])/((x[2:-1]+1)**4) - \n",
    "           6*numpy.sin(x[1:-2])/((x[1:-2]+1)**4) + \n",
    "           numpy.sin(x[:-3])/((x[:-3]+1)**4))"
   ]
  },
  {
   "cell_type": "code",
   "execution_count": 6,
   "metadata": {},
   "outputs": [
    {
     "data": {
      "image/png": "[encoded data removed]",
      "text/plain": [
       "<Figure size 432x288 with 1 Axes>"
      ]
     },
     "metadata": {},
     "output_type": "display_data"
    }
   ],
   "source": [
    "fig = pyplot.figure(figsize=(6.0, 4.0))\n",
    "pyplot.xlabel(r'$x$')\n",
    "pyplot.ylabel(r'$\\ dP/dx$')\n",
    "pyplot.grid()\n",
    "line1 = pyplot.plot(x, G, color='C0', linestyle='-', linewidth=2)[0]\n",
    "line2 = pyplot.plot(x, f, color='C1', linestyle='-', linewidth=2)[0]\n",
    "pyplot.xlim(0.0, L);"
   ]
  },
  {
   "cell_type": "code",
   "execution_count": 7,
   "metadata": {},
   "outputs": [],
   "source": [
    "NX_values = [101, 501, 1001, 2001, 10001]"
   ]
  },
  {
   "cell_type": "code",
   "execution_count": 8,
   "metadata": {},
   "outputs": [],
   "source": [
    "errors = []"
   ]
  },
  {
   "cell_type": "code",
   "execution_count": 9,
   "metadata": {},
   "outputs": [],
   "source": [
    "for i in range(5):\n",
    "    nx = NX_values[i]\n",
    "    L = 4*2*numpy.pi\n",
    "    dx = L / (nx - 1)\n",
    "    x = numpy.linspace(0.0, L, nx)\n",
    "    f =  (numpy.cos(x)*((x+1)**4) - 4*((x+1)**3)*numpy.sin(x))/((x+1)**8)\n",
    "    G = numpy.zeros_like(f)\n",
    "    G[0] = f[0]\n",
    "    G[1] = f[1]\n",
    "    G[2:-1] = (2*numpy.sin(x[3:])/((x[3:]+1)**4) + \n",
    "               3*numpy.sin(x[2:-1])/((x[2:-1]+1)**4) - \n",
    "               6*numpy.sin(x[1:-2])/((x[1:-2]+1)**4) + \n",
    "               numpy.sin(x[:-3])/((x[:-3]+1)**4))\n",
    "    errors.append(numpy.sum(numpy.abs(G - f)))"
   ]
  },
  {
   "cell_type": "code",
   "execution_count": 10,
   "metadata": {},
   "outputs": [
    {
     "data": {
      "text/plain": [
       "[0.28973780483232425,\n",
       " 2.1342751084412677,\n",
       " 5.99967070849619,\n",
       " 14.175483778409912,\n",
       " 80.91501946266855]"
      ]
     },
     "execution_count": 10,
     "metadata": {},
     "output_type": "execute_result"
    }
   ],
   "source": [
    "errors"
   ]
  },
  {
   "cell_type": "code",
   "execution_count": 11,
   "metadata": {},
   "outputs": [
    {
     "data": {
      "text/plain": [
       "[<matplotlib.lines.Line2D at 0x7fe198892470>]"
      ]
     },
     "execution_count": 11,
     "metadata": {},
     "output_type": "execute_result"
    },
    {
     "data": {
      "image/png": "[encoded data removed]",
      "text/plain": [
       "<Figure size 432x432 with 1 Axes>"
      ]
     },
     "metadata": {},
     "output_type": "display_data"
    }
   ],
   "source": [
    "pyplot.figure(figsize=(6.0, 6.0))\n",
    "pyplot.xlabel('$\\ NX$')\n",
    "pyplot.ylabel('Error')\n",
    "pyplot.grid()\n",
    "pyplot.loglog(NX_values, errors,\n",
    "              color='C0', linestyle='--', marker='o')"
   ]
  },
  {
   "cell_type": "code",
   "execution_count": null,
   "metadata": {},
   "outputs": [],
   "source": []
  }
 ],
 "metadata": {
  "kernelspec": {
   "display_name": "Python 3",
   "language": "python",
   "name": "python3"
  },
  "language_info": {
   "codemirror_mode": {
    "name": "ipython",
    "version": 3
   },
   "file_extension": ".py",
   "mimetype": "text/x-python",
   "name": "python",
   "nbconvert_exporter": "python",
   "pygments_lexer": "ipython3",
   "version": "3.6.2"
  }
 },
 "nbformat": 4,
 "nbformat_minor": 2
}
