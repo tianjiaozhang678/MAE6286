{
 "cells": [
  {
   "cell_type": "code",
   "execution_count": 1,
   "metadata": {},
   "outputs": [],
   "source": [
    "import numpy\n",
    "from matplotlib import pyplot\n",
    "%matplotlib inline"
   ]
  },
  {
   "cell_type": "code",
   "execution_count": 2,
   "metadata": {},
   "outputs": [],
   "source": [
    "# Set parameters\n",
    "Lx = 0.01\n",
    "Ly = 0.01\n",
    "nx = 21\n",
    "ny = 21\n",
    "dx = Lx / (nx - 1)\n",
    "dy = Ly / (ny - 1)\n",
    "alpha = 1e-4\n",
    "\n",
    "x = numpy.linspace(0.0, Lx, num=nx)\n",
    "y = numpy.linspace(0.0, Ly, num=ny)\n",
    "\n",
    "# Initial conditions\n",
    "T0 = 20.0 * numpy.ones((ny, nx))\n",
    "T0[0, :] = 100.0\n",
    "T0[:, 0] = 100.0"
   ]
  },
  {
   "cell_type": "code",
   "execution_count": 3,
   "metadata": {},
   "outputs": [],
   "source": [
    "def ftcs(T0, nt, dt, dx, dy, alpha):\n",
    "    T = T0.copy()\n",
    "    sigma_x = alpha * dt / dx**2\n",
    "    sigma_y = alpha * dt / dy**2\n",
    "    I = int(nx/2)\n",
    "    J = int(ny/2)\n",
    "    for n in range(nt):\n",
    "        T[1:-1, 1:-1] = T[1:-1, 1:-1] + sigma_x * (T[1:-1, :-2] - 2 * T[1:-1, 1:-1] + T[1:-1, 2:]) + \\\n",
    "                                        sigma_y * (T[:-2, 1:-1] - 2 * T[1:-1, 1:-1] + T[2:, 1:-1])\n",
    "        T[0, :] = 100.0      #Bottom\n",
    "        T[:, 0] = 100.0      #Left\n",
    "        T[-1, :] = T[-2, :]  #Top\n",
    "        T[:, -1] = T[:, -2]  #Right\n",
    "        if T[J, I] >= 70.0:\n",
    "            break\n",
    "    print('Time step {}; temperature at center is {} C'.format (n, T[J, I])) \n",
    "    return T"
   ]
  },
  {
   "cell_type": "code",
   "execution_count": 4,
   "metadata": {},
   "outputs": [],
   "source": [
    "sigma = 0.5\n",
    "dt = sigma / ((1/dx**2 + 1/dy**2) * alpha)\n",
    "nt = 500"
   ]
  },
  {
   "cell_type": "code",
   "execution_count": 5,
   "metadata": {},
   "outputs": [
    {
     "name": "stdout",
     "output_type": "stream",
     "text": [
      "Time step 255; temperature at center is 70.021382940767 C\n"
     ]
    }
   ],
   "source": [
    "T = ftcs(T0, nt, dt, dx, dy, alpha)"
   ]
  },
  {
   "cell_type": "code",
   "execution_count": 6,
   "metadata": {},
   "outputs": [
    {
     "data": {
      "image/png": "[encoded data removed]",
      "text/plain": [
       "<Figure size 576x360 with 2 Axes>"
      ]
     },
     "metadata": {},
     "output_type": "display_data"
    }
   ],
   "source": [
    "pyplot.figure(figsize=(8.0, 5.0))\n",
    "pyplot.xlabel('x [m]')\n",
    "pyplot.ylabel('y [m]')\n",
    "contf = pyplot.contourf(x, y, T)\n",
    "cbar = pyplot.colorbar(contf)\n",
    "cbar.set_label('Temperature [C]')"
   ]
  },
  {
   "cell_type": "code",
   "execution_count": null,
   "metadata": {},
   "outputs": [],
   "source": []
  }
 ],
 "metadata": {
  "kernelspec": {
   "display_name": "Python 3",
   "language": "python",
   "name": "python3"
  },
  "language_info": {
   "codemirror_mode": {
    "name": "ipython",
    "version": 3
   },
   "file_extension": ".py",
   "mimetype": "text/x-python",
   "name": "python",
   "nbconvert_exporter": "python",
   "pygments_lexer": "ipython3",
   "version": "3.6.2"
  }
 },
 "nbformat": 4,
 "nbformat_minor": 2
}
