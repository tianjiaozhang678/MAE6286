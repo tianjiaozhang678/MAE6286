{
 "cells": [
  {
   "cell_type": "code",
   "execution_count": 1,
   "metadata": {},
   "outputs": [],
   "source": [
    "import numpy\n",
    "from matplotlib import pyplot\n",
    "%matplotlib inline"
   ]
  },
  {
   "cell_type": "code",
   "execution_count": 2,
   "metadata": {},
   "outputs": [],
   "source": [
    "pyplot.rcParams['font.family']='serif'\n",
    "pyplot.rcParams['font.size']=16"
   ]
  },
  {
   "cell_type": "code",
   "execution_count": 3,
   "metadata": {},
   "outputs": [],
   "source": [
    "def rho_red_light(x, rho_max):\n",
    "    rho = rho_max * numpy.ones_like(x)\n",
    "    mask = numpy.where(x < 3.0)\n",
    "    rho[mask] = 0.5 * rho_max\n",
    "    return rho"
   ]
  },
  {
   "cell_type": "code",
   "execution_count": 4,
   "metadata": {},
   "outputs": [],
   "source": [
    "nx = 81\n",
    "L = 4.0\n",
    "dx = L / (nx - 1)\n",
    "nt = 80\n",
    "rho_max = 10.0\n",
    "u_max = 1.0\n",
    "\n",
    "x = numpy.linspace(0.0, L, num=nx)\n",
    "\n",
    "rho0 = numpy.linspace(0.0, L, num=nx)\n",
    "\n",
    "rho0 = rho_red_light(x, rho_max)"
   ]
  },
  {
   "cell_type": "code",
   "execution_count": 5,
   "metadata": {},
   "outputs": [
    {
     "data": {
      "image/png": "[encoded data removed]",
      "text/plain": [
       "<Figure size 432x288 with 1 Axes>"
      ]
     },
     "metadata": {},
     "output_type": "display_data"
    }
   ],
   "source": [
    "fig = pyplot.figure(figsize=(6.0, 4.0))\n",
    "pyplot.xlabel(r'$x$')\n",
    "pyplot.ylabel(r'$\\rho$')\n",
    "pyplot.grid()\n",
    "line = pyplot.plot(x, rho0,\n",
    "                   color='C0', linestyle='-', linewidth=2)[0]\n",
    "pyplot.xlim(0.0, L)\n",
    "pyplot.ylim(4.0, 11.0)\n",
    "pyplot.tight_layout()"
   ]
  },
  {
   "cell_type": "code",
   "execution_count": 6,
   "metadata": {},
   "outputs": [],
   "source": [
    "def update_plot(nt):\n",
    "    fig = pyplot.figure(figsize=(6.0, 4.0))\n",
    "    pyplot.xlabel(r'$x$')\n",
    "    pyplot.ylabel(r'$\\rho$')\n",
    "    pyplot.grid()\n",
    "    line = pyplot.plot(x, rho_hist1[nt],\n",
    "                       color='C0', linestyle='-', linewidth=2)[0]\n",
    "    pyplot.xlim(0.0, L)\n",
    "    pyplot.ylim(4.0, 11.0)\n",
    "    fig.tight_layout()\n",
    "    fig.suptitle('Time step {:0>2}'.format(nt))"
   ]
  },
  {
   "cell_type": "code",
   "execution_count": 7,
   "metadata": {},
   "outputs": [],
   "source": [
    "def flux(rho, u_max, rho_max):\n",
    "    F = rho * u_max * (1.0 - rho / rho_max)\n",
    "    return F"
   ]
  },
  {
   "cell_type": "code",
   "execution_count": 8,
   "metadata": {},
   "outputs": [],
   "source": [
    "def lax_friedrichs(rho0, nt, dt, dx, bc_values, *args):\n",
    "    rho_hist = [rho0.copy()]\n",
    "    rho = rho0.copy()\n",
    "    for n in range(nt):\n",
    "        F = flux(rho, *args)\n",
    "        rho[1:-1] = (0.5 * (rho[:-2] + rho[2:]) -\n",
    "                     dt / (2.0 * dx) * (F[2:] - F[:-2]))\n",
    "        rho[0] = bc_values[0]\n",
    "        rho[-1] = bc_values[1]\n",
    "        rho_hist.append(rho.copy())\n",
    "    return rho_hist"
   ]
  },
  {
   "cell_type": "code",
   "execution_count": 9,
   "metadata": {},
   "outputs": [],
   "source": [
    "sigma = 1.0\n",
    "dt = sigma * dx / u_max\n",
    "\n",
    "rho_hist1 = lax_friedrichs(rho0, nt, dt, dx, (rho0[0], rho0[-1]),\n",
    "                           u_max, rho_max)"
   ]
  },
  {
   "cell_type": "code",
   "execution_count": 10,
   "metadata": {},
   "outputs": [
    {
     "data": {
      "application/vnd.jupyter.widget-view+json": {
       "model_id": "32340427c21f46c6886ca895f2c94d70",
       "version_major": 2,
       "version_minor": 0
      },
      "text/plain": [
       "interactive(children=(IntSlider(value=0, description='time step', max=80), Output()), _dom_classes=('widget-in…"
      ]
     },
     "metadata": {},
     "output_type": "display_data"
    }
   ],
   "source": [
    "import ipywidgets\n",
    "\n",
    "nt_slider = ipywidgets.IntSlider(value=0, min=0, max=nt, step=1,\n",
    "                                 description='time step')\n",
    "\n",
    "w = ipywidgets.interactive(update_plot, nt=nt_slider)\n",
    "display(w)"
   ]
  },
  {
   "cell_type": "code",
   "execution_count": 11,
   "metadata": {},
   "outputs": [],
   "source": [
    "sigma = 0.5\n",
    "dt = sigma * dx / u_max\n",
    "\n",
    "rho_hist2 = lax_friedrichs(rho0, nt, dt, dx, (rho0[0], rho0[-1]),\n",
    "                          u_max, rho_max)"
   ]
  },
  {
   "cell_type": "code",
   "execution_count": 12,
   "metadata": {},
   "outputs": [],
   "source": [
    "def update_plot2(nt):\n",
    "    fig = pyplot.figure(figsize=(6.0, 4.0))\n",
    "    pyplot.xlabel(r'$x$')\n",
    "    pyplot.ylabel(r'$\\rho$')\n",
    "    pyplot.grid()\n",
    "    line = pyplot.plot(x, rho_hist2[nt],\n",
    "                       color='C0', linestyle='-', linewidth=2)[0]\n",
    "    pyplot.xlim(0.0, L)\n",
    "    pyplot.ylim(4.0, 11.0)\n",
    "    fig.tight_layout()\n",
    "    fig.suptitle('Time step {:0>2}'.format(nt))"
   ]
  },
  {
   "cell_type": "code",
   "execution_count": 13,
   "metadata": {},
   "outputs": [
    {
     "data": {
      "application/vnd.jupyter.widget-view+json": {
       "model_id": "d26c68403398487d84d8998a5a365afc",
       "version_major": 2,
       "version_minor": 0
      },
      "text/plain": [
       "interactive(children=(IntSlider(value=0, description='time step', max=80), Output()), _dom_classes=('widget-in…"
      ]
     },
     "metadata": {},
     "output_type": "display_data"
    }
   ],
   "source": [
    "import ipywidgets\n",
    "\n",
    "nt_slider = ipywidgets.IntSlider(value=0, min=0, max=nt, step=1,\n",
    "                                 description='time step')\n",
    "\n",
    "w = ipywidgets.interactive(update_plot2, nt=nt_slider)\n",
    "display(w)"
   ]
  },
  {
   "cell_type": "code",
   "execution_count": 14,
   "metadata": {},
   "outputs": [],
   "source": [
    "def jacobian(rho, u_max, rho_max):\n",
    "    J = u_max * (1.0 - 2.0 * rho / rho_max)\n",
    "    return J"
   ]
  },
  {
   "cell_type": "code",
   "execution_count": 15,
   "metadata": {},
   "outputs": [],
   "source": [
    "def lax_wendroff(rho0, nt, dt, dx, bc_values, *args):\n",
    "    rho_hist = [rho0.copy()]\n",
    "    rho = rho0.copy()\n",
    "    for n in range(nt):\n",
    "        F = flux(rho, *args)\n",
    "        J = jacobian(rho, *args)\n",
    "        rho[1:-1] = (rho[1:-1] -\n",
    "                     dt / (2.0 * dx) * (F[2:] - F[:-2]) +\n",
    "                     dt**2 / (4.0 * dx**2) *\n",
    "                     ((J[1:-1] + J[2:]) * (F[2:] - F[1:-1]) -\n",
    "                      (J[:-2] + J[1:-1]) * (F[1:-1] - F[:-2])))\n",
    "        rho[0] = bc_values[0]\n",
    "        rho[-1] = bc_values[1]\n",
    "        rho_hist.append(rho.copy())\n",
    "    return rho_hist"
   ]
  },
  {
   "cell_type": "code",
   "execution_count": 16,
   "metadata": {},
   "outputs": [],
   "source": [
    "sigma = 1.0\n",
    "dt = sigma * dx / u_max\n",
    "\n",
    "rho_hist3 = lax_wendroff(rho0, nt, dt, dx, (rho0[0], rho0[-1]),\n",
    "                        u_max, rho_max)"
   ]
  },
  {
   "cell_type": "code",
   "execution_count": 17,
   "metadata": {},
   "outputs": [],
   "source": [
    "def update_plot3(nt):\n",
    "    fig = pyplot.figure(figsize=(6.0, 4.0))\n",
    "    pyplot.xlabel(r'$x$')\n",
    "    pyplot.ylabel(r'$\\rho$')\n",
    "    pyplot.grid()\n",
    "    line = pyplot.plot(x, rho_hist3[nt],\n",
    "                       color='C0', linestyle='-', linewidth=2)[0]\n",
    "    pyplot.xlim(0.0, L)\n",
    "    pyplot.ylim(4.0, 11.0)\n",
    "    fig.tight_layout()\n",
    "    fig.suptitle('Time step {:0>2}'.format(nt))"
   ]
  },
  {
   "cell_type": "code",
   "execution_count": 18,
   "metadata": {},
   "outputs": [
    {
     "data": {
      "application/vnd.jupyter.widget-view+json": {
       "model_id": "a7c5f56431774a3abf7aae51843854cf",
       "version_major": 2,
       "version_minor": 0
      },
      "text/plain": [
       "interactive(children=(IntSlider(value=0, description='time step', max=80), Output()), _dom_classes=('widget-in…"
      ]
     },
     "metadata": {},
     "output_type": "display_data"
    }
   ],
   "source": [
    "import ipywidgets\n",
    "\n",
    "nt_slider = ipywidgets.IntSlider(value=0, min=0, max=nt, step=1,\n",
    "                                 description='time step')\n",
    "\n",
    "w = ipywidgets.interactive(update_plot3, nt=nt_slider)\n",
    "display(w)"
   ]
  },
  {
   "cell_type": "code",
   "execution_count": 19,
   "metadata": {},
   "outputs": [],
   "source": [
    "sigma = 0.5\n",
    "dt = sigma * dx / u_max\n",
    "\n",
    "rho_hist4 = lax_wendroff(rho0, nt, dt, dx, (rho0[0], rho0[-1]),\n",
    "                        u_max, rho_max)"
   ]
  },
  {
   "cell_type": "code",
   "execution_count": 20,
   "metadata": {},
   "outputs": [],
   "source": [
    "def update_plot4(nt):\n",
    "    fig = pyplot.figure(figsize=(6.0, 4.0))\n",
    "    pyplot.xlabel(r'$x$')\n",
    "    pyplot.ylabel(r'$\\rho$')\n",
    "    pyplot.grid()\n",
    "    line = pyplot.plot(x, rho_hist4[nt],\n",
    "                       color='C0', linestyle='-', linewidth=2)[0]\n",
    "    pyplot.xlim(0.0, L)\n",
    "    pyplot.ylim(4.0, 11.0)\n",
    "    fig.tight_layout()\n",
    "    fig.suptitle('Time step {:0>2}'.format(nt))"
   ]
  },
  {
   "cell_type": "code",
   "execution_count": 21,
   "metadata": {},
   "outputs": [
    {
     "data": {
      "application/vnd.jupyter.widget-view+json": {
       "model_id": "59c4b61379574d76b5050fd4b7f555bb",
       "version_major": 2,
       "version_minor": 0
      },
      "text/plain": [
       "interactive(children=(IntSlider(value=0, description='time step', max=80), Output()), _dom_classes=('widget-in…"
      ]
     },
     "metadata": {},
     "output_type": "display_data"
    }
   ],
   "source": [
    "import ipywidgets\n",
    "\n",
    "nt_slider = ipywidgets.IntSlider(value=0, min=0, max=nt, step=1,\n",
    "                                 description='time step')\n",
    "\n",
    "w = ipywidgets.interactive(update_plot4, nt=nt_slider)\n",
    "display(w)"
   ]
  },
  {
   "cell_type": "code",
   "execution_count": 22,
   "metadata": {},
   "outputs": [],
   "source": [
    "def maccormack(rho0, nt, dt, dx, bc_values, *args):\n",
    "    rho_hist = [rho0.copy()]\n",
    "    rho = rho0.copy()\n",
    "    rho_star = rho.copy()\n",
    "    for n in range(nt):\n",
    "        F = flux(rho, *args)\n",
    "        rho_star[1:-1] = (rho[1:-1] -\n",
    "                          dt / dx * (F[2:] - F[1:-1]))\n",
    "        F = flux(rho_star, *args)\n",
    "        rho[1:-1] = 0.5 * (rho[1:-1] + rho_star[1:-1] -\n",
    "                           dt / dx * (F[1:-1] - F[:-2]))\n",
    "        rho[0] = bc_values[0]\n",
    "        rho[-1] = bc_values[1]\n",
    "        rho_hist.append(rho.copy())\n",
    "    return rho_hist"
   ]
  },
  {
   "cell_type": "code",
   "execution_count": 23,
   "metadata": {},
   "outputs": [],
   "source": [
    "sigma = 1.0\n",
    "dt = sigma * dx / u_max\n",
    "\n",
    "rho_hist5 = maccormack(rho0, nt, dt, dx, (rho0[0], rho0[-1]),\n",
    "                      u_max, rho_max)"
   ]
  },
  {
   "cell_type": "code",
   "execution_count": 24,
   "metadata": {},
   "outputs": [],
   "source": [
    "def update_plot5(nt):\n",
    "    fig = pyplot.figure(figsize=(6.0, 4.0))\n",
    "    pyplot.xlabel(r'$x$')\n",
    "    pyplot.ylabel(r'$\\rho$')\n",
    "    pyplot.grid()\n",
    "    line = pyplot.plot(x, rho_hist5[nt],\n",
    "                       color='C0', linestyle='-', linewidth=2)[0]\n",
    "    pyplot.xlim(0.0, L)\n",
    "    pyplot.ylim(4.0, 11.0)\n",
    "    fig.tight_layout()\n",
    "    fig.suptitle('Time step {:0>2}'.format(nt))"
   ]
  },
  {
   "cell_type": "code",
   "execution_count": 25,
   "metadata": {},
   "outputs": [
    {
     "data": {
      "application/vnd.jupyter.widget-view+json": {
       "model_id": "532544c1a4cb403da9f27c18758c1cac",
       "version_major": 2,
       "version_minor": 0
      },
      "text/plain": [
       "interactive(children=(IntSlider(value=0, description='time step', max=80), Output()), _dom_classes=('widget-in…"
      ]
     },
     "metadata": {},
     "output_type": "display_data"
    }
   ],
   "source": [
    "import ipywidgets\n",
    "\n",
    "nt_slider = ipywidgets.IntSlider(value=0, min=0, max=nt, step=1,\n",
    "                                 description='time step')\n",
    "\n",
    "w = ipywidgets.interactive(update_plot5, nt=nt_slider)\n",
    "display(w)"
   ]
  },
  {
   "cell_type": "code",
   "execution_count": 26,
   "metadata": {},
   "outputs": [],
   "source": [
    "sigma = 0.5\n",
    "dt = sigma * dt / u_max\n",
    "\n",
    "rho_hist6 = maccormack(rho0, nt, dt, dx, (rho0[0], rho0[-1]),\n",
    "                      u_max, rho_max)"
   ]
  },
  {
   "cell_type": "code",
   "execution_count": 27,
   "metadata": {},
   "outputs": [],
   "source": [
    "def update_plot6(nt):\n",
    "    fig = pyplot.figure(figsize=(6.0, 4.0))\n",
    "    pyplot.xlabel(r'$x$')\n",
    "    pyplot.ylabel(r'$\\rho$')\n",
    "    pyplot.grid()\n",
    "    line = pyplot.plot(x, rho_hist6[nt],\n",
    "                       color='C0', linestyle='-', linewidth=2)[0]\n",
    "    pyplot.xlim(0.0, L)\n",
    "    pyplot.ylim(4.0, 11.0)\n",
    "    fig.tight_layout()\n",
    "    fig.suptitle('Time step {:0>2}'.format(nt))"
   ]
  },
  {
   "cell_type": "code",
   "execution_count": 28,
   "metadata": {},
   "outputs": [
    {
     "data": {
      "application/vnd.jupyter.widget-view+json": {
       "model_id": "9b3164bdc7ae4c41918d02684dec8bb9",
       "version_major": 2,
       "version_minor": 0
      },
      "text/plain": [
       "interactive(children=(IntSlider(value=0, description='time step', max=80), Output()), _dom_classes=('widget-in…"
      ]
     },
     "metadata": {},
     "output_type": "display_data"
    }
   ],
   "source": [
    "import ipywidgets\n",
    "\n",
    "nt_slider = ipywidgets.IntSlider(value=0, min=0, max=nt, step=1,\n",
    "                                 description='time step')\n",
    "\n",
    "w = ipywidgets.interactive(update_plot6, nt=nt_slider)\n",
    "display(w)"
   ]
  },
  {
   "cell_type": "code",
   "execution_count": 29,
   "metadata": {},
   "outputs": [],
   "source": [
    "def lax_friedrichs_forwardtimeforwardspace(rho0, nt, dt, dx, bc_values, *args):\n",
    "    rho_hist = [rho0.copy()]\n",
    "    rho = rho0.copy()\n",
    "    for n in range(nt):\n",
    "        F = flux(rho, *args)\n",
    "        rho[1:-1] = (0.5 * (rho[1:-1] + rho[2:]) -\n",
    "                     dt / (2.0 * dx) * (F[2:] - F[1:-1]))\n",
    "        rho[0] = bc_values[0]\n",
    "        rho[-1] = bc_values[1]\n",
    "        rho_hist.append(rho.copy())\n",
    "    return rho_hist"
   ]
  },
  {
   "cell_type": "code",
   "execution_count": 30,
   "metadata": {},
   "outputs": [],
   "source": [
    "sigma = 1.0\n",
    "dt = sigma * dx / u_max\n",
    "\n",
    "rho_hist7 = lax_friedrichs_forwardtimeforwardspace(rho0, nt, dt, dx, (rho0[0], rho0[-1]),\n",
    "                                                  u_max, rho_max)"
   ]
  },
  {
   "cell_type": "code",
   "execution_count": 31,
   "metadata": {},
   "outputs": [],
   "source": [
    "def update_plot7(nt):\n",
    "    fig = pyplot.figure(figsize=(6.0, 4.0))\n",
    "    pyplot.xlabel(r'$x$')\n",
    "    pyplot.ylabel(r'$\\rho$')\n",
    "    pyplot.grid()\n",
    "    line = pyplot.plot(x, rho_hist7[nt],\n",
    "                       color='C0', linestyle='-', linewidth=2)[0]\n",
    "    pyplot.xlim(0.0, L)\n",
    "    pyplot.ylim(4.0, 11.0)\n",
    "    fig.tight_layout()\n",
    "    fig.suptitle('Time step {:0>2}'.format(nt))"
   ]
  },
  {
   "cell_type": "code",
   "execution_count": 32,
   "metadata": {},
   "outputs": [
    {
     "data": {
      "application/vnd.jupyter.widget-view+json": {
       "model_id": "7cd006c2c7a94c0194425c2c084ddf7c",
       "version_major": 2,
       "version_minor": 0
      },
      "text/plain": [
       "interactive(children=(IntSlider(value=0, description='time step', max=80), Output()), _dom_classes=('widget-in…"
      ]
     },
     "metadata": {},
     "output_type": "display_data"
    }
   ],
   "source": [
    "import ipywidgets\n",
    "\n",
    "nt_slider = ipywidgets.IntSlider(value=0, min=0, max=nt, step=1,\n",
    "                                 description='time step')\n",
    "\n",
    "w = ipywidgets.interactive(update_plot7, nt=nt_slider)\n",
    "display(w)"
   ]
  },
  {
   "cell_type": "code",
   "execution_count": 33,
   "metadata": {},
   "outputs": [],
   "source": [
    "sigma = 0.5\n",
    "dt = sigma * dx / u_max\n",
    "\n",
    "rho_hist8 = lax_friedrichs_forwardtimeforwardspace(rho0, nt, dt, dx, (rho0[0], rho0[-1]),\n",
    "                                                  u_max, rho_max)"
   ]
  },
  {
   "cell_type": "code",
   "execution_count": 34,
   "metadata": {},
   "outputs": [],
   "source": [
    "def update_plot8(nt):\n",
    "    fig = pyplot.figure(figsize=(6.0, 4.0))\n",
    "    pyplot.xlabel(r'$x$')\n",
    "    pyplot.ylabel(r'$\\rho$')\n",
    "    pyplot.grid()\n",
    "    line = pyplot.plot(x, rho_hist8[nt],\n",
    "                       color='C0', linestyle='-', linewidth=2)[0]\n",
    "    pyplot.xlim(0.0, L)\n",
    "    pyplot.ylim(4.0, 11.0)\n",
    "    fig.tight_layout()\n",
    "    fig.suptitle('Time step {:0>2}'.format(nt))"
   ]
  },
  {
   "cell_type": "code",
   "execution_count": 35,
   "metadata": {},
   "outputs": [
    {
     "data": {
      "application/vnd.jupyter.widget-view+json": {
       "model_id": "96007e73d11641f6b42e0e0f1cf02556",
       "version_major": 2,
       "version_minor": 0
      },
      "text/plain": [
       "interactive(children=(IntSlider(value=0, description='time step', max=80), Output()), _dom_classes=('widget-in…"
      ]
     },
     "metadata": {},
     "output_type": "display_data"
    }
   ],
   "source": [
    "import ipywidgets\n",
    "\n",
    "nt_slider = ipywidgets.IntSlider(value=0, min=0, max=nt, step=1,\n",
    "                                 description='time step')\n",
    "\n",
    "w = ipywidgets.interactive(update_plot8, nt=nt_slider)\n",
    "display(w)"
   ]
  },
  {
   "cell_type": "code",
   "execution_count": null,
   "metadata": {},
   "outputs": [],
   "source": []
  }
 ],
 "metadata": {
  "kernelspec": {
   "display_name": "Python 3",
   "language": "python",
   "name": "python3"
  },
  "language_info": {
   "codemirror_mode": {
    "name": "ipython",
    "version": 3
   },
   "file_extension": ".py",
   "mimetype": "text/x-python",
   "name": "python",
   "nbconvert_exporter": "python",
   "pygments_lexer": "ipython3",
   "version": "3.6.2"
  }
 },
 "nbformat": 4,
 "nbformat_minor": 2
}
