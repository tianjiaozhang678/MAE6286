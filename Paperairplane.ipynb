{
 "cells": [
  {
   "cell_type": "code",
   "execution_count": 1,
   "metadata": {},
   "outputs": [],
   "source": [
    "import math\n",
    "import numpy\n",
    "from matplotlib import pyplot\n",
    "%matplotlib inline\n",
    "\n",
    "pyplot.rcParams['font.family'] = 'serif'\n",
    "pyplot.rcParams['font.size'] = 16"
   ]
  },
  {
   "cell_type": "code",
   "execution_count": 2,
   "metadata": {},
   "outputs": [],
   "source": [
    "g = 9.8\n",
    "vt = 4.9\n",
    "CD = 1.0 / 5.0\n",
    "CL = 1.0\n",
    "\n",
    "v0 = 6.5\n",
    "theta0 = -0.1\n",
    "x0 = 0\n",
    "y0 = 2.0"
   ]
  },
  {
   "cell_type": "code",
   "execution_count": 3,
   "metadata": {},
   "outputs": [],
   "source": [
    "def rhs_phugoid(u, CL, CD, g, vt):\n",
    "    v, theta, x, y = u\n",
    "    rhs = numpy.array([-g * math.sin(theta) - CD / CL * g / vt**2 * v**2,\n",
    "                       -g * math.cos(theta) / v + g / vt**2 * v,\n",
    "                       v * math.cos(theta),\n",
    "                       v * math.sin(theta)])\n",
    "    return rhs"
   ]
  },
  {
   "cell_type": "code",
   "execution_count": 4,
   "metadata": {},
   "outputs": [],
   "source": [
    "def euler_step(u, f, dt, *args):\n",
    "    u_new = u + dt * f(u, *args)\n",
    "    return u_new"
   ]
  },
  {
   "cell_type": "code",
   "execution_count": 5,
   "metadata": {},
   "outputs": [],
   "source": [
    "def l1_diff(u_coarse, u_fine, dt):\n",
    "    N_coarse = u_coarse.shape[0]\n",
    "    N_fine = u_fine.shape[0]\n",
    "    ratio = math.ceil(N_fine / N_coarse)\n",
    "    diff = dt * numpy.sum(numpy.abs(u_coarse - u_fine[::ratio]))\n",
    "    return diff"
   ]
  },
  {
   "cell_type": "code",
   "execution_count": 6,
   "metadata": {},
   "outputs": [],
   "source": [
    "def rk2_step(u, f, dt, *args):\n",
    "    u_star = u + 0.5 * dt * f(u, *args)\n",
    "    u_new = u + dt * f(u_star, *args)\n",
    "    return u_new"
   ]
  },
  {
   "cell_type": "code",
   "execution_count": 7,
   "metadata": {},
   "outputs": [],
   "source": [
    "T = 15\n",
    "dt = 0.01\n",
    "N = int(T/dt) + 1\n",
    "\n",
    "u_euler = numpy.empty((N, 4))\n",
    "u_rk2 = numpy.empty((N, 4))\n",
    "\n",
    "u_euler[0] = numpy.array([v0, theta0, x0, y0])\n",
    "u_rk2[0] = numpy.array([v0, theta0, x0, y0])\n",
    "\n",
    "\n",
    "for n in range(N-1):\n",
    "    u_euler[n+1] = euler_step(u_euler[n], rhs_phugoid, dt,\n",
    "                              CL, CD, g, vt)\n",
    "    u_rk2[n+1] = rk2_step(u_rk2[n], rhs_phugoid, dt,\n",
    "                          CL, CD, g, vt)"
   ]
  },
  {
   "cell_type": "code",
   "execution_count": 8,
   "metadata": {},
   "outputs": [],
   "source": [
    "x_euler = u_euler[:, 2]\n",
    "y_euler = u_euler[:, 3]\n",
    "x_rk2 = u_rk2[:, 2]\n",
    "y_rk2 = u_rk2[:, 3]"
   ]
  },
  {
   "cell_type": "code",
   "execution_count": 9,
   "metadata": {},
   "outputs": [
    {
     "data": {
      "text/plain": [
       "-0.006819152130811251"
      ]
     },
     "execution_count": 9,
     "metadata": {},
     "output_type": "execute_result"
    }
   ],
   "source": [
    "y_euler[310]"
   ]
  },
  {
   "cell_type": "code",
   "execution_count": 10,
   "metadata": {},
   "outputs": [
    {
     "name": "stdout",
     "output_type": "stream",
     "text": [
      "[ 310  311  312 ... 1498 1499 1500]\n"
     ]
    }
   ],
   "source": [
    "idx_negative_euler = numpy.where(y_euler < 0.0)[0]\n",
    "print(idx_negative_euler)"
   ]
  },
  {
   "cell_type": "code",
   "execution_count": 11,
   "metadata": {},
   "outputs": [],
   "source": [
    "idx_negative_euler = numpy.where(y_euler < 0.0)[0]\n",
    "if len(idx_negative_euler) == 0:\n",
    "    idx_ground_euler = N - 1\n",
    "    print('[Euler] Glider has not touched ground yet!')\n",
    "else:\n",
    "    idx_ground_euler = idx_negative_euler[0]\n",
    "\n",
    "idx_negative_rk2 = numpy.where(y_rk2 < 0.0)[0]\n",
    "if len(idx_negative_rk2) == 0:\n",
    "    idx_ground_rk2 = N - 1\n",
    "    print('[RK2] Glider has not touched ground yet!')\n",
    "else:\n",
    "    idx_ground_rk2 = idx_negative_rk2[0]"
   ]
  },
  {
   "cell_type": "code",
   "execution_count": 12,
   "metadata": {},
   "outputs": [],
   "source": [
    "?numpy.allclose"
   ]
  },
  {
   "cell_type": "code",
   "execution_count": 13,
   "metadata": {},
   "outputs": [
    {
     "name": "stdout",
     "output_type": "stream",
     "text": [
      "Are the x-value close? False\n",
      "Are the y-value close? False\n"
     ]
    }
   ],
   "source": [
    "print('Are the x-value close? {}'.format(numpy.allclose(x_euler, x_rk2)))\n",
    "print('Are the y-value close? {}'.format(numpy.allclose(y_euler, y_rk2)))"
   ]
  },
  {
   "cell_type": "code",
   "execution_count": 14,
   "metadata": {},
   "outputs": [
    {
     "name": "stdout",
     "output_type": "stream",
     "text": [
      "Distance traveled: 14.516\n"
     ]
    },
    {
     "data": {
      "text/plain": [
       "(1.8, 2.5)"
      ]
     },
     "execution_count": 14,
     "metadata": {},
     "output_type": "execute_result"
    },
    {
     "data": {
      "image/png": "[encoded data removed]",
      "text/plain": [
       "<matplotlib.figure.Figure at 0x7f7a1c84def0>"
      ]
     },
     "metadata": {},
     "output_type": "display_data"
    }
   ],
   "source": [
    "print('Distance traveled: {:.3f}'.format(x_rk2[idx_ground_rk2 - 1]))\n",
    "\n",
    "\n",
    "pyplot.figure(figsize=(9.0, 6.0))\n",
    "pyplot.subplot(121)\n",
    "pyplot.grid()\n",
    "pyplot.xlabel('x')\n",
    "pyplot.ylabel('y')\n",
    "pyplot.plot(x_euler[:idx_ground_euler], y_euler[:idx_ground_euler],\n",
    "            label='Euler')\n",
    "pyplot.plot(x_rk2[:idx_ground_rk2], y_rk2[:idx_ground_rk2],\n",
    "            label='RK2')\n",
    "pyplot.legend();\n",
    "\n",
    "pyplot.subplot(122)\n",
    "pyplot.grid()\n",
    "pyplot.xlabel('x')\n",
    "pyplot.ylabel('y')\n",
    "pyplot.plot(x_euler, y_euler, label='Euler')\n",
    "pyplot.plot(x_rk2, y_rk2, label='RK2')\n",
    "pyplot.xlim(0.0, 5.0)\n",
    "pyplot.ylim(1.8, 2.5)"
   ]
  },
  {
   "cell_type": "code",
   "execution_count": 15,
   "metadata": {},
   "outputs": [],
   "source": [
    "?pyplot.subplot"
   ]
  },
  {
   "cell_type": "code",
   "execution_count": 16,
   "metadata": {},
   "outputs": [],
   "source": [
    "dt_values = [0.1, 0.05, 0.01, 0.005, 0.001]\n",
    "\n",
    "\n",
    "u_values = []\n",
    "\n",
    "\n",
    "for dt in dt_values:\n",
    "    N = int(T / dt) + 1\n",
    "    u = numpy.empty((N, 4))\n",
    "    u[0] = numpy.array([v0, theta0, x0, y0])\n",
    "    \n",
    "    for n in range(N - 1):\n",
    "        u[n + 1] = rk2_step(u[n], rhs_phugoid, dt, CL, CD, g, vt)\n",
    "    u_values.append(u)"
   ]
  },
  {
   "cell_type": "code",
   "execution_count": 17,
   "metadata": {},
   "outputs": [],
   "source": [
    "?numpy.append"
   ]
  },
  {
   "cell_type": "code",
   "execution_count": 18,
   "metadata": {},
   "outputs": [],
   "source": [
    "diff_values = []\n",
    "for u, dt in zip(u_values, dt_values):\n",
    "    diff = l1_diff(u[:, 2], u_values[-1][:, 2], dt)\n",
    "    diff_values.append(diff)"
   ]
  },
  {
   "cell_type": "code",
   "execution_count": 19,
   "metadata": {},
   "outputs": [
    {
     "data": {
      "text/plain": [
       "(0.004304458296658676,\n",
       " 0.11615863496415428,\n",
       " 0.00012206651000670047,\n",
       " 0.06806754106597937)"
      ]
     },
     "execution_count": 19,
     "metadata": {},
     "output_type": "execute_result"
    },
    {
     "data": {
      "image/png": "[encoded data removed]",
      "text/plain": [
       "<matplotlib.figure.Figure at 0x7f7a1a319898>"
      ]
     },
     "metadata": {},
     "output_type": "display_data"
    }
   ],
   "source": [
    "pyplot.figure(figsize=(6.0, 6.0))\n",
    "pyplot.title('L1-norm of the difference vs. time-size')\n",
    "pyplot.xlabel('$\\Delta t$')\n",
    "pyplot.ylabel('Difference')\n",
    "pyplot.grid()\n",
    "pyplot.loglog(dt_values[:-1], diff_values[:-1],\n",
    "              color='C0', linestyle='--', marker='o')\n",
    "pyplot.axis('equal')"
   ]
  },
  {
   "cell_type": "code",
   "execution_count": 20,
   "metadata": {},
   "outputs": [],
   "source": [
    "?pyplot.loglog"
   ]
  },
  {
   "cell_type": "code",
   "execution_count": 21,
   "metadata": {},
   "outputs": [
    {
     "name": "stdout",
     "output_type": "stream",
     "text": [
      "Observed order of convergence: p = 1.996\n"
     ]
    }
   ],
   "source": [
    "r = 2\n",
    "h = 0.001\n",
    "\n",
    "dt_values = [h, r * h, r**2 * h]\n",
    "u_values = []\n",
    "\n",
    "for dt in dt_values:\n",
    "    N = int(T / dt) + 1\n",
    "    u = numpy.empty((N, 4))\n",
    "    u[0] = numpy.array([v0, theta0, x0, y0])\n",
    "    \n",
    "    for n in range(N - 1):\n",
    "        u[n + 1] = rk2_step(u[n], rhs_phugoid, dt, CL, CD, g, vt)\n",
    "        \n",
    "    u_values.append(u)\n",
    "    \n",
    "\n",
    "p = (math.log(l1_diff(u_values[2], u_values[1], dt_values[2]) /\n",
    "              l1_diff(u_values[1], u_values[0], dt_values[1])) /\n",
    "     math.log(r))\n",
    "\n",
    "print('Observed order of convergence: p = {:.3f}'.format(p))"
   ]
  },
  {
   "cell_type": "code",
   "execution_count": 22,
   "metadata": {},
   "outputs": [],
   "source": [
    "import time"
   ]
  },
  {
   "cell_type": "markdown",
   "metadata": {},
   "source": [
    "# Challenge task"
   ]
  },
  {
   "cell_type": "code",
   "execution_count": 23,
   "metadata": {},
   "outputs": [
    {
     "name": "stdout",
     "output_type": "stream",
     "text": [
      "Time elapsed:  0.058285000000000586\n"
     ]
    }
   ],
   "source": [
    "t0 = time.clock()\n",
    "\n",
    "\n",
    "T = 15\n",
    "dt = 0.01\n",
    "N = int(T/dt) + 1\n",
    "\n",
    "\n",
    "u_rk2 = numpy.empty((N, 4))\n",
    "\n",
    "\n",
    "u_rk2[0] = numpy.array([v0, theta0, x0, y0])\n",
    "\n",
    "\n",
    "for n in range(N-1):\n",
    "\n",
    "    u_rk2[n+1] = rk2_step(u_rk2[n], rhs_phugoid, dt,\n",
    "                          CL, CD, g, vt)\n",
    "    \n",
    "t1 = time.clock() - t0\n",
    "print(\"Time elapsed: \", t1)"
   ]
  },
  {
   "cell_type": "code",
   "execution_count": 24,
   "metadata": {},
   "outputs": [
    {
     "name": "stdout",
     "output_type": "stream",
     "text": [
      "Time elapsed:  0.011030000000000761\n"
     ]
    }
   ],
   "source": [
    "t0 = time.clock()\n",
    "\n",
    "\n",
    "u_euler = numpy.empty((N, 4))\n",
    "\n",
    "\n",
    "u_euler[0] = numpy.array([v0, theta0, x0, y0])\n",
    "\n",
    "\n",
    "for n in range(N-1):\n",
    "    u_euler[n+1] = euler_step(u_euler[n], rhs_phugoid, dt,\n",
    "                              CL, CD, g, vt)\n",
    "\n",
    "    \n",
    "t2 = time.clock() - t0\n",
    "print(\"Time elapsed: \", t1 - t2)"
   ]
  },
  {
   "cell_type": "markdown",
   "metadata": {},
   "source": [
    "# leapfrog method"
   ]
  },
  {
   "cell_type": "code",
   "execution_count": 25,
   "metadata": {},
   "outputs": [],
   "source": [
    "def leapfrog_step(u_prev, u, f, dt, *args):\n",
    "    u_new = u_prev + 2.0 * dt *f(u, *args)\n",
    "    return u_new"
   ]
  },
  {
   "cell_type": "code",
   "execution_count": 26,
   "metadata": {},
   "outputs": [],
   "source": [
    "g = 9.81\n",
    "vt = 4.9\n",
    "CD = 1.0 / 5.0\n",
    "CL = 1.0\n",
    "\n",
    "\n",
    "v0 = 6.5\n",
    "theta0 = -0.1\n",
    "x0 = 0.0\n",
    "y0 = 2.0\n",
    "\n",
    "T = 15.0\n",
    "dt = 0.01\n",
    "N = int(T / dt) + 1\n",
    "\n",
    "\n",
    "u_leapfrog = numpy.empty((N, 4))\n",
    "\n",
    "u_leapfrog[0] = numpy.array([v0, theta0, x0, y0])\n",
    "\n",
    "u_leapfrog[1] = rk2_step(u_leapfrog[0], rhs_phugoid, dt,\n",
    "                         CL, CD, g, vt)\n",
    "\n",
    "for n in range(1, N - 1):\n",
    "    \n",
    "    u_leapfrog[n + 1] = leapfrog_step(u_leapfrog[n - 1], u_leapfrog[n],\n",
    "                                      rhs_phugoid, dt, \n",
    "                                      CL, CD, g, vt)"
   ]
  },
  {
   "cell_type": "code",
   "execution_count": 27,
   "metadata": {},
   "outputs": [],
   "source": [
    "x_leapfrog = u_leapfrog[:, 2]\n",
    "y_leapfrog = u_leapfrog[:, 3]\n",
    "\n",
    "\n",
    "idx_negative_leapfrog = numpy.where(y_leapfrog < 0.0)[0]\n",
    "if len(idx_negative_leapfrog) == 0:\n",
    "    idx_ground_leapfrog = N - 1\n",
    "    print('[leapfrog] Glider has not touched ground yet!')\n",
    "else:\n",
    "    idx_ground_leapfrog = idx_negative_leapfrog[0]"
   ]
  },
  {
   "cell_type": "code",
   "execution_count": 28,
   "metadata": {},
   "outputs": [
    {
     "name": "stdout",
     "output_type": "stream",
     "text": [
      "Distance traveled: 14.516\n"
     ]
    },
    {
     "data": {
      "text/plain": [
       "(1.8, 2.5)"
      ]
     },
     "execution_count": 28,
     "metadata": {},
     "output_type": "execute_result"
    },
    {
     "data": {
      "image/png": "[encoded data removed]",
      "text/plain": [
       "<matplotlib.figure.Figure at 0x7f7a1a13f358>"
      ]
     },
     "metadata": {},
     "output_type": "display_data"
    }
   ],
   "source": [
    "print('Distance traveled: {:.3f}'.format(x_leapfrog[idx_ground_leapfrog - 1]))\n",
    "\n",
    "\n",
    "pyplot.figure(figsize=(9.0, 6.0))\n",
    "pyplot.subplot(121)\n",
    "pyplot.grid()\n",
    "pyplot.xlabel('x')\n",
    "pyplot.ylabel('y')\n",
    "pyplot.plot(x_leapfrog[:idx_ground_leapfrog],\n",
    "            y_leapfrog[:idx_ground_leapfrog])\n",
    "\n",
    "pyplot.subplot(122)\n",
    "pyplot.grid()\n",
    "pyplot.xlabel('x')\n",
    "pyplot.ylabel('y')\n",
    "pyplot.plot(x_leapfrog, y_leapfrog)\n",
    "pyplot.xlim(0.0, 5.0)\n",
    "pyplot.ylim(1.8, 2.5)"
   ]
  },
  {
   "cell_type": "code",
   "execution_count": 29,
   "metadata": {},
   "outputs": [
    {
     "name": "stdout",
     "output_type": "stream",
     "text": [
      "Observed order of convergence: p = 2.187\n"
     ]
    }
   ],
   "source": [
    "r = 2\n",
    "h = 0.001\n",
    "\n",
    "dt_values = [h, r * h, r**2 * h]\n",
    "u_values = []\n",
    "\n",
    "for dt in dt_values:\n",
    "    N = int(T / dt) + 1\n",
    "    \n",
    "    u = numpy.empty((N, 4))\n",
    "    u[0] = numpy.array([v0, theta0, x0, y0])\n",
    "   \n",
    "    u[1] = rk2_step(u[0], rhs_phugoid, dt, CL, CD, g, vt)\n",
    "    \n",
    "    for n in range(1, N - 1):\n",
    "        u[n + 1] = leapfrog_step(u[n - 1], u[n], rhs_phugoid, dt,\n",
    "                                 CL, CD, g, vt)\n",
    "    \n",
    "    u_values.append(u)\n",
    "\n",
    "\n",
    "p = (math.log(l1_diff(u_values[2][:, 2], u_values[1][:, 2],\n",
    "                      dt_values[2]) /\n",
    "              l1_diff(u_values[1][:, 2], u_values[0][:, 2],\n",
    "                      dt_values[1])) /\n",
    "     math.log(r))\n",
    "\n",
    "print('Observed order of convergence: p = {:.3f}'.format(p))"
   ]
  },
  {
   "cell_type": "code",
   "execution_count": null,
   "metadata": {},
   "outputs": [],
   "source": []
  }
 ],
 "metadata": {
  "kernelspec": {
   "display_name": "Python 3",
   "language": "python",
   "name": "python3"
  },
  "language_info": {
   "codemirror_mode": {
    "name": "ipython",
    "version": 3
   },
   "file_extension": ".py",
   "mimetype": "text/x-python",
   "name": "python",
   "nbconvert_exporter": "python",
   "pygments_lexer": "ipython3",
   "version": "3.6.2"
  }
 },
 "nbformat": 4,
 "nbformat_minor": 2
}
