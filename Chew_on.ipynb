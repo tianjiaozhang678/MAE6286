{
 "cells": [
  {
   "cell_type": "code",
   "execution_count": 1,
   "metadata": {},
   "outputs": [],
   "source": [
    "import math\n",
    "import numpy\n",
    "from matplotlib import pyplot\n",
    "%matplotlib inline"
   ]
  },
  {
   "cell_type": "code",
   "execution_count": 2,
   "metadata": {},
   "outputs": [],
   "source": [
    "pyplot.rcParams['font.family'] = 'serif'\n",
    "pyplot.rcParams['font.size'] = 16"
   ]
  },
  {
   "cell_type": "code",
   "execution_count": 3,
   "metadata": {},
   "outputs": [],
   "source": [
    "def rhs_phugoid(u, CL, CD, g, vt):\n",
    "    \"\"\"\n",
    "    Returns the right-hand side of the phugoid system of equations.\n",
    "    \n",
    "    Parameters\n",
    "    ----------\n",
    "    u : list or numpy.ndarray\n",
    "        Solution at the previous time step\n",
    "        as a list or 1D array of four floats.\n",
    "    CL : float\n",
    "        Lift coefficient.\n",
    "    CD : float\n",
    "        Drag coefficient.\n",
    "    g : float\n",
    "        Gravitational acceleration.\n",
    "    vt : float\n",
    "        Trim velocity.\n",
    "    \n",
    "    Returns\n",
    "    -------\n",
    "    rhs : numpy.ndarray\n",
    "        The right-hand side of the system\n",
    "        as a 1D array of four floats.\n",
    "    \"\"\"\n",
    "    v, theta, x, y = u\n",
    "    rhs = numpy.array([-g * math.sin(theta) - CD / CL * g / vt**2 * v**2,\n",
    "                       -g * math.cos(theta) / v + g / vt**2 * v,\n",
    "                       v * math.cos(theta),\n",
    "                       v * math.sin(theta)])\n",
    "    return rhs"
   ]
  },
  {
   "cell_type": "code",
   "execution_count": 4,
   "metadata": {},
   "outputs": [],
   "source": [
    "def rk2_step(u, f, dt, *args):\n",
    "    \"\"\"\n",
    "    Returns the solution at the next time step using 2nd-order\n",
    "    Runge-Kutta method.\n",
    "    \n",
    "    Parameters\n",
    "    ----------\n",
    "    u : numpy.ndarray\n",
    "        Solution at the previous time step\n",
    "        as a 1D array of floats.\n",
    "    f : function\n",
    "        Function to compute the right-hand side of the system.\n",
    "    dt : float\n",
    "        Time-step size.\n",
    "    args : tuple, optional\n",
    "        Positional arguments to pass to the function f.\n",
    "    \n",
    "    Returns\n",
    "    -------\n",
    "    u_new : numpy.ndarray\n",
    "        The solution at the next time step\n",
    "        as a 1D array of floats.\n",
    "    \"\"\"\n",
    "    u_star = u + 0.5 * dt * f(u, *args)\n",
    "    u_new = u + dt * f(u_star, *args)\n",
    "    return u_new"
   ]
  },
  {
   "cell_type": "code",
   "execution_count": 30,
   "metadata": {},
   "outputs": [],
   "source": [
    "def leapfrog_step(u_prev, u, f, dt, *args):\n",
    "    \"\"\"\n",
    "    Returns the solution at the next time step using \n",
    "    the leapfrog method.\n",
    "    \n",
    "    Parameters\n",
    "    ----------\n",
    "    u_prev : numpy.ndarray\n",
    "        Solution at the time step n-1\n",
    "        as a 1D array of floats.\n",
    "    u : numpy.ndarray\n",
    "        Solution at the previous time step\n",
    "        as a 1D array of floats.\n",
    "    f : function\n",
    "        Function to compute the right-hand side of the system.\n",
    "    dt : float\n",
    "        Time-step size.\n",
    "    args : tuple, optional\n",
    "        Positional arguments to pass to the function f.\n",
    "    \n",
    "    Returns\n",
    "    -------\n",
    "    u_new : numpy.ndarray\n",
    "        The solution at the next time step\n",
    "        as a 1D array of floats.\n",
    "    \"\"\"\n",
    "    u_new = u_prev + 2.0 * dt * f(u, *args)\n",
    "    return u_new"
   ]
  },
  {
   "cell_type": "code",
   "execution_count": 43,
   "metadata": {},
   "outputs": [],
   "source": [
    "g = 9.81  # gravitational acceleration (m.s^{-2})\n",
    "vt = 4.9  # trim velocity (m.s)\n",
    "CD = 1.0 / 5.0  # drag coefficient\n",
    "CL = 1.0  # lift coefficient\n",
    "\n",
    "# Set initial conditions.\n",
    "v0 = 6.5  # start at the trim velocity\n",
    "theta0 = -0.1  # trajectory angle\n",
    "x0 = 0.0  # horizontal position\n",
    "y0 = 25.0  # vertical position (altitude)\n",
    "\n",
    "T = 30.0  # length of the time interval\n",
    "dt = 0.01  # time-step size\n",
    "N = int(T / dt) + 1  # number of time steps\n",
    "\n",
    "# Create arrays to store the solution at each time step.\n",
    "u_leapfrog = numpy.empty((N, 4))\n",
    "# Set the initial conditions.\n",
    "u_leapfrog[0] = numpy.array([v0, theta0, x0, y0])\n",
    "# Use the RK2 method for the first time step.\n",
    "u_leapfrog[1] = rk2_step(u_leapfrog[0], rhs_phugoid, dt, CL, CD, g, vt)"
   ]
  },
  {
   "cell_type": "code",
   "execution_count": 44,
   "metadata": {},
   "outputs": [],
   "source": [
    "for n in range(1, N - 1):\n",
    "    u_leapfrog[n + 1] = leapfrog_step(u_leapfrog[n - 1], u_leapfrog[n],\n",
    "                                      rhs_phugoid, dt, CL, CD, g, vt)"
   ]
  },
  {
   "cell_type": "code",
   "execution_count": 45,
   "metadata": {},
   "outputs": [],
   "source": [
    "x_leapfrog = u_leapfrog[:, 2]\n",
    "y_leapfrog = u_leapfrog[:, 3]\n",
    "\n",
    "# Get the index of the first negative element of y_leapfrog.\n",
    "idx_negative_leapfrog = numpy.where(y_leapfrog < 0.0)[0]\n",
    "if len(idx_negative_leapfrog) == 0:\n",
    "    idx_ground_leapfrog = N - 1\n",
    "    print('[leapfrog] Glider has not touched ground yet!')\n",
    "else:\n",
    "    idx_ground_leapfrog = idx_negative_leapfrog[0]"
   ]
  },
  {
   "cell_type": "code",
   "execution_count": 46,
   "metadata": {},
   "outputs": [
    {
     "name": "stdout",
     "output_type": "stream",
     "text": [
      "Distance traveled: 123.917\n"
     ]
    },
    {
     "data": {
      "text/plain": [
       "(1.8, 2.5)"
      ]
     },
     "execution_count": 46,
     "metadata": {},
     "output_type": "execute_result"
    },
    {
     "data": {
      "image/png": "[encoded data removed]",
      "text/plain": [
       "<matplotlib.figure.Figure at 0x7f2ffda95f98>"
      ]
     },
     "metadata": {},
     "output_type": "display_data"
    }
   ],
   "source": [
    "print('Distance traveled: {:.3f}'.format(x_leapfrog[idx_ground_leapfrog - 1]))\n",
    "\n",
    "# Plot the glider's path for the leapfrog scheme.\n",
    "pyplot.figure(figsize=(9.0, 6.0))\n",
    "pyplot.subplot(121)\n",
    "pyplot.grid()\n",
    "pyplot.xlabel('x')\n",
    "pyplot.ylabel('y')\n",
    "pyplot.plot(x_leapfrog[:idx_ground_leapfrog],\n",
    "            y_leapfrog[:idx_ground_leapfrog])\n",
    "# Let's take a closer look!\n",
    "pyplot.subplot(122)\n",
    "pyplot.grid()\n",
    "pyplot.xlabel('x')\n",
    "pyplot.ylabel('y')\n",
    "pyplot.plot(x_leapfrog, y_leapfrog)\n",
    "pyplot.xlim(0.0, 5.0)\n",
    "pyplot.ylim(1.8, 2.5)"
   ]
  },
  {
   "cell_type": "code",
   "execution_count": null,
   "metadata": {},
   "outputs": [],
   "source": []
  }
 ],
 "metadata": {
  "kernelspec": {
   "display_name": "Python 3",
   "language": "python",
   "name": "python3"
  },
  "language_info": {
   "codemirror_mode": {
    "name": "ipython",
    "version": 3
   },
   "file_extension": ".py",
   "mimetype": "text/x-python",
   "name": "python",
   "nbconvert_exporter": "python",
   "pygments_lexer": "ipython3",
   "version": "3.6.2"
  }
 },
 "nbformat": 4,
 "nbformat_minor": 2
}
